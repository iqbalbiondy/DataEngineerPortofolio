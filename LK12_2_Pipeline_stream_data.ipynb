{
  "nbformat": 4,
  "nbformat_minor": 0,
  "metadata": {
    "colab": {
      "provenance": []
    },
    "kernelspec": {
      "name": "python3",
      "display_name": "Python 3"
    },
    "language_info": {
      "name": "python"
    }
  },
  "cells": [
    {
      "cell_type": "markdown",
      "source": [
        "# **LK 12.2 Pipeline Stream Data**\n",
        "\n",
        "Nama : Iqbal Biondy\n",
        "NIM  : 205150601111009\n",
        "Kelas: Data Engineering-B\n",
        "\n",
        "\n",
        "\n",
        "\n"
      ],
      "metadata": {
        "id": "q7pbkwgYfbqo"
      }
    },
    {
      "cell_type": "markdown",
      "source": [
        "# Data descriptions"
      ],
      "metadata": {
        "id": "_MESJHJgf9pT"
      }
    },
    {
      "cell_type": "markdown",
      "source": [
        "**About Dataset**\n",
        "\n",
        "This is the real-time JSON version of the COVID-19 Coronavirus Dataset Worldwide dataset, furthermore, the collection methodology can be read through: https://www.ecdc.europa.eu/en/covid-19/data-collection\n",
        "\n",
        "Context\n",
        "\n",
        "The worldwide situation about the COVID-19 (by 2019-03-23), data provided by the European Centre for Disease Prevention and Control and published on the EU Open Data Portal.\n",
        "\n",
        "Content\n",
        "\n",
        "The dataset contains the latest available public data on COVID-19 including a daily situation update, the epidemiological curve and the global geographical distribution (EU/EEA and the UK, worldwide). On 12 February 2020, the novel coronavirus was named severe acute respiratory syndrome coronavirus 2 (SARS-CoV-2) while the disease associated with it is now referred to as COVID-19. ECDC is closely monitoring this outbreak and providing risk assessments to guide EU Member States and the EU Commission in their response activities.\n",
        "\n",
        "Acknowledgements\n",
        "\n",
        "Official link: https://data.europa.eu/euodp/en/data/dataset/covid-19-coronavirus-data"
      ],
      "metadata": {
        "id": "PJ5lDG0Xr2rV"
      }
    },
    {
      "cell_type": "markdown",
      "source": [
        "data source : https://www.kaggle.com/datasets/hgultekin/covid19-stream-data?select=json_1"
      ],
      "metadata": {
        "id": "3CWFNnyCZ3cZ"
      }
    },
    {
      "cell_type": "markdown",
      "source": [
        "# Tap Schema"
      ],
      "metadata": {
        "id": "ywXWtdjJs2dh"
      }
    },
    {
      "cell_type": "code",
      "source": [
        "!pip install -q kaggle\n",
        "!wget https://raw.githubusercontent.com/yoga-sugitha/DataEngineering/main/kaggle.json\n",
        "!mkdir ~/.kaggle\n",
        "!cp kaggle.json ~/.kaggle/\n",
        "!chmod 600 ~/.kaggle/kaggle.json\n",
        "!kaggle datasets download -d hgultekin/covid19-stream-data\n",
        "!mkdir /content/covid_stream\n",
        "!unzip covid19-stream-data.zip -d covid_stream && rm covid19-stream-data.zip"
      ],
      "metadata": {
        "colab": {
          "base_uri": "https://localhost:8080/"
        },
        "id": "BtpwvFm7VrL-",
        "outputId": "f221752c-b9e9-4466-efb5-05ad2cd9e7e5"
      },
      "execution_count": null,
      "outputs": [
        {
          "output_type": "stream",
          "name": "stdout",
          "text": [
            "--2022-11-22 13:15:29--  https://raw.githubusercontent.com/yoga-sugitha/DataEngineering/main/kaggle.json\n",
            "Resolving raw.githubusercontent.com (raw.githubusercontent.com)... 185.199.110.133, 185.199.111.133, 185.199.109.133, ...\n",
            "Connecting to raw.githubusercontent.com (raw.githubusercontent.com)|185.199.110.133|:443... connected.\n",
            "HTTP request sent, awaiting response... 200 OK\n",
            "Length: 62 [text/plain]\n",
            "Saving to: ‘kaggle.json’\n",
            "\n",
            "kaggle.json         100%[===================>]      62  --.-KB/s    in 0s      \n",
            "\n",
            "2022-11-22 13:15:30 (1.71 MB/s) - ‘kaggle.json’ saved [62/62]\n",
            "\n",
            "Downloading covid19-stream-data.zip to /content\n",
            "  0% 0.00/1.32M [00:00<?, ?B/s]\n",
            "100% 1.32M/1.32M [00:00<00:00, 132MB/s]\n",
            "Archive:  covid19-stream-data.zip\n",
            "  inflating: covid_stream/json       \n",
            "  inflating: covid_stream/json_1     \n"
          ]
        }
      ]
    },
    {
      "cell_type": "code",
      "source": [
        "!pip install pyspark"
      ],
      "metadata": {
        "colab": {
          "base_uri": "https://localhost:8080/"
        },
        "id": "znvZa2JJX44N",
        "outputId": "96a147a7-055f-4972-c920-7e65274f77e3"
      },
      "execution_count": null,
      "outputs": [
        {
          "output_type": "stream",
          "name": "stdout",
          "text": [
            "Looking in indexes: https://pypi.org/simple, https://us-python.pkg.dev/colab-wheels/public/simple/\n",
            "Collecting pyspark\n",
            "  Downloading pyspark-3.3.1.tar.gz (281.4 MB)\n",
            "\u001b[K     |████████████████████████████████| 281.4 MB 33 kB/s \n",
            "\u001b[?25hCollecting py4j==0.10.9.5\n",
            "  Downloading py4j-0.10.9.5-py2.py3-none-any.whl (199 kB)\n",
            "\u001b[K     |████████████████████████████████| 199 kB 42.8 MB/s \n",
            "\u001b[?25hBuilding wheels for collected packages: pyspark\n",
            "  Building wheel for pyspark (setup.py) ... \u001b[?25l\u001b[?25hdone\n",
            "  Created wheel for pyspark: filename=pyspark-3.3.1-py2.py3-none-any.whl size=281845512 sha256=e76d10a3d4ae5c043812f69ce874e25c995fa84cacd371517a5f2e5da1f694bd\n",
            "  Stored in directory: /root/.cache/pip/wheels/42/59/f5/79a5bf931714dcd201b26025347785f087370a10a3329a899c\n",
            "Successfully built pyspark\n",
            "Installing collected packages: py4j, pyspark\n",
            "Successfully installed py4j-0.10.9.5 pyspark-3.3.1\n"
          ]
        }
      ]
    },
    {
      "cell_type": "code",
      "source": [
        "!apt-get install openjdk-8-jdk-headless -qq > /dev/null"
      ],
      "metadata": {
        "id": "H_FfYcXMX7dU"
      },
      "execution_count": null,
      "outputs": []
    },
    {
      "cell_type": "code",
      "source": [
        "!wget https://dlcdn.apache.org/spark/spark-3.3.1/spark-3.3.1-bin-hadoop3.tgz"
      ],
      "metadata": {
        "colab": {
          "base_uri": "https://localhost:8080/"
        },
        "id": "pHgZI1sSX-I1",
        "outputId": "7e2424f6-7cca-4ab9-a150-de8cf009b0a2"
      },
      "execution_count": null,
      "outputs": [
        {
          "output_type": "stream",
          "name": "stdout",
          "text": [
            "--2022-11-22 13:16:48--  https://dlcdn.apache.org/spark/spark-3.3.1/spark-3.3.1-bin-hadoop3.tgz\n",
            "Resolving dlcdn.apache.org (dlcdn.apache.org)... 151.101.2.132, 2a04:4e42::644\n",
            "Connecting to dlcdn.apache.org (dlcdn.apache.org)|151.101.2.132|:443... connected.\n",
            "HTTP request sent, awaiting response... 200 OK\n",
            "Length: 299350810 (285M) [application/x-gzip]\n",
            "Saving to: ‘spark-3.3.1-bin-hadoop3.tgz’\n",
            "\n",
            "spark-3.3.1-bin-had 100%[===================>] 285.48M   179MB/s    in 1.6s    \n",
            "\n",
            "2022-11-22 13:16:50 (179 MB/s) - ‘spark-3.3.1-bin-hadoop3.tgz’ saved [299350810/299350810]\n",
            "\n"
          ]
        }
      ]
    },
    {
      "cell_type": "code",
      "source": [
        "!tar xf spark-3.3.1-bin-hadoop3.tgz"
      ],
      "metadata": {
        "id": "wFoH8LQTYAfE"
      },
      "execution_count": null,
      "outputs": []
    },
    {
      "cell_type": "code",
      "source": [
        "!pip install -q findspark"
      ],
      "metadata": {
        "id": "xXm3LpWfYD3G"
      },
      "execution_count": null,
      "outputs": []
    },
    {
      "cell_type": "markdown",
      "source": [
        "import library"
      ],
      "metadata": {
        "id": "xK4jD9m-fWiL"
      }
    },
    {
      "cell_type": "code",
      "source": [
        "import pandas as pd\n",
        "import os\n",
        "import findspark\n",
        "from  pandas import json_normalize\n",
        "from pyspark.sql import SparkSession\n",
        "from pyspark.sql import Row\n",
        "from datetime import datetime"
      ],
      "metadata": {
        "id": "8D7ycoopV-7b"
      },
      "execution_count": null,
      "outputs": []
    },
    {
      "cell_type": "code",
      "source": [
        "os.environ[\"JAVA_HOME\"] = \"/usr/lib/jvm/java-8-openjdk-amd64\"\n",
        "os.environ[\"SPARK_HOME\"] = \"/content/spark-3.3.1-bin-hadoop3\""
      ],
      "metadata": {
        "id": "DU_qkQlgYR2S"
      },
      "execution_count": null,
      "outputs": []
    },
    {
      "cell_type": "code",
      "source": [
        "findspark.init()\n",
        "spark = SparkSession.builder.master(\"local[*]\").getOrCreate()"
      ],
      "metadata": {
        "id": "KGtH7oL7YTio"
      },
      "execution_count": null,
      "outputs": []
    },
    {
      "cell_type": "markdown",
      "source": [
        "## extract data"
      ],
      "metadata": {
        "id": "G41_IzdJ2U30"
      }
    },
    {
      "cell_type": "code",
      "source": [
        "#normalize data multiline using pandas before go with tap schema pyspark\n",
        "df = pd.read_json('/content/covid_stream/json')\n",
        "df2 = json_normalize(df['records'])"
      ],
      "metadata": {
        "id": "8wAHjAXxYXQK"
      },
      "execution_count": null,
      "outputs": []
    },
    {
      "cell_type": "code",
      "source": [
        "#create spark dataframe using normalized pandas dataframe\n",
        "dfCov = spark.createDataFrame(df2)\n",
        "dfCov.show(10)"
      ],
      "metadata": {
        "colab": {
          "base_uri": "https://localhost:8080/"
        },
        "id": "fTrKJq0-rNZ4",
        "outputId": "35492f25-d960-4eb3-9d5b-06e26e869fbf"
      },
      "execution_count": null,
      "outputs": [
        {
          "output_type": "stream",
          "name": "stdout",
          "text": [
            "+----------+---+-----+----+-----+------+-----------------------+-----+--------------------+-----------+------------+----------------------------------------------------------+\n",
            "|   dateRep|day|month|year|cases|deaths|countriesAndTerritories|geoId|countryterritoryCode|popData2019|continentExp|Cumulative_number_for_14_days_of_COVID-19_cases_per_100000|\n",
            "+----------+---+-----+----+-----+------+-----------------------+-----+--------------------+-----------+------------+----------------------------------------------------------+\n",
            "|14/12/2020| 14|   12|2020|  746|     6|            Afghanistan|   AF|                 AFG|3.8041757E7|        Asia|                                                9.01377925|\n",
            "|13/12/2020| 13|   12|2020|  298|     9|            Afghanistan|   AF|                 AFG|3.8041757E7|        Asia|                                                7.05277624|\n",
            "|12/12/2020| 12|   12|2020|  113|    11|            Afghanistan|   AF|                 AFG|3.8041757E7|        Asia|                                                6.86876792|\n",
            "|11/12/2020| 11|   12|2020|   63|    10|            Afghanistan|   AF|                 AFG|3.8041757E7|        Asia|                                                7.13426564|\n",
            "|10/12/2020| 10|   12|2020|  202|    16|            Afghanistan|   AF|                 AFG|3.8041757E7|        Asia|                                                6.96865815|\n",
            "|09/12/2020| 09|   12|2020|  135|    13|            Afghanistan|   AF|                 AFG|3.8041757E7|        Asia|                                                6.96340077|\n",
            "|08/12/2020| 08|   12|2020|  200|     6|            Afghanistan|   AF|                 AFG|3.8041757E7|        Asia|                                                7.09483529|\n",
            "|07/12/2020| 07|   12|2020|  210|    26|            Afghanistan|   AF|                 AFG|3.8041757E7|        Asia|                                                7.21575505|\n",
            "|06/12/2020| 06|   12|2020|  234|    10|            Afghanistan|   AF|                 AFG|3.8041757E7|        Asia|                                                7.32616004|\n",
            "|05/12/2020| 05|   12|2020|  235|    18|            Afghanistan|   AF|                 AFG|3.8041757E7|        Asia|                                                7.11586481|\n",
            "+----------+---+-----+----+-----+------+-----------------------+-----+--------------------+-----------+------------+----------------------------------------------------------+\n",
            "only showing top 10 rows\n",
            "\n"
          ]
        }
      ]
    },
    {
      "cell_type": "markdown",
      "source": [
        "## Transform data"
      ],
      "metadata": {
        "id": "a029-pVj2iSQ"
      }
    },
    {
      "cell_type": "code",
      "source": [
        "dfCov.printSchema()"
      ],
      "metadata": {
        "colab": {
          "base_uri": "https://localhost:8080/"
        },
        "id": "gx2C-a36tmFp",
        "outputId": "6282215b-43cd-4eab-d506-f738ae17c75a"
      },
      "execution_count": null,
      "outputs": [
        {
          "output_type": "stream",
          "name": "stdout",
          "text": [
            "root\n",
            " |-- dateRep: string (nullable = true)\n",
            " |-- day: string (nullable = true)\n",
            " |-- month: string (nullable = true)\n",
            " |-- year: string (nullable = true)\n",
            " |-- cases: long (nullable = true)\n",
            " |-- deaths: long (nullable = true)\n",
            " |-- countriesAndTerritories: string (nullable = true)\n",
            " |-- geoId: string (nullable = true)\n",
            " |-- countryterritoryCode: string (nullable = true)\n",
            " |-- popData2019: double (nullable = true)\n",
            " |-- continentExp: string (nullable = true)\n",
            " |-- Cumulative_number_for_14_days_of_COVID-19_cases_per_100000: string (nullable = true)\n",
            "\n"
          ]
        }
      ]
    },
    {
      "cell_type": "markdown",
      "source": [
        "akan dilakukan drop column `day`, `month`, dan `year` pada dataframe dvCov. Column ini di drop karena sudah ada `dateRep` sebagai column yang memuat date data stream nya"
      ],
      "metadata": {
        "id": "bY5SC1vf3JSB"
      }
    },
    {
      "cell_type": "code",
      "source": [
        "#function to drop column from spark dataframe\n",
        "def dropCol(df, col):\n",
        "  for cols in col:\n",
        "    df = df.drop(cols)\n",
        "  return df\n",
        "dfCov = dropCol(dfCov, {'day','month','year','popData2019','Cumulative_number_for_14_days_of_COVID-19_cases_per_100000'})"
      ],
      "metadata": {
        "id": "FyuFydo_48IY"
      },
      "execution_count": null,
      "outputs": []
    },
    {
      "cell_type": "code",
      "source": [
        "dfCov.printSchema()"
      ],
      "metadata": {
        "colab": {
          "base_uri": "https://localhost:8080/"
        },
        "id": "D2NlXzZC7t9a",
        "outputId": "153ecca1-3d43-4d91-f4bc-89b4b59409f9"
      },
      "execution_count": null,
      "outputs": [
        {
          "output_type": "stream",
          "name": "stdout",
          "text": [
            "root\n",
            " |-- dateRep: string (nullable = true)\n",
            " |-- cases: long (nullable = true)\n",
            " |-- deaths: long (nullable = true)\n",
            " |-- countriesAndTerritories: string (nullable = true)\n",
            " |-- geoId: string (nullable = true)\n",
            " |-- countryterritoryCode: string (nullable = true)\n",
            " |-- continentExp: string (nullable = true)\n",
            "\n"
          ]
        }
      ]
    },
    {
      "cell_type": "code",
      "source": [
        "dfCov.withColumnRenamed('countriesAndTerritories', 'country').withColumnRenamed('countryterritoryCode','countryCode').withColumnRenamed('continentExp','continent').show()"
      ],
      "metadata": {
        "colab": {
          "base_uri": "https://localhost:8080/"
        },
        "id": "s-PARO82JmcJ",
        "outputId": "198c6e9f-6d22-421a-8a86-dd599fe9abd8"
      },
      "execution_count": null,
      "outputs": [
        {
          "output_type": "stream",
          "name": "stdout",
          "text": [
            "+----------+-----+------+-----------+-----+-----------+---------+\n",
            "|   dateRep|cases|deaths|    country|geoId|countryCode|continent|\n",
            "+----------+-----+------+-----------+-----+-----------+---------+\n",
            "|14/12/2020|  746|     6|Afghanistan|   AF|        AFG|     Asia|\n",
            "|13/12/2020|  298|     9|Afghanistan|   AF|        AFG|     Asia|\n",
            "|12/12/2020|  113|    11|Afghanistan|   AF|        AFG|     Asia|\n",
            "|11/12/2020|   63|    10|Afghanistan|   AF|        AFG|     Asia|\n",
            "|10/12/2020|  202|    16|Afghanistan|   AF|        AFG|     Asia|\n",
            "|09/12/2020|  135|    13|Afghanistan|   AF|        AFG|     Asia|\n",
            "|08/12/2020|  200|     6|Afghanistan|   AF|        AFG|     Asia|\n",
            "|07/12/2020|  210|    26|Afghanistan|   AF|        AFG|     Asia|\n",
            "|06/12/2020|  234|    10|Afghanistan|   AF|        AFG|     Asia|\n",
            "|05/12/2020|  235|    18|Afghanistan|   AF|        AFG|     Asia|\n",
            "|04/12/2020|  119|     5|Afghanistan|   AF|        AFG|     Asia|\n",
            "|03/12/2020|  202|    19|Afghanistan|   AF|        AFG|     Asia|\n",
            "|02/12/2020|  400|    48|Afghanistan|   AF|        AFG|     Asia|\n",
            "|01/12/2020|  272|    11|Afghanistan|   AF|        AFG|     Asia|\n",
            "|30/11/2020|    0|     0|Afghanistan|   AF|        AFG|     Asia|\n",
            "|29/11/2020|  228|    11|Afghanistan|   AF|        AFG|     Asia|\n",
            "|28/11/2020|  214|    15|Afghanistan|   AF|        AFG|     Asia|\n",
            "|27/11/2020|    0|     0|Afghanistan|   AF|        AFG|     Asia|\n",
            "|26/11/2020|  200|    12|Afghanistan|   AF|        AFG|     Asia|\n",
            "|25/11/2020|  185|    13|Afghanistan|   AF|        AFG|     Asia|\n",
            "+----------+-----+------+-----------+-----+-----------+---------+\n",
            "only showing top 20 rows\n",
            "\n"
          ]
        }
      ]
    },
    {
      "cell_type": "code",
      "source": [
        "dfCov.show(5)"
      ],
      "metadata": {
        "colab": {
          "base_uri": "https://localhost:8080/"
        },
        "id": "pdvAwKSgUI-f",
        "outputId": "949c637c-876c-4283-d479-84f14861a3f8"
      },
      "execution_count": null,
      "outputs": [
        {
          "output_type": "stream",
          "name": "stdout",
          "text": [
            "+----------+-----+------+-----------------------+-----+--------------------+------------+\n",
            "|   dateRep|cases|deaths|countriesAndTerritories|geoId|countryterritoryCode|continentExp|\n",
            "+----------+-----+------+-----------------------+-----+--------------------+------------+\n",
            "|14/12/2020|  746|     6|            Afghanistan|   AF|                 AFG|        Asia|\n",
            "|13/12/2020|  298|     9|            Afghanistan|   AF|                 AFG|        Asia|\n",
            "|12/12/2020|  113|    11|            Afghanistan|   AF|                 AFG|        Asia|\n",
            "|11/12/2020|   63|    10|            Afghanistan|   AF|                 AFG|        Asia|\n",
            "|10/12/2020|  202|    16|            Afghanistan|   AF|                 AFG|        Asia|\n",
            "+----------+-----+------+-----------------------+-----+--------------------+------------+\n",
            "only showing top 5 rows\n",
            "\n"
          ]
        }
      ]
    },
    {
      "cell_type": "code",
      "source": [
        "#check & count any null value in dataframe\n",
        "from pyspark.sql.functions import isnan, when, count, col\n",
        "\n",
        "dfCov.select([count(when(isnan(c), c)).alias(c) for c in dfCov.columns]).show()"
      ],
      "metadata": {
        "colab": {
          "base_uri": "https://localhost:8080/"
        },
        "id": "ogvOViBo8bvl",
        "outputId": "8e246c77-08ef-47a0-8bec-adabe8635232"
      },
      "execution_count": null,
      "outputs": [
        {
          "output_type": "stream",
          "name": "stdout",
          "text": [
            "+-------+-----+------+-----------------------+-----+--------------------+------------+\n",
            "|dateRep|cases|deaths|countriesAndTerritories|geoId|countryterritoryCode|continentExp|\n",
            "+-------+-----+------+-----------------------+-----+--------------------+------------+\n",
            "|      0|    0|     0|                      0|    0|                   0|           0|\n",
            "+-------+-----+------+-----------------------+-----+--------------------+------------+\n",
            "\n"
          ]
        }
      ]
    },
    {
      "cell_type": "code",
      "source": [
        "from pyspark.sql.functions import to_date\n",
        "df1 = dfCov.withColumn('dateRep',to_date(dfCov.dateRep, 'dd/MM/yyyy'))"
      ],
      "metadata": {
        "id": "VaUzkcLmNJ8k"
      },
      "execution_count": null,
      "outputs": []
    },
    {
      "cell_type": "code",
      "source": [
        "df1.printSchema()"
      ],
      "metadata": {
        "colab": {
          "base_uri": "https://localhost:8080/"
        },
        "id": "SUmADhknOYsK",
        "outputId": "7b59249e-099e-4928-cc98-be6e923f0f46"
      },
      "execution_count": null,
      "outputs": [
        {
          "output_type": "stream",
          "name": "stdout",
          "text": [
            "root\n",
            " |-- dateRep: date (nullable = true)\n",
            " |-- cases: long (nullable = true)\n",
            " |-- deaths: long (nullable = true)\n",
            " |-- countriesAndTerritories: string (nullable = true)\n",
            " |-- geoId: string (nullable = true)\n",
            " |-- countryterritoryCode: string (nullable = true)\n",
            " |-- continentExp: string (nullable = true)\n",
            "\n"
          ]
        }
      ]
    },
    {
      "cell_type": "markdown",
      "source": [
        "## Visualize dataframe"
      ],
      "metadata": {
        "id": "RF1nIWxLQr7n"
      }
    },
    {
      "cell_type": "code",
      "source": [
        "import seaborn as sns"
      ],
      "metadata": {
        "id": "JMEdHaNVW52-"
      },
      "execution_count": null,
      "outputs": []
    },
    {
      "cell_type": "code",
      "source": [
        "#convert pysprak dataframe to pandas dataframe\n",
        "df_Covid = dfCov.toPandas()\n",
        "df_Covid.head()"
      ],
      "metadata": {
        "colab": {
          "base_uri": "https://localhost:8080/",
          "height": 206
        },
        "id": "hTGhHBDQQrdz",
        "outputId": "6faee54e-f2c9-48ad-b1e5-aac75949144a"
      },
      "execution_count": null,
      "outputs": [
        {
          "output_type": "execute_result",
          "data": {
            "text/plain": [
              "      dateRep  cases  deaths countriesAndTerritories geoId  \\\n",
              "0  14/12/2020    746       6             Afghanistan    AF   \n",
              "1  13/12/2020    298       9             Afghanistan    AF   \n",
              "2  12/12/2020    113      11             Afghanistan    AF   \n",
              "3  11/12/2020     63      10             Afghanistan    AF   \n",
              "4  10/12/2020    202      16             Afghanistan    AF   \n",
              "\n",
              "  countryterritoryCode continentExp  \n",
              "0                  AFG         Asia  \n",
              "1                  AFG         Asia  \n",
              "2                  AFG         Asia  \n",
              "3                  AFG         Asia  \n",
              "4                  AFG         Asia  "
            ],
            "text/html": [
              "\n",
              "  <div id=\"df-039a4d0c-2997-4cc7-ba7f-bf86fe3b2eec\">\n",
              "    <div class=\"colab-df-container\">\n",
              "      <div>\n",
              "<style scoped>\n",
              "    .dataframe tbody tr th:only-of-type {\n",
              "        vertical-align: middle;\n",
              "    }\n",
              "\n",
              "    .dataframe tbody tr th {\n",
              "        vertical-align: top;\n",
              "    }\n",
              "\n",
              "    .dataframe thead th {\n",
              "        text-align: right;\n",
              "    }\n",
              "</style>\n",
              "<table border=\"1\" class=\"dataframe\">\n",
              "  <thead>\n",
              "    <tr style=\"text-align: right;\">\n",
              "      <th></th>\n",
              "      <th>dateRep</th>\n",
              "      <th>cases</th>\n",
              "      <th>deaths</th>\n",
              "      <th>countriesAndTerritories</th>\n",
              "      <th>geoId</th>\n",
              "      <th>countryterritoryCode</th>\n",
              "      <th>continentExp</th>\n",
              "    </tr>\n",
              "  </thead>\n",
              "  <tbody>\n",
              "    <tr>\n",
              "      <th>0</th>\n",
              "      <td>14/12/2020</td>\n",
              "      <td>746</td>\n",
              "      <td>6</td>\n",
              "      <td>Afghanistan</td>\n",
              "      <td>AF</td>\n",
              "      <td>AFG</td>\n",
              "      <td>Asia</td>\n",
              "    </tr>\n",
              "    <tr>\n",
              "      <th>1</th>\n",
              "      <td>13/12/2020</td>\n",
              "      <td>298</td>\n",
              "      <td>9</td>\n",
              "      <td>Afghanistan</td>\n",
              "      <td>AF</td>\n",
              "      <td>AFG</td>\n",
              "      <td>Asia</td>\n",
              "    </tr>\n",
              "    <tr>\n",
              "      <th>2</th>\n",
              "      <td>12/12/2020</td>\n",
              "      <td>113</td>\n",
              "      <td>11</td>\n",
              "      <td>Afghanistan</td>\n",
              "      <td>AF</td>\n",
              "      <td>AFG</td>\n",
              "      <td>Asia</td>\n",
              "    </tr>\n",
              "    <tr>\n",
              "      <th>3</th>\n",
              "      <td>11/12/2020</td>\n",
              "      <td>63</td>\n",
              "      <td>10</td>\n",
              "      <td>Afghanistan</td>\n",
              "      <td>AF</td>\n",
              "      <td>AFG</td>\n",
              "      <td>Asia</td>\n",
              "    </tr>\n",
              "    <tr>\n",
              "      <th>4</th>\n",
              "      <td>10/12/2020</td>\n",
              "      <td>202</td>\n",
              "      <td>16</td>\n",
              "      <td>Afghanistan</td>\n",
              "      <td>AF</td>\n",
              "      <td>AFG</td>\n",
              "      <td>Asia</td>\n",
              "    </tr>\n",
              "  </tbody>\n",
              "</table>\n",
              "</div>\n",
              "      <button class=\"colab-df-convert\" onclick=\"convertToInteractive('df-039a4d0c-2997-4cc7-ba7f-bf86fe3b2eec')\"\n",
              "              title=\"Convert this dataframe to an interactive table.\"\n",
              "              style=\"display:none;\">\n",
              "        \n",
              "  <svg xmlns=\"http://www.w3.org/2000/svg\" height=\"24px\"viewBox=\"0 0 24 24\"\n",
              "       width=\"24px\">\n",
              "    <path d=\"M0 0h24v24H0V0z\" fill=\"none\"/>\n",
              "    <path d=\"M18.56 5.44l.94 2.06.94-2.06 2.06-.94-2.06-.94-.94-2.06-.94 2.06-2.06.94zm-11 1L8.5 8.5l.94-2.06 2.06-.94-2.06-.94L8.5 2.5l-.94 2.06-2.06.94zm10 10l.94 2.06.94-2.06 2.06-.94-2.06-.94-.94-2.06-.94 2.06-2.06.94z\"/><path d=\"M17.41 7.96l-1.37-1.37c-.4-.4-.92-.59-1.43-.59-.52 0-1.04.2-1.43.59L10.3 9.45l-7.72 7.72c-.78.78-.78 2.05 0 2.83L4 21.41c.39.39.9.59 1.41.59.51 0 1.02-.2 1.41-.59l7.78-7.78 2.81-2.81c.8-.78.8-2.07 0-2.86zM5.41 20L4 18.59l7.72-7.72 1.47 1.35L5.41 20z\"/>\n",
              "  </svg>\n",
              "      </button>\n",
              "      \n",
              "  <style>\n",
              "    .colab-df-container {\n",
              "      display:flex;\n",
              "      flex-wrap:wrap;\n",
              "      gap: 12px;\n",
              "    }\n",
              "\n",
              "    .colab-df-convert {\n",
              "      background-color: #E8F0FE;\n",
              "      border: none;\n",
              "      border-radius: 50%;\n",
              "      cursor: pointer;\n",
              "      display: none;\n",
              "      fill: #1967D2;\n",
              "      height: 32px;\n",
              "      padding: 0 0 0 0;\n",
              "      width: 32px;\n",
              "    }\n",
              "\n",
              "    .colab-df-convert:hover {\n",
              "      background-color: #E2EBFA;\n",
              "      box-shadow: 0px 1px 2px rgba(60, 64, 67, 0.3), 0px 1px 3px 1px rgba(60, 64, 67, 0.15);\n",
              "      fill: #174EA6;\n",
              "    }\n",
              "\n",
              "    [theme=dark] .colab-df-convert {\n",
              "      background-color: #3B4455;\n",
              "      fill: #D2E3FC;\n",
              "    }\n",
              "\n",
              "    [theme=dark] .colab-df-convert:hover {\n",
              "      background-color: #434B5C;\n",
              "      box-shadow: 0px 1px 3px 1px rgba(0, 0, 0, 0.15);\n",
              "      filter: drop-shadow(0px 1px 2px rgba(0, 0, 0, 0.3));\n",
              "      fill: #FFFFFF;\n",
              "    }\n",
              "  </style>\n",
              "\n",
              "      <script>\n",
              "        const buttonEl =\n",
              "          document.querySelector('#df-039a4d0c-2997-4cc7-ba7f-bf86fe3b2eec button.colab-df-convert');\n",
              "        buttonEl.style.display =\n",
              "          google.colab.kernel.accessAllowed ? 'block' : 'none';\n",
              "\n",
              "        async function convertToInteractive(key) {\n",
              "          const element = document.querySelector('#df-039a4d0c-2997-4cc7-ba7f-bf86fe3b2eec');\n",
              "          const dataTable =\n",
              "            await google.colab.kernel.invokeFunction('convertToInteractive',\n",
              "                                                     [key], {});\n",
              "          if (!dataTable) return;\n",
              "\n",
              "          const docLinkHtml = 'Like what you see? Visit the ' +\n",
              "            '<a target=\"_blank\" href=https://colab.research.google.com/notebooks/data_table.ipynb>data table notebook</a>'\n",
              "            + ' to learn more about interactive tables.';\n",
              "          element.innerHTML = '';\n",
              "          dataTable['output_type'] = 'display_data';\n",
              "          await google.colab.output.renderOutput(dataTable, element);\n",
              "          const docLink = document.createElement('div');\n",
              "          docLink.innerHTML = docLinkHtml;\n",
              "          element.appendChild(docLink);\n",
              "        }\n",
              "      </script>\n",
              "    </div>\n",
              "  </div>\n",
              "  "
            ]
          },
          "metadata": {},
          "execution_count": 21
        }
      ]
    },
    {
      "cell_type": "code",
      "source": [
        "#visualize numeric data\n",
        "df_Covid.plot()"
      ],
      "metadata": {
        "colab": {
          "base_uri": "https://localhost:8080/",
          "height": 282
        },
        "id": "L3uq-KPZRpqu",
        "outputId": "4dfd5bb6-de66-4914-cd44-1a0ea24e4f58"
      },
      "execution_count": null,
      "outputs": [
        {
          "output_type": "execute_result",
          "data": {
            "text/plain": [
              "<matplotlib.axes._subplots.AxesSubplot at 0x7fa3a1424f90>"
            ]
          },
          "metadata": {},
          "execution_count": 22
        },
        {
          "output_type": "display_data",
          "data": {
            "text/plain": [
              "<Figure size 432x288 with 1 Axes>"
            ],
            "image/png": "[encoded data removed]"
          },
          "metadata": {
            "needs_background": "light"
          }
        }
      ]
    },
    {
      "cell_type": "code",
      "source": [
        "#visualize categorical data\n",
        "sns.barplot(x='continentExp',y='cases', data=df_Covid)"
      ],
      "metadata": {
        "colab": {
          "base_uri": "https://localhost:8080/",
          "height": 296
        },
        "id": "zaYr-c7qWd11",
        "outputId": "7f26f4da-cdf3-4d51-feae-bc92addf356f"
      },
      "execution_count": null,
      "outputs": [
        {
          "output_type": "execute_result",
          "data": {
            "text/plain": [
              "<matplotlib.axes._subplots.AxesSubplot at 0x7fa3a300a8d0>"
            ]
          },
          "metadata": {},
          "execution_count": 23
        },
        {
          "output_type": "display_data",
          "data": {
            "text/plain": [
              "<Figure size 432x288 with 1 Axes>"
            ],
            "image/png": "[encoded data removed]"
          },
          "metadata": {
            "needs_background": "light"
          }
        }
      ]
    },
    {
      "cell_type": "code",
      "source": [
        "sns.barplot(x='continentExp',y='deaths', data=df_Covid)"
      ],
      "metadata": {
        "colab": {
          "base_uri": "https://localhost:8080/",
          "height": 296
        },
        "id": "5LNvYcNZXoEE",
        "outputId": "0620001a-9635-4470-844c-4ab1ef4d0cb6"
      },
      "execution_count": null,
      "outputs": [
        {
          "output_type": "execute_result",
          "data": {
            "text/plain": [
              "<matplotlib.axes._subplots.AxesSubplot at 0x7fa3a18a15d0>"
            ]
          },
          "metadata": {},
          "execution_count": 24
        },
        {
          "output_type": "display_data",
          "data": {
            "text/plain": [
              "<Figure size 432x288 with 1 Axes>"
            ],
            "image/png": "[encoded data removed]"
          },
          "metadata": {
            "needs_background": "light"
          }
        }
      ]
    },
    {
      "cell_type": "markdown",
      "source": [
        "# Load data to Target database (sqllite3)"
      ],
      "metadata": {
        "id": "nAx3rBvAb6rH"
      }
    },
    {
      "cell_type": "code",
      "source": [
        "import sqlite3"
      ],
      "metadata": {
        "id": "fjQ_cEXLcDVg"
      },
      "execution_count": null,
      "outputs": []
    },
    {
      "cell_type": "code",
      "source": [
        "df_Covid.info()"
      ],
      "metadata": {
        "colab": {
          "base_uri": "https://localhost:8080/"
        },
        "id": "UYtCGCNacIpA",
        "outputId": "558af560-bd9b-4d87-f91c-de32987ff32c"
      },
      "execution_count": null,
      "outputs": [
        {
          "output_type": "stream",
          "name": "stdout",
          "text": [
            "<class 'pandas.core.frame.DataFrame'>\n",
            "RangeIndex: 61900 entries, 0 to 61899\n",
            "Data columns (total 7 columns):\n",
            " #   Column                   Non-Null Count  Dtype \n",
            "---  ------                   --------------  ----- \n",
            " 0   dateRep                  61900 non-null  object\n",
            " 1   cases                    61900 non-null  int64 \n",
            " 2   deaths                   61900 non-null  int64 \n",
            " 3   countriesAndTerritories  61900 non-null  object\n",
            " 4   geoId                    61900 non-null  object\n",
            " 5   countryterritoryCode     61777 non-null  object\n",
            " 6   continentExp             61900 non-null  object\n",
            "dtypes: int64(2), object(5)\n",
            "memory usage: 3.3+ MB\n"
          ]
        }
      ]
    },
    {
      "cell_type": "code",
      "source": [
        "#create schema database and insert data into table\n",
        "try:\n",
        "  con = sqlite3.connect('covid.db')\n",
        "  cur = con.cursor()\n",
        "  cur.execute(\n",
        "      ''' CREATE TABLE covid(\n",
        "        'dateRep'                   DATE,\n",
        "        'cases'                     INT,\n",
        "        'deaths'                    INT,\n",
        "        'countriesAndTerritories'   VARCHAR(50),\n",
        "        'geoId'                     VARCHAR(7),\n",
        "        'countryterritoryCode'      VARCHAR(40),\n",
        "        'continentExp'              VARCHAR(30)\n",
        "      );'''\n",
        "  )\n",
        "  con.commit()\n",
        "  df_Covid.to_sql('covid', con=con,if_exists='append',index=False)\n",
        "except sqlite3.Error as er:\n",
        "  print('error message : ', er)\n",
        "finally:\n",
        "  if con:\n",
        "    con.close()\n",
        "    print('connection closed')"
      ],
      "metadata": {
        "colab": {
          "base_uri": "https://localhost:8080/"
        },
        "id": "MLGSts3IcGH8",
        "outputId": "6b372ee9-5ff7-4481-f806-8416da57bd5d"
      },
      "execution_count": null,
      "outputs": [
        {
          "output_type": "stream",
          "name": "stdout",
          "text": [
            "connection closed\n"
          ]
        }
      ]
    }
  ]
}