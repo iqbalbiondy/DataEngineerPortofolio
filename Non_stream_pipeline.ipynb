{
  "nbformat": 4,
  "nbformat_minor": 0,
  "metadata": {
    "colab": {
      "provenance": []
    },
    "kernelspec": {
      "name": "python3",
      "display_name": "Python 3"
    },
    "language_info": {
      "name": "python"
    }
  },
  "cells": [
    {
      "cell_type": "markdown",
      "source": [
        "#11.2 Pipeline Nonstream Tugas Individu\n",
        "\n",
        "---\n",
        "Nama : Iqbal Biondy\n",
        "NIM  : 205150601111009\n",
        "Kelas: Data Engineering-B\n",
        "\n"
      ],
      "metadata": {
        "id": "lLyoei-r-riu"
      }
    },
    {
      "cell_type": "markdown",
      "source": [
        "# Retrieve dataset from kaggle using API"
      ],
      "metadata": {
        "id": "hyYgoSZ-cNBw"
      }
    },
    {
      "cell_type": "markdown",
      "source": [
        "Dataset yang digunakan adalah dataset statistik trending youtube video, dengan bentuk data adalah zip dan terdapat dataset trending dataset dari beberapa negara.\n",
        "\n",
        "Untuk dataset yang saya gunakan adalah milik negara `United Stated (US)`\n",
        "\n",
        "link dataset kaggle : https://raw.githubusercontent.com/yoga-sugitha/DataEngineering/main/kaggle.json"
      ],
      "metadata": {
        "id": "28OVP7MxcR5_"
      }
    },
    {
      "cell_type": "code",
      "source": [
        "!pip install -q kaggle\n",
        "!wget https://raw.githubusercontent.com/yoga-sugitha/DataEngineering/main/kaggle.json\n",
        "!mkdir ~/.kaggle\n",
        "!cp kaggle.json ~/.kaggle/\n",
        "!chmod 600 ~/.kaggle/kaggle.json\n",
        "!kaggle datasets download -d datasnaek/youtube-new\n",
        "!mkdir /content/youbue_new\n",
        "!unzip youtube-new.zip -d youbue_new && rm youtube-new.zip"
      ],
      "metadata": {
        "id": "HuEQLs9V8eN7",
        "colab": {
          "base_uri": "https://localhost:8080/"
        },
        "outputId": "06bfec7b-2d62-4831-d368-9268d1bdacb6"
      },
      "execution_count": null,
      "outputs": [
        {
          "output_type": "stream",
          "name": "stdout",
          "text": [
            "--2022-11-16 13:25:22--  https://raw.githubusercontent.com/yoga-sugitha/DataEngineering/main/kaggle.json\n",
            "Resolving raw.githubusercontent.com (raw.githubusercontent.com)... 185.199.109.133, 185.199.108.133, 185.199.110.133, ...\n",
            "Connecting to raw.githubusercontent.com (raw.githubusercontent.com)|185.199.109.133|:443... connected.\n",
            "HTTP request sent, awaiting response... 200 OK\n",
            "Length: 62 [text/plain]\n",
            "Saving to: ‘kaggle.json’\n",
            "\n",
            "\rkaggle.json           0%[                    ]       0  --.-KB/s               \rkaggle.json         100%[===================>]      62  --.-KB/s    in 0s      \n",
            "\n",
            "2022-11-16 13:25:22 (2.73 MB/s) - ‘kaggle.json’ saved [62/62]\n",
            "\n",
            "Downloading youtube-new.zip to /content\n",
            " 98% 196M/201M [00:01<00:00, 166MB/s]\n",
            "100% 201M/201M [00:01<00:00, 173MB/s]\n",
            "Archive:  youtube-new.zip\n",
            "  inflating: youbue_new/CA_category_id.json  \n",
            "  inflating: youbue_new/CAvideos.csv  \n",
            "  inflating: youbue_new/DE_category_id.json  \n",
            "  inflating: youbue_new/DEvideos.csv  \n",
            "  inflating: youbue_new/FR_category_id.json  \n",
            "  inflating: youbue_new/FRvideos.csv  \n",
            "  inflating: youbue_new/GB_category_id.json  \n",
            "  inflating: youbue_new/GBvideos.csv  \n",
            "  inflating: youbue_new/IN_category_id.json  \n",
            "  inflating: youbue_new/INvideos.csv  \n",
            "  inflating: youbue_new/JP_category_id.json  \n",
            "  inflating: youbue_new/JPvideos.csv  \n",
            "  inflating: youbue_new/KR_category_id.json  \n",
            "  inflating: youbue_new/KRvideos.csv  \n",
            "  inflating: youbue_new/MX_category_id.json  \n",
            "  inflating: youbue_new/MXvideos.csv  \n",
            "  inflating: youbue_new/RU_category_id.json  \n",
            "  inflating: youbue_new/RUvideos.csv  \n",
            "  inflating: youbue_new/US_category_id.json  \n",
            "  inflating: youbue_new/USvideos.csv  \n"
          ]
        }
      ]
    },
    {
      "cell_type": "markdown",
      "source": [
        "# Mempersiapkan Apache Spark di Collab"
      ],
      "metadata": {
        "id": "h41Dx5F7x98c"
      }
    },
    {
      "cell_type": "code",
      "source": [
        "!pip install pyspark"
      ],
      "metadata": {
        "colab": {
          "base_uri": "https://localhost:8080/"
        },
        "id": "mtPyzzhOy2Ua",
        "outputId": "d0c712d5-9f70-46d3-8fca-d74df50bbdb8"
      },
      "execution_count": null,
      "outputs": [
        {
          "output_type": "stream",
          "name": "stdout",
          "text": [
            "Looking in indexes: https://pypi.org/simple, https://us-python.pkg.dev/colab-wheels/public/simple/\n",
            "Collecting pyspark\n",
            "  Downloading pyspark-3.3.1.tar.gz (281.4 MB)\n",
            "\u001b[K     |████████████████████████████████| 281.4 MB 41 kB/s \n",
            "\u001b[?25hCollecting py4j==0.10.9.5\n",
            "  Downloading py4j-0.10.9.5-py2.py3-none-any.whl (199 kB)\n",
            "\u001b[K     |████████████████████████████████| 199 kB 33.3 MB/s \n",
            "\u001b[?25hBuilding wheels for collected packages: pyspark\n",
            "  Building wheel for pyspark (setup.py) ... \u001b[?25l\u001b[?25hdone\n",
            "  Created wheel for pyspark: filename=pyspark-3.3.1-py2.py3-none-any.whl size=281845514 sha256=d5937d8ecbb69c693ce4e2abcbbf4dbaffea085d7d85e8c9d4c13f0c09f2a31f\n",
            "  Stored in directory: /root/.cache/pip/wheels/42/59/f5/79a5bf931714dcd201b26025347785f087370a10a3329a899c\n",
            "Successfully built pyspark\n",
            "Installing collected packages: py4j, pyspark\n",
            "Successfully installed py4j-0.10.9.5 pyspark-3.3.1\n"
          ]
        }
      ]
    },
    {
      "cell_type": "code",
      "source": [
        "!apt-get install openjdk-8-jdk-headless -qq > /dev/null"
      ],
      "metadata": {
        "id": "4_jIyNWeduIi"
      },
      "execution_count": null,
      "outputs": []
    },
    {
      "cell_type": "code",
      "source": [
        "!wget https://dlcdn.apache.org/spark/spark-3.3.1/spark-3.3.1-bin-hadoop3.tgz"
      ],
      "metadata": {
        "colab": {
          "base_uri": "https://localhost:8080/"
        },
        "id": "6MmGfBx1yVSh",
        "outputId": "44108850-0f9e-4f0a-dcb2-c52664dfad2b"
      },
      "execution_count": null,
      "outputs": [
        {
          "output_type": "stream",
          "name": "stdout",
          "text": [
            "--2022-11-16 13:26:49--  https://dlcdn.apache.org/spark/spark-3.3.1/spark-3.3.1-bin-hadoop3.tgz\n",
            "Resolving dlcdn.apache.org (dlcdn.apache.org)... 151.101.2.132, 2a04:4e42::644\n",
            "Connecting to dlcdn.apache.org (dlcdn.apache.org)|151.101.2.132|:443... connected.\n",
            "HTTP request sent, awaiting response... 200 OK\n",
            "Length: 299350810 (285M) [application/x-gzip]\n",
            "Saving to: ‘spark-3.3.1-bin-hadoop3.tgz’\n",
            "\n",
            "spark-3.3.1-bin-had 100%[===================>] 285.48M   202MB/s    in 1.4s    \n",
            "\n",
            "2022-11-16 13:26:51 (202 MB/s) - ‘spark-3.3.1-bin-hadoop3.tgz’ saved [299350810/299350810]\n",
            "\n"
          ]
        }
      ]
    },
    {
      "cell_type": "code",
      "source": [
        "!tar xf spark-3.3.1-bin-hadoop3.tgz"
      ],
      "metadata": {
        "id": "rCUTwguBzb49"
      },
      "execution_count": null,
      "outputs": []
    },
    {
      "cell_type": "code",
      "source": [
        "!pip install -q findspark"
      ],
      "metadata": {
        "id": "zYyE0Z1mziqm"
      },
      "execution_count": null,
      "outputs": []
    },
    {
      "cell_type": "code",
      "source": [
        "import pandas as pd\n",
        "import os\n",
        "import findspark\n",
        "from pyspark.sql import SparkSession\n",
        "from pyspark.sql import Row\n",
        "from datetime import datetime"
      ],
      "metadata": {
        "id": "ctPJFsB3zneE"
      },
      "execution_count": null,
      "outputs": []
    },
    {
      "cell_type": "code",
      "source": [
        "os.environ[\"JAVA_HOME\"] = \"/usr/lib/jvm/java-8-openjdk-amd64\"\n",
        "os.environ[\"SPARK_HOME\"] = \"/content/spark-3.3.1-bin-hadoop3\""
      ],
      "metadata": {
        "id": "RHWO8Awaz297"
      },
      "execution_count": null,
      "outputs": []
    },
    {
      "cell_type": "code",
      "source": [
        "findspark.init()\n",
        "spark = SparkSession.builder.master(\"local[*]\").getOrCreate()"
      ],
      "metadata": {
        "id": "_V3R_YPR0i3u"
      },
      "execution_count": null,
      "outputs": []
    },
    {
      "cell_type": "markdown",
      "source": [
        "# extract dataset (`tap`) USvideos"
      ],
      "metadata": {
        "id": "MAu-h6ST03RW"
      }
    },
    {
      "cell_type": "code",
      "source": [
        "df_usvideos = spark.read.csv('/content/youbue_new/USvideos.csv', inferSchema=True,header=True)\n",
        "df_usvideos.printSchema()"
      ],
      "metadata": {
        "colab": {
          "base_uri": "https://localhost:8080/"
        },
        "id": "LyLmSLOi0z1r",
        "outputId": "2b998f8c-c092-459d-e479-9e985a5b95b3"
      },
      "execution_count": null,
      "outputs": [
        {
          "output_type": "stream",
          "name": "stdout",
          "text": [
            "root\n",
            " |-- video_id: string (nullable = true)\n",
            " |-- trending_date: string (nullable = true)\n",
            " |-- title: string (nullable = true)\n",
            " |-- channel_title: string (nullable = true)\n",
            " |-- category_id: string (nullable = true)\n",
            " |-- publish_time: string (nullable = true)\n",
            " |-- tags: string (nullable = true)\n",
            " |-- views: string (nullable = true)\n",
            " |-- likes: string (nullable = true)\n",
            " |-- dislikes: string (nullable = true)\n",
            " |-- comment_count: string (nullable = true)\n",
            " |-- thumbnail_link: string (nullable = true)\n",
            " |-- comments_disabled: string (nullable = true)\n",
            " |-- ratings_disabled: string (nullable = true)\n",
            " |-- video_error_or_removed: string (nullable = true)\n",
            " |-- description: string (nullable = true)\n",
            "\n"
          ]
        }
      ]
    },
    {
      "cell_type": "markdown",
      "source": [
        "# load data (target)"
      ],
      "metadata": {
        "id": "IONgSKXu1yEd"
      }
    },
    {
      "cell_type": "code",
      "source": [
        "df_usvideos.coalesce(1).write.orc('usvideos_usage', mode='overwrite')"
      ],
      "metadata": {
        "id": "zLrNhKMo10pA"
      },
      "execution_count": null,
      "outputs": []
    },
    {
      "cell_type": "code",
      "source": [
        "dfUS = pd.read_orc('/content/usvideos_usage/part-00000-441e3214-f62b-470e-85ba-870e9cf8a442-c000.snappy.orc')\n",
        "dfUS.head(10)"
      ],
      "metadata": {
        "colab": {
          "base_uri": "https://localhost:8080/",
          "height": 1000
        },
        "id": "qV-Imqzf2DyL",
        "outputId": "980ed978-efc1-448b-e8b6-1da0cd6e78a4"
      },
      "execution_count": null,
      "outputs": [
        {
          "output_type": "execute_result",
          "data": {
            "text/plain": [
              "      video_id trending_date  \\\n",
              "0  2kyS6SvSYSE      17.14.11   \n",
              "1  1ZAPwfrtAFY      17.14.11   \n",
              "2  5qpjK5DgCt4      17.14.11   \n",
              "3  puqaWrEC7tY      17.14.11   \n",
              "4  d380meD0W0M      17.14.11   \n",
              "5  gHZ1Qz0KiKM      17.14.11   \n",
              "6  39idVpFF7NQ      17.14.11   \n",
              "7  nc99ccSXST0      17.14.11   \n",
              "8  jr9QtXwC9vc      17.14.11   \n",
              "9  TUmyygCMMGA      17.14.11   \n",
              "\n",
              "                                               title          channel_title  \\\n",
              "0                 WE WANT TO TALK ABOUT OUR MARRIAGE           CaseyNeistat   \n",
              "1  The Trump Presidency: Last Week Tonight with J...        LastWeekTonight   \n",
              "2  Racist Superman | Rudy Mancuso, King Bach & Le...           Rudy Mancuso   \n",
              "3                   Nickelback Lyrics: Real or Fake?  Good Mythical Morning   \n",
              "4                           I Dare You: GOING BALD!?               nigahiga   \n",
              "5                              2 Weeks with iPhone X               iJustine   \n",
              "6          Roy Moore & Jeff Sessions Cold Open - SNL    Saturday Night Live   \n",
              "7                5 Ice Cream Gadgets put to the Test     CrazyRussianHacker   \n",
              "8  The Greatest Showman | Official Trailer 2 [HD]...       20th Century Fox   \n",
              "9  Why the rise of the robots won’t mean the end ...                    Vox   \n",
              "\n",
              "  category_id              publish_time  \\\n",
              "0          22  2017-11-13T17:13:01.000Z   \n",
              "1          24  2017-11-13T07:30:00.000Z   \n",
              "2          23  2017-11-12T19:05:24.000Z   \n",
              "3          24  2017-11-13T11:00:04.000Z   \n",
              "4          24  2017-11-12T18:01:41.000Z   \n",
              "5          28  2017-11-13T19:07:23.000Z   \n",
              "6          24  2017-11-12T05:37:17.000Z   \n",
              "7          28  2017-11-12T21:50:37.000Z   \n",
              "8           1  2017-11-13T14:00:23.000Z   \n",
              "9          25  2017-11-13T13:45:16.000Z   \n",
              "\n",
              "                                                tags    views   likes  \\\n",
              "0                                    SHANtell martin   748374   57527   \n",
              "1  \"last week tonight trump presidency\"|\"last wee...  2418783   97185   \n",
              "2  \"racist superman\"|\"rudy\"|\"mancuso\"|\"king\"|\"bac...  3191434  146033   \n",
              "3  \"rhett and link\"|\"gmm\"|\"good mythical morning\"...   343168   10172   \n",
              "4  \"ryan\"|\"higa\"|\"higatv\"|\"nigahiga\"|\"i dare you\"...  2095731  132235   \n",
              "5  \"ijustine\"|\"week with iPhone X\"|\"iphone x\"|\"ap...   119180    9763   \n",
              "6  \"SNL\"|\"Saturday Night Live\"|\"SNL Season 43\"|\"E...  2103417   15993   \n",
              "7  \"5 Ice Cream Gadgets\"|\"Ice Cream\"|\"Cream Sandw...   817732   23663   \n",
              "8  \"Trailer\"|\"Hugh Jackman\"|\"Michelle Williams\"|\"...   826059    3543   \n",
              "9  \"vox.com\"|\"vox\"|\"explain\"|\"shift change\"|\"futu...   256426   12654   \n",
              "\n",
              "  dislikes comment_count                                  thumbnail_link  \\\n",
              "0     2966         15954  https://i.ytimg.com/vi/2kyS6SvSYSE/default.jpg   \n",
              "1     6146         12703  https://i.ytimg.com/vi/1ZAPwfrtAFY/default.jpg   \n",
              "2     5339          8181  https://i.ytimg.com/vi/5qpjK5DgCt4/default.jpg   \n",
              "3      666          2146  https://i.ytimg.com/vi/puqaWrEC7tY/default.jpg   \n",
              "4     1989         17518  https://i.ytimg.com/vi/d380meD0W0M/default.jpg   \n",
              "5      511          1434  https://i.ytimg.com/vi/gHZ1Qz0KiKM/default.jpg   \n",
              "6     2445          1970  https://i.ytimg.com/vi/39idVpFF7NQ/default.jpg   \n",
              "7      778          3432  https://i.ytimg.com/vi/nc99ccSXST0/default.jpg   \n",
              "8      119           340  https://i.ytimg.com/vi/jr9QtXwC9vc/default.jpg   \n",
              "9     1363          2368  https://i.ytimg.com/vi/TUmyygCMMGA/default.jpg   \n",
              "\n",
              "  comments_disabled ratings_disabled video_error_or_removed  \\\n",
              "0             False            False                  False   \n",
              "1             False            False                  False   \n",
              "2             False            False                  False   \n",
              "3             False            False                  False   \n",
              "4             False            False                  False   \n",
              "5             False            False                  False   \n",
              "6             False            False                  False   \n",
              "7             False            False                  False   \n",
              "8             False            False                  False   \n",
              "9             False            False                  False   \n",
              "\n",
              "                                         description  \n",
              "0  SHANTELL'S CHANNEL - https://www.youtube.com/s...  \n",
              "1  One year after the presidential election, John...  \n",
              "2  WATCH MY PREVIOUS VIDEO ▶ \\n\\nSUBSCRIBE ► http...  \n",
              "3  Today we find out if Link is a Nickelback amat...  \n",
              "4  I know it's been a while since we did this sho...  \n",
              "5  Using the iPhone for the past two weeks -- her...  \n",
              "6  Embattled Alabama Senate candidate Roy Moore (...  \n",
              "7  Ice Cream Pint Combination Lock - http://amzn....  \n",
              "8  Inspired by the imagination of P.T. Barnum, Th...  \n",
              "9  For now, at least, we have better things to wo...  "
            ],
            "text/html": [
              "\n",
              "  <div id=\"df-c4c02536-05ca-44af-b3dd-39401afdc07f\">\n",
              "    <div class=\"colab-df-container\">\n",
              "      <div>\n",
              "<style scoped>\n",
              "    .dataframe tbody tr th:only-of-type {\n",
              "        vertical-align: middle;\n",
              "    }\n",
              "\n",
              "    .dataframe tbody tr th {\n",
              "        vertical-align: top;\n",
              "    }\n",
              "\n",
              "    .dataframe thead th {\n",
              "        text-align: right;\n",
              "    }\n",
              "</style>\n",
              "<table border=\"1\" class=\"dataframe\">\n",
              "  <thead>\n",
              "    <tr style=\"text-align: right;\">\n",
              "      <th></th>\n",
              "      <th>video_id</th>\n",
              "      <th>trending_date</th>\n",
              "      <th>title</th>\n",
              "      <th>channel_title</th>\n",
              "      <th>category_id</th>\n",
              "      <th>publish_time</th>\n",
              "      <th>tags</th>\n",
              "      <th>views</th>\n",
              "      <th>likes</th>\n",
              "      <th>dislikes</th>\n",
              "      <th>comment_count</th>\n",
              "      <th>thumbnail_link</th>\n",
              "      <th>comments_disabled</th>\n",
              "      <th>ratings_disabled</th>\n",
              "      <th>video_error_or_removed</th>\n",
              "      <th>description</th>\n",
              "    </tr>\n",
              "  </thead>\n",
              "  <tbody>\n",
              "    <tr>\n",
              "      <th>0</th>\n",
              "      <td>2kyS6SvSYSE</td>\n",
              "      <td>17.14.11</td>\n",
              "      <td>WE WANT TO TALK ABOUT OUR MARRIAGE</td>\n",
              "      <td>CaseyNeistat</td>\n",
              "      <td>22</td>\n",
              "      <td>2017-11-13T17:13:01.000Z</td>\n",
              "      <td>SHANtell martin</td>\n",
              "      <td>748374</td>\n",
              "      <td>57527</td>\n",
              "      <td>2966</td>\n",
              "      <td>15954</td>\n",
              "      <td>https://i.ytimg.com/vi/2kyS6SvSYSE/default.jpg</td>\n",
              "      <td>False</td>\n",
              "      <td>False</td>\n",
              "      <td>False</td>\n",
              "      <td>SHANTELL'S CHANNEL - https://www.youtube.com/s...</td>\n",
              "    </tr>\n",
              "    <tr>\n",
              "      <th>1</th>\n",
              "      <td>1ZAPwfrtAFY</td>\n",
              "      <td>17.14.11</td>\n",
              "      <td>The Trump Presidency: Last Week Tonight with J...</td>\n",
              "      <td>LastWeekTonight</td>\n",
              "      <td>24</td>\n",
              "      <td>2017-11-13T07:30:00.000Z</td>\n",
              "      <td>\"last week tonight trump presidency\"|\"last wee...</td>\n",
              "      <td>2418783</td>\n",
              "      <td>97185</td>\n",
              "      <td>6146</td>\n",
              "      <td>12703</td>\n",
              "      <td>https://i.ytimg.com/vi/1ZAPwfrtAFY/default.jpg</td>\n",
              "      <td>False</td>\n",
              "      <td>False</td>\n",
              "      <td>False</td>\n",
              "      <td>One year after the presidential election, John...</td>\n",
              "    </tr>\n",
              "    <tr>\n",
              "      <th>2</th>\n",
              "      <td>5qpjK5DgCt4</td>\n",
              "      <td>17.14.11</td>\n",
              "      <td>Racist Superman | Rudy Mancuso, King Bach &amp; Le...</td>\n",
              "      <td>Rudy Mancuso</td>\n",
              "      <td>23</td>\n",
              "      <td>2017-11-12T19:05:24.000Z</td>\n",
              "      <td>\"racist superman\"|\"rudy\"|\"mancuso\"|\"king\"|\"bac...</td>\n",
              "      <td>3191434</td>\n",
              "      <td>146033</td>\n",
              "      <td>5339</td>\n",
              "      <td>8181</td>\n",
              "      <td>https://i.ytimg.com/vi/5qpjK5DgCt4/default.jpg</td>\n",
              "      <td>False</td>\n",
              "      <td>False</td>\n",
              "      <td>False</td>\n",
              "      <td>WATCH MY PREVIOUS VIDEO ▶ \\n\\nSUBSCRIBE ► http...</td>\n",
              "    </tr>\n",
              "    <tr>\n",
              "      <th>3</th>\n",
              "      <td>puqaWrEC7tY</td>\n",
              "      <td>17.14.11</td>\n",
              "      <td>Nickelback Lyrics: Real or Fake?</td>\n",
              "      <td>Good Mythical Morning</td>\n",
              "      <td>24</td>\n",
              "      <td>2017-11-13T11:00:04.000Z</td>\n",
              "      <td>\"rhett and link\"|\"gmm\"|\"good mythical morning\"...</td>\n",
              "      <td>343168</td>\n",
              "      <td>10172</td>\n",
              "      <td>666</td>\n",
              "      <td>2146</td>\n",
              "      <td>https://i.ytimg.com/vi/puqaWrEC7tY/default.jpg</td>\n",
              "      <td>False</td>\n",
              "      <td>False</td>\n",
              "      <td>False</td>\n",
              "      <td>Today we find out if Link is a Nickelback amat...</td>\n",
              "    </tr>\n",
              "    <tr>\n",
              "      <th>4</th>\n",
              "      <td>d380meD0W0M</td>\n",
              "      <td>17.14.11</td>\n",
              "      <td>I Dare You: GOING BALD!?</td>\n",
              "      <td>nigahiga</td>\n",
              "      <td>24</td>\n",
              "      <td>2017-11-12T18:01:41.000Z</td>\n",
              "      <td>\"ryan\"|\"higa\"|\"higatv\"|\"nigahiga\"|\"i dare you\"...</td>\n",
              "      <td>2095731</td>\n",
              "      <td>132235</td>\n",
              "      <td>1989</td>\n",
              "      <td>17518</td>\n",
              "      <td>https://i.ytimg.com/vi/d380meD0W0M/default.jpg</td>\n",
              "      <td>False</td>\n",
              "      <td>False</td>\n",
              "      <td>False</td>\n",
              "      <td>I know it's been a while since we did this sho...</td>\n",
              "    </tr>\n",
              "    <tr>\n",
              "      <th>5</th>\n",
              "      <td>gHZ1Qz0KiKM</td>\n",
              "      <td>17.14.11</td>\n",
              "      <td>2 Weeks with iPhone X</td>\n",
              "      <td>iJustine</td>\n",
              "      <td>28</td>\n",
              "      <td>2017-11-13T19:07:23.000Z</td>\n",
              "      <td>\"ijustine\"|\"week with iPhone X\"|\"iphone x\"|\"ap...</td>\n",
              "      <td>119180</td>\n",
              "      <td>9763</td>\n",
              "      <td>511</td>\n",
              "      <td>1434</td>\n",
              "      <td>https://i.ytimg.com/vi/gHZ1Qz0KiKM/default.jpg</td>\n",
              "      <td>False</td>\n",
              "      <td>False</td>\n",
              "      <td>False</td>\n",
              "      <td>Using the iPhone for the past two weeks -- her...</td>\n",
              "    </tr>\n",
              "    <tr>\n",
              "      <th>6</th>\n",
              "      <td>39idVpFF7NQ</td>\n",
              "      <td>17.14.11</td>\n",
              "      <td>Roy Moore &amp; Jeff Sessions Cold Open - SNL</td>\n",
              "      <td>Saturday Night Live</td>\n",
              "      <td>24</td>\n",
              "      <td>2017-11-12T05:37:17.000Z</td>\n",
              "      <td>\"SNL\"|\"Saturday Night Live\"|\"SNL Season 43\"|\"E...</td>\n",
              "      <td>2103417</td>\n",
              "      <td>15993</td>\n",
              "      <td>2445</td>\n",
              "      <td>1970</td>\n",
              "      <td>https://i.ytimg.com/vi/39idVpFF7NQ/default.jpg</td>\n",
              "      <td>False</td>\n",
              "      <td>False</td>\n",
              "      <td>False</td>\n",
              "      <td>Embattled Alabama Senate candidate Roy Moore (...</td>\n",
              "    </tr>\n",
              "    <tr>\n",
              "      <th>7</th>\n",
              "      <td>nc99ccSXST0</td>\n",
              "      <td>17.14.11</td>\n",
              "      <td>5 Ice Cream Gadgets put to the Test</td>\n",
              "      <td>CrazyRussianHacker</td>\n",
              "      <td>28</td>\n",
              "      <td>2017-11-12T21:50:37.000Z</td>\n",
              "      <td>\"5 Ice Cream Gadgets\"|\"Ice Cream\"|\"Cream Sandw...</td>\n",
              "      <td>817732</td>\n",
              "      <td>23663</td>\n",
              "      <td>778</td>\n",
              "      <td>3432</td>\n",
              "      <td>https://i.ytimg.com/vi/nc99ccSXST0/default.jpg</td>\n",
              "      <td>False</td>\n",
              "      <td>False</td>\n",
              "      <td>False</td>\n",
              "      <td>Ice Cream Pint Combination Lock - http://amzn....</td>\n",
              "    </tr>\n",
              "    <tr>\n",
              "      <th>8</th>\n",
              "      <td>jr9QtXwC9vc</td>\n",
              "      <td>17.14.11</td>\n",
              "      <td>The Greatest Showman | Official Trailer 2 [HD]...</td>\n",
              "      <td>20th Century Fox</td>\n",
              "      <td>1</td>\n",
              "      <td>2017-11-13T14:00:23.000Z</td>\n",
              "      <td>\"Trailer\"|\"Hugh Jackman\"|\"Michelle Williams\"|\"...</td>\n",
              "      <td>826059</td>\n",
              "      <td>3543</td>\n",
              "      <td>119</td>\n",
              "      <td>340</td>\n",
              "      <td>https://i.ytimg.com/vi/jr9QtXwC9vc/default.jpg</td>\n",
              "      <td>False</td>\n",
              "      <td>False</td>\n",
              "      <td>False</td>\n",
              "      <td>Inspired by the imagination of P.T. Barnum, Th...</td>\n",
              "    </tr>\n",
              "    <tr>\n",
              "      <th>9</th>\n",
              "      <td>TUmyygCMMGA</td>\n",
              "      <td>17.14.11</td>\n",
              "      <td>Why the rise of the robots won’t mean the end ...</td>\n",
              "      <td>Vox</td>\n",
              "      <td>25</td>\n",
              "      <td>2017-11-13T13:45:16.000Z</td>\n",
              "      <td>\"vox.com\"|\"vox\"|\"explain\"|\"shift change\"|\"futu...</td>\n",
              "      <td>256426</td>\n",
              "      <td>12654</td>\n",
              "      <td>1363</td>\n",
              "      <td>2368</td>\n",
              "      <td>https://i.ytimg.com/vi/TUmyygCMMGA/default.jpg</td>\n",
              "      <td>False</td>\n",
              "      <td>False</td>\n",
              "      <td>False</td>\n",
              "      <td>For now, at least, we have better things to wo...</td>\n",
              "    </tr>\n",
              "  </tbody>\n",
              "</table>\n",
              "</div>\n",
              "      <button class=\"colab-df-convert\" onclick=\"convertToInteractive('df-c4c02536-05ca-44af-b3dd-39401afdc07f')\"\n",
              "              title=\"Convert this dataframe to an interactive table.\"\n",
              "              style=\"display:none;\">\n",
              "        \n",
              "  <svg xmlns=\"http://www.w3.org/2000/svg\" height=\"24px\"viewBox=\"0 0 24 24\"\n",
              "       width=\"24px\">\n",
              "    <path d=\"M0 0h24v24H0V0z\" fill=\"none\"/>\n",
              "    <path d=\"M18.56 5.44l.94 2.06.94-2.06 2.06-.94-2.06-.94-.94-2.06-.94 2.06-2.06.94zm-11 1L8.5 8.5l.94-2.06 2.06-.94-2.06-.94L8.5 2.5l-.94 2.06-2.06.94zm10 10l.94 2.06.94-2.06 2.06-.94-2.06-.94-.94-2.06-.94 2.06-2.06.94z\"/><path d=\"M17.41 7.96l-1.37-1.37c-.4-.4-.92-.59-1.43-.59-.52 0-1.04.2-1.43.59L10.3 9.45l-7.72 7.72c-.78.78-.78 2.05 0 2.83L4 21.41c.39.39.9.59 1.41.59.51 0 1.02-.2 1.41-.59l7.78-7.78 2.81-2.81c.8-.78.8-2.07 0-2.86zM5.41 20L4 18.59l7.72-7.72 1.47 1.35L5.41 20z\"/>\n",
              "  </svg>\n",
              "      </button>\n",
              "      \n",
              "  <style>\n",
              "    .colab-df-container {\n",
              "      display:flex;\n",
              "      flex-wrap:wrap;\n",
              "      gap: 12px;\n",
              "    }\n",
              "\n",
              "    .colab-df-convert {\n",
              "      background-color: #E8F0FE;\n",
              "      border: none;\n",
              "      border-radius: 50%;\n",
              "      cursor: pointer;\n",
              "      display: none;\n",
              "      fill: #1967D2;\n",
              "      height: 32px;\n",
              "      padding: 0 0 0 0;\n",
              "      width: 32px;\n",
              "    }\n",
              "\n",
              "    .colab-df-convert:hover {\n",
              "      background-color: #E2EBFA;\n",
              "      box-shadow: 0px 1px 2px rgba(60, 64, 67, 0.3), 0px 1px 3px 1px rgba(60, 64, 67, 0.15);\n",
              "      fill: #174EA6;\n",
              "    }\n",
              "\n",
              "    [theme=dark] .colab-df-convert {\n",
              "      background-color: #3B4455;\n",
              "      fill: #D2E3FC;\n",
              "    }\n",
              "\n",
              "    [theme=dark] .colab-df-convert:hover {\n",
              "      background-color: #434B5C;\n",
              "      box-shadow: 0px 1px 3px 1px rgba(0, 0, 0, 0.15);\n",
              "      filter: drop-shadow(0px 1px 2px rgba(0, 0, 0, 0.3));\n",
              "      fill: #FFFFFF;\n",
              "    }\n",
              "  </style>\n",
              "\n",
              "      <script>\n",
              "        const buttonEl =\n",
              "          document.querySelector('#df-c4c02536-05ca-44af-b3dd-39401afdc07f button.colab-df-convert');\n",
              "        buttonEl.style.display =\n",
              "          google.colab.kernel.accessAllowed ? 'block' : 'none';\n",
              "\n",
              "        async function convertToInteractive(key) {\n",
              "          const element = document.querySelector('#df-c4c02536-05ca-44af-b3dd-39401afdc07f');\n",
              "          const dataTable =\n",
              "            await google.colab.kernel.invokeFunction('convertToInteractive',\n",
              "                                                     [key], {});\n",
              "          if (!dataTable) return;\n",
              "\n",
              "          const docLinkHtml = 'Like what you see? Visit the ' +\n",
              "            '<a target=\"_blank\" href=https://colab.research.google.com/notebooks/data_table.ipynb>data table notebook</a>'\n",
              "            + ' to learn more about interactive tables.';\n",
              "          element.innerHTML = '';\n",
              "          dataTable['output_type'] = 'display_data';\n",
              "          await google.colab.output.renderOutput(dataTable, element);\n",
              "          const docLink = document.createElement('div');\n",
              "          docLink.innerHTML = docLinkHtml;\n",
              "          element.appendChild(docLink);\n",
              "        }\n",
              "      </script>\n",
              "    </div>\n",
              "  </div>\n",
              "  "
            ]
          },
          "metadata": {},
          "execution_count": 13
        }
      ]
    },
    {
      "cell_type": "markdown",
      "source": [
        "# transform data"
      ],
      "metadata": {
        "id": "WIBgRCP-6v11"
      }
    },
    {
      "cell_type": "code",
      "source": [
        "df_usvideos = df_usvideos.drop('comments_disabled','ratings_disabled','video_error_or_removed','trending_date')\n",
        "df_usvideos.printSchema()"
      ],
      "metadata": {
        "colab": {
          "base_uri": "https://localhost:8080/"
        },
        "id": "WVWYobdH6ekj",
        "outputId": "1593e886-ecd7-4fdc-f206-e9fe0cfaff15"
      },
      "execution_count": null,
      "outputs": [
        {
          "output_type": "stream",
          "name": "stdout",
          "text": [
            "root\n",
            " |-- video_id: string (nullable = true)\n",
            " |-- title: string (nullable = true)\n",
            " |-- channel_title: string (nullable = true)\n",
            " |-- category_id: string (nullable = true)\n",
            " |-- publish_time: string (nullable = true)\n",
            " |-- tags: string (nullable = true)\n",
            " |-- views: string (nullable = true)\n",
            " |-- likes: string (nullable = true)\n",
            " |-- dislikes: string (nullable = true)\n",
            " |-- comment_count: string (nullable = true)\n",
            " |-- thumbnail_link: string (nullable = true)\n",
            " |-- description: string (nullable = true)\n",
            "\n"
          ]
        }
      ]
    },
    {
      "cell_type": "markdown",
      "source": [
        "transform data `publish_time` dan `trending_date` into datetime format"
      ],
      "metadata": {
        "id": "ESHqt2Ii7nBi"
      }
    },
    {
      "cell_type": "code",
      "source": [
        "df_usvideos.show()"
      ],
      "metadata": {
        "colab": {
          "base_uri": "https://localhost:8080/"
        },
        "id": "GDInegl9RhWS",
        "outputId": "fddb751e-b298-4fd4-e509-a97792e566bc"
      },
      "execution_count": null,
      "outputs": [
        {
          "output_type": "stream",
          "name": "stdout",
          "text": [
            "+-----------+-------------+--------------------+--------------------+-----------+--------------------+--------------------+-------+------+--------+-------------+--------------------+-----------------+----------------+----------------------+--------------------+\n",
            "|   video_id|trending_date|               title|       channel_title|category_id|        publish_time|                tags|  views| likes|dislikes|comment_count|      thumbnail_link|comments_disabled|ratings_disabled|video_error_or_removed|         description|\n",
            "+-----------+-------------+--------------------+--------------------+-----------+--------------------+--------------------+-------+------+--------+-------------+--------------------+-----------------+----------------+----------------------+--------------------+\n",
            "|2kyS6SvSYSE|     17.14.11|WE WANT TO TALK A...|        CaseyNeistat|         22|2017-11-13T17:13:...|     SHANtell martin| 748374| 57527|    2966|        15954|https://i.ytimg.c...|            False|           False|                 False|SHANTELL'S CHANNE...|\n",
            "|1ZAPwfrtAFY|     17.14.11|The Trump Preside...|     LastWeekTonight|         24|2017-11-13T07:30:...|\"last week tonigh...|2418783| 97185|    6146|        12703|https://i.ytimg.c...|            False|           False|                 False|One year after th...|\n",
            "|5qpjK5DgCt4|     17.14.11|Racist Superman |...|        Rudy Mancuso|         23|2017-11-12T19:05:...|\"racist superman\"...|3191434|146033|    5339|         8181|https://i.ytimg.c...|            False|           False|                 False|WATCH MY PREVIOUS...|\n",
            "|puqaWrEC7tY|     17.14.11|Nickelback Lyrics...|Good Mythical Mor...|         24|2017-11-13T11:00:...|\"rhett and link\"|...| 343168| 10172|     666|         2146|https://i.ytimg.c...|            False|           False|                 False|Today we find out...|\n",
            "|d380meD0W0M|     17.14.11|I Dare You: GOING...|            nigahiga|         24|2017-11-12T18:01:...|\"ryan\"|\"higa\"|\"hi...|2095731|132235|    1989|        17518|https://i.ytimg.c...|            False|           False|                 False|I know it's been ...|\n",
            "|gHZ1Qz0KiKM|     17.14.11|2 Weeks with iPho...|            iJustine|         28|2017-11-13T19:07:...|\"ijustine\"|\"week ...| 119180|  9763|     511|         1434|https://i.ytimg.c...|            False|           False|                 False|Using the iPhone ...|\n",
            "|39idVpFF7NQ|     17.14.11|Roy Moore & Jeff ...| Saturday Night Live|         24|2017-11-12T05:37:...|\"SNL\"|\"Saturday N...|2103417| 15993|    2445|         1970|https://i.ytimg.c...|            False|           False|                 False|Embattled Alabama...|\n",
            "|nc99ccSXST0|     17.14.11|5 Ice Cream Gadge...|  CrazyRussianHacker|         28|2017-11-12T21:50:...|\"5 Ice Cream Gadg...| 817732| 23663|     778|         3432|https://i.ytimg.c...|            False|           False|                 False|Ice Cream Pint Co...|\n",
            "|jr9QtXwC9vc|     17.14.11|The Greatest Show...|    20th Century Fox|          1|2017-11-13T14:00:...|\"Trailer\"|\"Hugh J...| 826059|  3543|     119|          340|https://i.ytimg.c...|            False|           False|                 False|Inspired by the i...|\n",
            "|TUmyygCMMGA|     17.14.11|Why the rise of t...|                 Vox|         25|2017-11-13T13:45:...|\"vox.com\"|\"vox\"|\"...| 256426| 12654|    1363|         2368|https://i.ytimg.c...|            False|           False|                 False|For now, at least...|\n",
            "|9wRQljFNDW8|     17.14.11|Dion Lewis' 103-Y...|                 NFL|         17|2017-11-13T02:05:...|\"NFL\"|\"Football\"|...|  81377|   655|      25|          177|https://i.ytimg.c...|            False|           False|                 False|New England Patri...|\n",
            "|VifQlJit6A0|     17.14.11|(SPOILERS) 'Shiva...|                 amc|         24|2017-11-13T03:00:...|\"The Walking Dead...| 104578|  1576|     303|         1279|https://i.ytimg.c...|            False|           False|                 False|Shiva arrives jus...|\n",
            "|5E4ZBSInqUU|     17.14.11|Marshmello - Bloc...|          marshmello|         10|2017-11-13T17:00:...|\"marshmello\"|\"blo...| 687582|114188|    1333|         8371|https://i.ytimg.c...|            False|           False|                 False|WATCH SILENCE MUS...|\n",
            "|GgVmn66oK_A|     17.14.11|Which Countries A...|       NowThis World|         25|2017-11-12T14:00:...|\"nowthis\"|\"nowthi...| 544770|  7848|    1171|         3981|https://i.ytimg.c...|            False|           False|                 False|The world at larg...|\n",
            "|TaTleo4cOs8|     17.14.11|SHOPPING FOR NEW ...|     The king of DIY|         15|2017-11-12T18:30:...|\"shopping for new...| 207532|  7473|     246|         2120|https://i.ytimg.c...|            False|           False|                 False|Today we go shopp...|\n",
            "|kgaO45SyaO4|     17.14.11|    The New SpotMini|      BostonDynamics|         28|2017-11-13T20:09:...|\"Robots\"|\"Boston ...|  75752|  9419|      52|         1230|https://i.ytimg.c...|            False|           False|                 False|For more informat...|\n",
            "|ZAQs-ctOqXQ|     17.14.11|One Change That W...|             Cracked|         23|2017-11-12T17:00:...|\"pacific rim\"|\"pa...| 295639|  8011|     638|         1256|https://i.ytimg.c...|            False|           False|                 False|Pacific Rim was s...|\n",
            "|YVfyYrEmzgM|     17.14.11|How does your bod...|              TED-Ed|         27|2017-11-13T16:00:...|\"TED\"|\"TED-Ed\"|\"T...|  78044|  5398|      53|          385|https://i.ytimg.c...|            False|           False|                 False|Check out our Pat...|\n",
            "|eNSN6qet1kE|     17.14.11|HomeMade Electric...|         PeterSripol|         28|2017-11-13T15:30:...|\"ultralight\"|\"air...|  97007| 11963|      36|         2211|https://i.ytimg.c...|            False|           False|                 False|aaaannnd now to f...|\n",
            "|B5HORANmzHw|     17.14.11|Founding An Inbre...|             SciShow|         27|2017-11-12T22:00:...|\"SciShow\"|\"scienc...| 223871|  8421|     191|         1214|https://i.ytimg.c...|            False|           False|                 False|Thanks to 23AndMe...|\n",
            "+-----------+-------------+--------------------+--------------------+-----------+--------------------+--------------------+-------+------+--------+-------------+--------------------+-----------------+----------------+----------------------+--------------------+\n",
            "only showing top 20 rows\n",
            "\n"
          ]
        }
      ]
    },
    {
      "cell_type": "code",
      "source": [
        "from pyspark.sql.functions import *"
      ],
      "metadata": {
        "id": "zfXeFxTP74LG"
      },
      "execution_count": null,
      "outputs": []
    },
    {
      "cell_type": "code",
      "source": [
        "df_usvideos = df_usvideos.withColumn('publishtime',to_date('publish_time'))"
      ],
      "metadata": {
        "id": "0qrV14KgGMNh"
      },
      "execution_count": null,
      "outputs": []
    },
    {
      "cell_type": "code",
      "source": [
        "df_usvideos.show()"
      ],
      "metadata": {
        "colab": {
          "base_uri": "https://localhost:8080/"
        },
        "id": "ZLAJTESVPjuz",
        "outputId": "d201e289-5b35-4483-c977-656447bf4a02"
      },
      "execution_count": null,
      "outputs": [
        {
          "output_type": "stream",
          "name": "stdout",
          "text": [
            "+-----------+--------------------+--------------------+-----------+--------------------+--------------------+-------+------+--------+-------------+--------------------+--------------------+-----------+\n",
            "|   video_id|               title|       channel_title|category_id|        publish_time|                tags|  views| likes|dislikes|comment_count|      thumbnail_link|         description|publishtime|\n",
            "+-----------+--------------------+--------------------+-----------+--------------------+--------------------+-------+------+--------+-------------+--------------------+--------------------+-----------+\n",
            "|2kyS6SvSYSE|WE WANT TO TALK A...|        CaseyNeistat|         22|2017-11-13T17:13:...|     SHANtell martin| 748374| 57527|    2966|        15954|https://i.ytimg.c...|SHANTELL'S CHANNE...| 2017-11-13|\n",
            "|1ZAPwfrtAFY|The Trump Preside...|     LastWeekTonight|         24|2017-11-13T07:30:...|\"last week tonigh...|2418783| 97185|    6146|        12703|https://i.ytimg.c...|One year after th...| 2017-11-13|\n",
            "|5qpjK5DgCt4|Racist Superman |...|        Rudy Mancuso|         23|2017-11-12T19:05:...|\"racist superman\"...|3191434|146033|    5339|         8181|https://i.ytimg.c...|WATCH MY PREVIOUS...| 2017-11-12|\n",
            "|puqaWrEC7tY|Nickelback Lyrics...|Good Mythical Mor...|         24|2017-11-13T11:00:...|\"rhett and link\"|...| 343168| 10172|     666|         2146|https://i.ytimg.c...|Today we find out...| 2017-11-13|\n",
            "|d380meD0W0M|I Dare You: GOING...|            nigahiga|         24|2017-11-12T18:01:...|\"ryan\"|\"higa\"|\"hi...|2095731|132235|    1989|        17518|https://i.ytimg.c...|I know it's been ...| 2017-11-12|\n",
            "|gHZ1Qz0KiKM|2 Weeks with iPho...|            iJustine|         28|2017-11-13T19:07:...|\"ijustine\"|\"week ...| 119180|  9763|     511|         1434|https://i.ytimg.c...|Using the iPhone ...| 2017-11-13|\n",
            "|39idVpFF7NQ|Roy Moore & Jeff ...| Saturday Night Live|         24|2017-11-12T05:37:...|\"SNL\"|\"Saturday N...|2103417| 15993|    2445|         1970|https://i.ytimg.c...|Embattled Alabama...| 2017-11-12|\n",
            "|nc99ccSXST0|5 Ice Cream Gadge...|  CrazyRussianHacker|         28|2017-11-12T21:50:...|\"5 Ice Cream Gadg...| 817732| 23663|     778|         3432|https://i.ytimg.c...|Ice Cream Pint Co...| 2017-11-12|\n",
            "|jr9QtXwC9vc|The Greatest Show...|    20th Century Fox|          1|2017-11-13T14:00:...|\"Trailer\"|\"Hugh J...| 826059|  3543|     119|          340|https://i.ytimg.c...|Inspired by the i...| 2017-11-13|\n",
            "|TUmyygCMMGA|Why the rise of t...|                 Vox|         25|2017-11-13T13:45:...|\"vox.com\"|\"vox\"|\"...| 256426| 12654|    1363|         2368|https://i.ytimg.c...|For now, at least...| 2017-11-13|\n",
            "|9wRQljFNDW8|Dion Lewis' 103-Y...|                 NFL|         17|2017-11-13T02:05:...|\"NFL\"|\"Football\"|...|  81377|   655|      25|          177|https://i.ytimg.c...|New England Patri...| 2017-11-13|\n",
            "|VifQlJit6A0|(SPOILERS) 'Shiva...|                 amc|         24|2017-11-13T03:00:...|\"The Walking Dead...| 104578|  1576|     303|         1279|https://i.ytimg.c...|Shiva arrives jus...| 2017-11-13|\n",
            "|5E4ZBSInqUU|Marshmello - Bloc...|          marshmello|         10|2017-11-13T17:00:...|\"marshmello\"|\"blo...| 687582|114188|    1333|         8371|https://i.ytimg.c...|WATCH SILENCE MUS...| 2017-11-13|\n",
            "|GgVmn66oK_A|Which Countries A...|       NowThis World|         25|2017-11-12T14:00:...|\"nowthis\"|\"nowthi...| 544770|  7848|    1171|         3981|https://i.ytimg.c...|The world at larg...| 2017-11-12|\n",
            "|TaTleo4cOs8|SHOPPING FOR NEW ...|     The king of DIY|         15|2017-11-12T18:30:...|\"shopping for new...| 207532|  7473|     246|         2120|https://i.ytimg.c...|Today we go shopp...| 2017-11-12|\n",
            "|kgaO45SyaO4|    The New SpotMini|      BostonDynamics|         28|2017-11-13T20:09:...|\"Robots\"|\"Boston ...|  75752|  9419|      52|         1230|https://i.ytimg.c...|For more informat...| 2017-11-13|\n",
            "|ZAQs-ctOqXQ|One Change That W...|             Cracked|         23|2017-11-12T17:00:...|\"pacific rim\"|\"pa...| 295639|  8011|     638|         1256|https://i.ytimg.c...|Pacific Rim was s...| 2017-11-12|\n",
            "|YVfyYrEmzgM|How does your bod...|              TED-Ed|         27|2017-11-13T16:00:...|\"TED\"|\"TED-Ed\"|\"T...|  78044|  5398|      53|          385|https://i.ytimg.c...|Check out our Pat...| 2017-11-13|\n",
            "|eNSN6qet1kE|HomeMade Electric...|         PeterSripol|         28|2017-11-13T15:30:...|\"ultralight\"|\"air...|  97007| 11963|      36|         2211|https://i.ytimg.c...|aaaannnd now to f...| 2017-11-13|\n",
            "|B5HORANmzHw|Founding An Inbre...|             SciShow|         27|2017-11-12T22:00:...|\"SciShow\"|\"scienc...| 223871|  8421|     191|         1214|https://i.ytimg.c...|Thanks to 23AndMe...| 2017-11-12|\n",
            "+-----------+--------------------+--------------------+-----------+--------------------+--------------------+-------+------+--------+-------------+--------------------+--------------------+-----------+\n",
            "only showing top 20 rows\n",
            "\n"
          ]
        }
      ]
    },
    {
      "cell_type": "code",
      "source": [
        "df_usvideos = df_usvideos.drop('publish_time')\n",
        "df_usvideos.printSchema()"
      ],
      "metadata": {
        "colab": {
          "base_uri": "https://localhost:8080/"
        },
        "id": "f8lyoJVSRtJd",
        "outputId": "dc26d087-85d8-4ce0-a15a-5ff73e8f3e59"
      },
      "execution_count": null,
      "outputs": [
        {
          "output_type": "stream",
          "name": "stdout",
          "text": [
            "root\n",
            " |-- video_id: string (nullable = true)\n",
            " |-- title: string (nullable = true)\n",
            " |-- channel_title: string (nullable = true)\n",
            " |-- category_id: string (nullable = true)\n",
            " |-- tags: string (nullable = true)\n",
            " |-- views: string (nullable = true)\n",
            " |-- likes: string (nullable = true)\n",
            " |-- dislikes: string (nullable = true)\n",
            " |-- comment_count: string (nullable = true)\n",
            " |-- thumbnail_link: string (nullable = true)\n",
            " |-- description: string (nullable = true)\n",
            " |-- publishtime: date (nullable = true)\n",
            "\n"
          ]
        }
      ]
    },
    {
      "cell_type": "code",
      "source": [
        "from pyspark.sql.types import IntegerType\n",
        "def strtoint (colold, colnew):\n",
        "  df = df_usvideos.withColumn(colold, df_usvideos[colnew].cast(IntegerType()))\n",
        "  return df\n",
        "\n",
        "df_usvideos = strtoint('views','views')\n",
        "df_usvideos = strtoint('likes','likes')\n",
        "df_usvideos = strtoint('dislikes','dislikes')\n",
        "df_usvideos = strtoint('comment_count','comment_count')"
      ],
      "metadata": {
        "id": "NV3Qy-GHSNuH"
      },
      "execution_count": null,
      "outputs": []
    },
    {
      "cell_type": "code",
      "source": [
        "df_usvideos.printSchema()"
      ],
      "metadata": {
        "colab": {
          "base_uri": "https://localhost:8080/"
        },
        "id": "b4FCLWUCTVvL",
        "outputId": "376e8204-9011-4fed-ce50-a0dd3c55638b"
      },
      "execution_count": null,
      "outputs": [
        {
          "output_type": "stream",
          "name": "stdout",
          "text": [
            "root\n",
            " |-- video_id: string (nullable = true)\n",
            " |-- title: string (nullable = true)\n",
            " |-- channel_title: string (nullable = true)\n",
            " |-- category_id: string (nullable = true)\n",
            " |-- tags: string (nullable = true)\n",
            " |-- views: integer (nullable = true)\n",
            " |-- likes: integer (nullable = true)\n",
            " |-- dislikes: integer (nullable = true)\n",
            " |-- comment_count: integer (nullable = true)\n",
            " |-- thumbnail_link: string (nullable = true)\n",
            " |-- description: string (nullable = true)\n",
            " |-- publishtime: date (nullable = true)\n",
            "\n"
          ]
        }
      ]
    },
    {
      "cell_type": "code",
      "source": [
        "df_usvideos.groupBy('category_id').count().show()"
      ],
      "metadata": {
        "colab": {
          "base_uri": "https://localhost:8080/"
        },
        "id": "j8G6z462Pdss",
        "outputId": "63ff2dc5-8347-4143-b764-f7b882daf849"
      },
      "execution_count": null,
      "outputs": [
        {
          "output_type": "stream",
          "name": "stdout",
          "text": [
            "+--------------------+-----+\n",
            "|         category_id|count|\n",
            "+--------------------+-----+\n",
            "|                  15|  920|\n",
            "|              artist|    5|\n",
            "| informed reporti...|   39|\n",
            "|                  29|   57|\n",
            "| dining destinations|  151|\n",
            "|                  22| 3210|\n",
            "|                  28| 2401|\n",
            "|             fashion|   32|\n",
            "| no I'm not a les...|    4|\n",
            "| and videos from ...|   40|\n",
            "|                null| 6292|\n",
            "|        moisturizers|    9|\n",
            "|        John Goodman|    3|\n",
            "|                  43|   57|\n",
            "| how to do a 540°...|    6|\n",
            "|                  27| 1656|\n",
            "|                  17| 2174|\n",
            "|                  26| 4146|\n",
            "|          hairstyles|    8|\n",
            "|  to kimchi and miso|   28|\n",
            "+--------------------+-----+\n",
            "only showing top 20 rows\n",
            "\n"
          ]
        }
      ]
    },
    {
      "cell_type": "code",
      "source": [
        "#spark = SparkSession.builder.config('spark.jar','/usr/local/postgresql-42.2.5.jar').master(\"local\").appName(\"PySpark_Postgres_test\").getOrCreate()"
      ],
      "metadata": {
        "id": "D06eJACJV1u8"
      },
      "execution_count": null,
      "outputs": []
    },
    {
      "cell_type": "markdown",
      "source": [
        "# load to database"
      ],
      "metadata": {
        "id": "Ms6-HluNqFA1"
      }
    },
    {
      "cell_type": "code",
      "source": [
        "pd_df = df_usvideos.toPandas()"
      ],
      "metadata": {
        "id": "VXCCquxgke2A"
      },
      "execution_count": null,
      "outputs": []
    },
    {
      "cell_type": "code",
      "source": [
        "pd_df.info()"
      ],
      "metadata": {
        "colab": {
          "base_uri": "https://localhost:8080/"
        },
        "id": "4wQ3v2hKkoZ2",
        "outputId": "7175a7a4-29f7-4384-ad3e-5fe951b19e12"
      },
      "execution_count": null,
      "outputs": [
        {
          "output_type": "stream",
          "name": "stdout",
          "text": [
            "<class 'pandas.core.frame.DataFrame'>\n",
            "RangeIndex: 48137 entries, 0 to 48136\n",
            "Data columns (total 12 columns):\n",
            " #   Column          Non-Null Count  Dtype  \n",
            "---  ------          --------------  -----  \n",
            " 0   video_id        48137 non-null  object \n",
            " 1   title           42235 non-null  object \n",
            " 2   channel_title   42112 non-null  object \n",
            " 3   category_id     41845 non-null  object \n",
            " 4   tags            41116 non-null  object \n",
            " 5   views           40949 non-null  float64\n",
            " 6   likes           40949 non-null  float64\n",
            " 7   dislikes        40949 non-null  float64\n",
            " 8   comment_count   40949 non-null  float64\n",
            " 9   thumbnail_link  41035 non-null  object \n",
            " 10  description     40390 non-null  object \n",
            " 11  publishtime     40949 non-null  object \n",
            "dtypes: float64(4), object(8)\n",
            "memory usage: 4.4+ MB\n"
          ]
        }
      ]
    },
    {
      "cell_type": "markdown",
      "source": [
        "# Rancangan Database\n",
        "\n",
        "![Rancangan DB - LK12.2.png](data:image/png;base64,iVBORw0KGgoAAAANSUhEUgAAAVAAAAHZCAIAAABfNfSeAAAAAXNSR0IArs4c6QAAAARnQU1BAACxjwv8YQUAAAAJcEhZcwAAFiUAABYlAUlSJPAAAAASdEVYdFNvZnR3YXJlAEdyZWVuc2hvdF5VCAUAAP+HSURBVHhe7L0HXFtH2oe7fbMlyWa/+927u9/uOpusY3vt9MSJ7cSJS1xxBQxYGLCNARvTe++9g+m99957770IEAIhEEIFSYAkVBCgO0cSQnQc7Gxi6flNHHGmH+mveWc0552fcSVIkCA2SAQvQYIYIRG8BAlihETwEiSIERLBS5AgRkgEL0GCGCERvAQJYoRE8BIkiBESwUuQIEZIBC9BghghEbwECWKERPASJIgREsFLkCBGSAQvQYIYIRG8BAlihETwEiSIERLBS5AgRkgEL0GCGCERvAQJYoRE8BIkiBESwUuQIEZIBC9BghghEbwECWKERPASJIgRL13wKysrbDabKUGChE0s8FhcXFxeXhYI5iXz0gVPo9EaGhpKJEiQsImkpKSYmJienh4ymSwQzEvmpQt+dnY2h0e1BAliT1VVVXl5eUFhQUZmRlx8nKurq62tbU1NDQ6HEwjmJfMDCb6psWmGOCMJYhyIzxM25H11AgFPGEePd/d2V1RVgOH9lRV8fV399NS0JOwrYJ8zbMi+e8DuPWCnpvceNlX0yoW1Gw5uzk5dxkxg4P1wMP4VFhUmJCS8soKvqa4ZHxv/CQb03gNaEMafK2yqcfuAeq6wsXl7CJtq3ClsyLtTWL0zzxE2lLBb2NC2bcOGm79b2KEKYVM33PB1sfy8/KL4YQw51tvdW19f/4oLvrK8EjGI2GsYev6woYSdw4a8O4fBkb2HkSHE84aN1b2wMPLcYcNd2jGMgM6+zLDhxu4WNjZvu7Dh5u8W1t8c/o0VvIDq5Sdbd8PX3xl+21aTgfQjw4PDvb09Tc1NpaWliYmJr6zgqyqqkIjRlxdGEciXFDZU9GLD6HMGJNSePYZ1Fe0lbKhr17Ah+38zjCD3GjZk3DHwusn/GOx8BbwQlLz6p0jgVcq/DkUNI4FJ39HWARTxKs/hq6uqUaOo5wnjzxXGR1EvMowMjfdWlOcVxsRUNPcMD22q7gWG8T2HTbdo17Cuol3Dhup2CBsy/rcDCjW25/B8t0XweRC5n6JXBMl4N0RwZaubI4yCMgKTfgg+1NXRVVNV8yoLvra6ZnJ8QhBQ45NjI8iBIXjPMBLciLXrY+PA5OkeHB4cHRufnBifnEQB7YErvb2d3d380A3v60eOjqLRIHb7MAHmUcODQwNDmxODqLGhPhA5iABvABI5NAIfQI6B+RV6clIYRnonm3zdzWyu3vBNq+vtE8m+exAt56cVNnRk+wDemgn084WNde0cNtW4S9iQfYewIeOuQZBr9SMqvLghgTCI3Jy1BCIp0Sg0sOq7u7pramuSkl/hVfr6ehwWJwgTI7i+5HgHT21Z3+QWeJfw+khtT2GQyS0HD5/8KixuHIvDj9T2Frqb3Lpy7csTJ/hB6slt45Si7hEkiBUJOCxeNGAQvX1JJo6WViBxYTcSKRI1PtBW5XPHw9PRJK6ptzEhITjcwDilAqSZxuOFAT2Ebw/wtrKXuhWQ1TI4JGzhSwj46ecKIo3cMeCmcc8dRO7S7gGqYu9hU127BdE3d+fAS7+hup0CHrvXINoe6J0SvGWrt3fdO7iaeO3OQH/ymgf9KSxtegqLQqEG+gca6xuTk5NfWcE3NjQSCURBwCCIXYE+qrqXDhk9q+trFV5HFHckW0m/o6ptmJBPwI4T+juzvaK0bspdU5KWvs9HWvqJwn3XlM7BfmEuQZgRDbjRvpEMbWNl1U++dY1uHupbixobac8JlflcR9NEO7Wnt7OwMD3L26+kZQg9IVoav4XWDtduB+a0IRB4IvHlBdF6dw/CjuwaNmTcQ9jQsB3DDGFm72FjRS8+iHZ8lzADGr/HsLEWfgCF8F4I78aGixu7LKgUvAYFEnB49AR6ED7Y1NCUkpzyygq+qbGJRJwRBOwIqTvQ75HepUPGgfUDbcLrIyWdydYy7zzSMUrMJ6LR+Nx4wzuK//jggU9jSrtg30JHWlqWjU0WHN6xfj/DDJG0LmBHZ3rDAjR0r/1H16+6vxm/eh3f3Fftp/ufa7oaAWE9RCRmamoSM46awkHvB46AnRgfGUEOIxD9rYgqdycTmyvSQTntyBECaQYKRNzk5MQItNaKGBodQaAnpog4UDI/Fo8nTE2iEchRwQIvmKtMYXHQe0+C3m9gNYyikYIF29HRCTSGQMRDvV7fi52DSAf3FDZk3y3wPql7DCQiae9hU8P2EjY1b9uwIeNOAWoP7x3ZUxB+MnlBpC7eCwKvKJHreBx+dGQUWrEfHuEF8IIX+B+JYQRmYhJ8I4iF4JubmikkiiDgRim9wf5q+pcPmwQ1DnYIr4+WdafayLyjpmOcXIhHTQ5HBz/RvH5Q1bWor25KkAY7MjrW3TM2jccKc60F8lqYwVKw9TnOj/W//Uo/ti2nf/V6f05brP5X3+o9cc5pmJjADmamhscYm2fWwScm0c1DZT4WslI3Tn311ckvvvrsvYOfyXwgE5zZNTpGJlPIBAoZ0Zzi6qP4ldTZr746dVNK1sKnbLAZDaJ4QZD92k2Q/dTZr07d03ZNyRwmowlkABbZXf9MwUIZREHhpparRQZiEMSRKHsPm/q7S9iQfdewdvdecFjXqj0GMom8x7Cput0C//3aS1i7M1sFXhrRBN1dPQoKd/lv8ZYh8FkgaWZmYmLi1Rd8S3PLLGVWEPCo2b4QfzWDy4dNg5uGOoXXx8p70mxl31HTNUkpmkFPoRLCtdRv/EtWP66xcBi/ln2rMLcxkOYo421xZv7Kx6/a5z+rmOBfJzRE1fjc+/JBoFlc6zgeRQLNsHO+IRNU0N3XWhWSbX9b8bayrMyDByqwB3LffPWd8ucyIdndqHHK7AwWOVzlFeGk/khe7qHK/QcyssogrX12SDViCnrnp0aq+dlVZGUePrin9ODKVYUnThrR7S0oMLb3DldEW6pKKcpfk3ugpPLg6j1Dd92QfvgYcUMv/rtB5O694LChop9u2Lk7Q4PD5ubmH3/88c828daf3rp9+3ZqSiqJRJqYnBgcHAQ27yst+JaWudk5QSCOzw2EBqgbXjlsGtI83CW8Pl7Rm2En+666nmlK8ew0drY8y1bp4TtHvnkS457RNTY6BsIEBoebmaNQVrOshvmtwmRVULbD9UP3n5kmtJOhZJSxEv88+5sy7sVBlROCZti73JTxL+yqSvbRsLzwoWZYa3r3aguhqNDCnvHxWcrUYGOe/gf6Blr3oof6x0lz3RmtYZofXrDU8CntJhGJpJ4SvydWVz7WCm/L7Jmfw47MlVlZ6hocvvkspRM12p7aEqx++LKdun/FwOz0zGxFTXVdTPQQGpQzO7+hI//FMD87/5LChop2DRvex13Dhuw7BtCYvQZe49dVIfJaNKUglpdg3t7O/k9/+tMvf/lLgdZ/9rPf/e53X375ZUdbO4gFg8Pk5OTQ0FBzc3NKyqsr+NbWViqVJgikCepg2DMNoytHzENbkT3C6xNV/Zn2d97V0DdLK6XO4qgYdHN8gYvSjS++PvnRidM8HliHhDRT0QTqBmhU2uYwO5zfFmd4+TMjQ6eCFuoskYpqjnJ9piRjntqeP0ShzaBp8LBn9q43b3kWV4R46+vJf/zIq2KwCU9di5INK+qbmJhHjHWmu32taG8SGoOcmSTPU/FNgxVejz6W19OPTh2amhpKi3a2vXfbKr4BOUAAFU/RMKlRJvpyH6l7FQ8216e1haofuWKv8axyiDpLpk5hp7CjyBkKeR40kgr+eY5A3Wv4HmwoYaewoVW7BeFbvPewoYQdwoaMu4aNfdk+bMgI/cf7aM1TQQAJeFf5zeDdQMA8tb9vICgw+J///KdA7j/72d27d6urqsEMHySen5sH2h5Fjra3tYMB/5UVfFtbG51GFwTKJH0oPPCx8dUjFmHto73C65PVA1kOcu8+NjBPL6PR8eAKAT7RnhJspm+oqqqqfFdV6pMbcuq3LPNzenAo0mquHQKha6Qq0OBLKUPj4BgEEYOpzvJ21r9tEFE30kWg08mT9MHwIEe3W9ddStItzZ4anfzKNa4LhQAZhVF3wov7JzGktuEq76fvXYFdVNXy8XH1AVjYmShf+ss39zUCw7vGJxu83S3tTt8JLxiYxEBVz9BpTflO2oafnjNN6iluroPnOcnfgN19qGvj4+Pl45OQX1c3SifOrm+tJHzfQNtz2JDxJQWgZytLq08++eStt96SlpbOSM8QRNHp4DuBQCCgxlCdbZ2pqa+u4MH32QJ9QRBmMQvDEcGPjaWOWIS3j/UJr2Nq4NkO8u8+NjTPKKcvEITX+YGAWqi2t1W88fZ7MvqZ8KrJ9bFbB+wUPC8WdshI39wwC4VoCgp0cr+tGFs+OIVdWG0GuCLlWBKpqWlkekg+IgeOmRKNko8oAVewtYO5JrB///Pg799483/+58//w+fv//M/p6UNo+K7x7DFVlZ6xu/dDs0cwExC9c4u0AerAp7YXXxfM6Izsx+LHSqIf/CZ9DGQ+a23/vjbz+XNDPMoCBwdpH0+1rr2EsJzsSHviw/0vYe9s6mW7xX4bH69/k9HR8cTJ050d3WLxtJoNLEQfEd7h8CpD2AeyxyJCnliInXEMqITNSC4ymRO1w7lOsn/+4mhRWYFgznDYDJFA43ExNXluDx8fPb409ievKH1sVsHGmWis93jqpax8Umr7Irg+x5uLnIe7T0TFBqIBc1ARIU4e9y+5V6W52Bj53xBPqpkEDstGiUfWQauULtGm4INDitoK9p6FhdnFxeXQKGspLi+rQ+FxmNoPc98n5qc/dwxths9DNVLZjIa8uz1dT+Qsk6HV6BpNAoW3VnbVlVSkBYTZ3RGUVnjpF5hBZJIhBIz9hyE/fpvBwEbrr7AsOnCiwqbLuwQNrIheruwmnR4aKi+rp5EIvEv8QFfOkQiUQwE39HBErIww8IVp1rpq35517VsuJEouDw/nNsSrX3ujI2pb9UgjTI/3tTb31/cT5qZY0DRC2QWqS7XSV3zq6/1E/uLRnl5VmFvExZmUPhiI2tr4w9l7X0eXbRz8zYqxqFmFqBY6jQbGRXq7Ckt61PeFOprb694zj6xBT08z2KQ0eRae2cTi2/ko4qHpnFMDBZeGHxV2s7c/1k/aWpugcVk0cgUdGMjEoFA02do06vdKUU0EtgsGo41Hh9qZnzthFFILaptaATb09Q7RZmcYy/gkbg0dX19g/fU06tGCBRB8/eOaOd2DS+RDTXtHF46zD2H/bGuU1CBws4Jrq17xWd9pYwFBnmGjB5Hd3a80oLv7Oxkr0Fns1HNMQaedz55+qwusRF0FmKwyD/F/vYHBnGOBcNsygS7zj4sIkQ+oKNtcAKKnhjEdQT5a6pd+0TVuRjZTBCUxWdxu0DHL6LiI11Nzn8pJ//lOVPXiAQUm0DnRdFwi6NRoS6e0vIBFYjseAcz/WPyNslthYM4zFBbd6i8+n3VQ/JR+cM4PAs0p6/O6Qtzc01YEK890zhkT1+2mU1mVm4di05hoZqj9D1lPnr8rC4BdAfZi8s2Nzey+lA1qWiEgKjPbgsx963oLYCvRrl5f+5U3zsxy2vj3lnr1t7CS2SR9RyB/bzhedmQfYfwvKzPte7mQlGCl8Jrgleiuda/AIP8PHkeM4Hp7HrVBb+4BmtxkUqaKGvNMjO9JHX7i2/5fHVR8fIjd6/KgQ7c/CJzZpGYleqsKXvkxPlT30DR35z79oSUoqana2ZvB4ZKglx9rsHZLrDmOdTO0kAdjRNHjpxQ1wks7aQuzoP6AXQg+OhQFy9phYgKxDC8OqbIRPbs+fOffPXthUvnFdVlL8gYXFSILkPgCexFJm1mZiQ7209TW+rE5bNQe76+cPNjJR+P7M4Z8C6yaaT+zIaQB0rnLp4F3fn6wrcfKz2wiA3qwaDmGfO92V2BSheuXPjk1GqUbVLIyMw0DbQDtPEnCXRv2XsNi88bnpcN2XcIz8umXGtvGJsDha3eQUGXtwIYBUDw2ElsX09fWlraqyx4zkawpMmqXBtTR7VVTHwtwxt78HNzUCydwxnuyo0IUVPTFUQ/VVNz8E2qayRw5pi8AvYEi8MhIuuSMlwNDV0zkuqQRN4lXswch9BYV1wWEtE4iJ+bn+6arA6xNdNVV1d7qqfrEBLiFpjFi5qf5yytlpOc4aBu+FRdTU1dTddMLaQ6t2uaA8UuceaQ+J6MCEsjU16culpIRG73MK8bHGz3ZFWIrSm4uDFqibO098CraO/w07+ssPHvHcP3YkMZO4UNN2rH8BwIK9gGKIZf7OqfguT8v3msVcr/F4zz85T5acz0QO/Aqyz4rq6upRcGZ2lxYWF+lkwgEAlbMjNDmqMyF1ngXm/F8vJzBJB872Hj37uG52StWXsJm2p7gWFDVbuEDZl3D5subB+emw359xZE4XUKusz7j1ckP/DSCi5Afwj/FMYtgUFePATf3S3o+f5hzS3jSgv8jVXPnLl0ZkvuSCs6hrZMDcwJcoiy8vzhZbKyvLL3sL5ZO4eXyoa69hKejw2ZdwkbbtMOQVD8nuFXIIqgSsFfgE0Fr6WA/ieM418DEwCxEHx3d/fKi2KRtkJuaUjxd9TQ0NLYEjNjq8isAeIYXZBDgoQfCcCwp4qD4Nf9LCdBgriysLBAIpAmUBM9nT1pqa+u4DMyMkolSBB7SkpKCgsL8/LyMjMz4+PjX1nB5+fnN0uQIGEVIPJX2YklmMML/pYgQcKqLiSClyBBLJAIXoIEMUIcBb+yssLfXQxg8IAeIOSdjy9IIWFnVjjLHCaNxmSyOMuCSxJ+Goij4Ofn58vLyzMyMlJSUuLj46OiokJCQvz9/VtaWgQpJOwMdRDXk+lsn5laNEjgcjmCqxJ+Aoid4EEPOzsba2pCysvdi4s909LihJoH+m9oaABfB8vL/9Vxi0WgTnZXJje0dqDBuyGwOpaZXNrIUENbSVoHgrIwt3alMCMkJAK0HhARF5LR2jBEoIFIfq5tYBGGJjuLkos6NyeeQ3cgGpJLuieHJiao032V5X09mwskN6NqfGGyvu4RzRNcLltw9QdnDk2Bl6clRvM6D/4tr2xoQ0y2liTH5RQ2VI7QqExeqzfcOuj2tlYmxyXwsm1iXTlbpMmsTOvAURagt2WZSaWNVDYUiqSKTgwph3eg57Z4d4Tw0yBGNjcjOjGtHE4BuV8eYid4IOnISLeZGZeVFWcG4xkK1YZAwBGI/qGhnoAAX01NTQQC8V+27YGcitxgB7VMbfPquFwgNgg2iTsRH6FlceOobewAdoS7tMyYZgyEhj6VOv7Gn//61p8Bb/310BvHTQ2imsZ3EyGlLabU6dqRC7baYaKJV8BoPZxtE6VxRNqzNKa0HN0Qon4/JCC+HbOhwB+J4MdKhqJUTh77vz+89rvf/PKvf3hTWdXYNrHI9ObBv5/8TvNu1MjIDGsJJNtw6yjt6HI79c8Ov8+7Z3/+0x942X/3hzf/9CZ05Z0///m+OlSO2c2D/3z3d6+/ASUS4Yz6SbfmIRx9hcOiT/UPhMKeSh0Wpnnr7fffkA9yyBvmsEkrUKVSn/zyd/+PoORV3vngz/ejXZOSUEVmMNEq3nz9wKEPb/t0ZAwsAqMJvBkvA7ETPOhkUJAtkWhFo8UODZUHBfnGxNiWlpoWFupaWircu3evsbGRRCIBzYOpviDPD8yeBD9FQmXFws4Yquhp+lRk5FcA8jNyfDSt4zNL2rhcOj/XNixiKgZSTK99oG/kIpqYweX2VXqZW3x5zTxtoAJFYlAmB/onJ7BzzB/nCL8wQx9vbM6yMrwFO/n2Q5PI6tKO/K4iG/mDX508LH9bOzR3kjgFkm24dYtzDNLoQFN9A7hlJVkVSaa87Eomkamx0F2srajoG4DKcZQ/KKei5OgDbix0fZW2gWbULJ21RB0sagl6cucrJRU9D2Ga/KxcH0PnlLzKPjaJAVWqffFtJXNByavUNlT0TaEQVagiR5hoFbGOsaZyx0876Ac39/HejJeB2AkezN49Pa3HxsLx+Jre3t6YmJjoaL3UVKmEhLNPn566fv16dnb26OgojUbb1rDnW2s9fUX5rZ1VcYWZwBYDVltGYcPQCI3LtyI3WXQJccmVrZNUAosXuzN7ETyrf7LFX+/waa0nz8KQ3Blesay5OWR+fn9vLxK85mXaFvrQVFO46ambZpZRyTgumW/QLJK5uOQoS7Obp0zDm6aGyIQ1k36ZuSzaHW8TJxOV4xecbdYEz2JSJ0cqk3nm7XPfDTCPgJeH8G3ziLjkjNbJIQJrcYGC60irLC1MrhyZpDK37tGG2wLdOiegIunjCrpWVra1iDpQx8bvShG2i9ryLVgD3C8cPN0+SObLb656Wyes3fC1t4BNYm1XKZ/NVRDqkTnW1/59T8M0rYjGndvm07dPxFHwLi4uYBgfGhoAljwCMVxV5RUb+01w8OcPHnz83XffhYaGtrW1zczMcDjbrEbxPyWuHpe+0bd5ePDGN8Ag++uf3zgupR0WNswmMIFhsLLCJLCHw8K0V+3tNw8f/EBRP3u4FreHZe29CJ7SiipxVzqoYWSZVc5enn9uW4RCHi9NVjlibmpjXsWZovLyU7HLNVa25pZHVJJLx8kU0AzBMN6EZhKoot15640//X//+s2n5rqrgl9axOIGMyKVPrx+5K3nuxsry1wOYyDLxkf2D0fefuutP7/5t0MffmlREtNMpmEH6myPwm5eOgiLL0KRyLx2b2QLwfNundKTuHwbGf+6yAbCqnX9AgVP5S7X5FrfUz3w8ZMIeOGY4Oo6titZyKYqVjiDk13hZu/fNteLScZwyS/HcBI7waPR6KKiInd394gIi6oql97eprIyZx+fT2/fPnLnziV9fX0g+Lq6uunp6W1n8vz30gh27vA3Gq5xQVnl5Xnp5T6aekaOF2zKG7HzVC51HttYbnPB0QjY2+XpeeXlMR5xthrfPIlxytvDsvZeBL8Ix3Q8Mz7yKUzO1ricgJl/3pXyRQahv8f3mp65+Rm/PgQBsh85FDQh/ZGru/M1355+AmNxTfBl/djGQtHuZAXE++qeu+rusCr4qebIQo+rj6x8ncOynu9uMEicvrgQV8tzCibeKVlZ5TE5Bc8cgzsr9il4Y7+MvnwHTe/YlLpV6/rFCZ5D4RLS4/T1ZQ8/9muY6FkQXF7H8wueOphZH6zy9RlDPd+KHiaXIRnhn4vtBD8/Pw8seW9vb1vbR35+qk1NlWAOr6b28fXr5x49egRuBDDyGxoawI3YRfBmjy5/AXMuQLUBBS/gud3eHjYOX8Liy8BHk4XC9SU7K9y0c4lIRnLJwNoD1lqR/bVv9Q3ci1poXPrO7+VeBM8lzGHK8g1ldOSUrtx3dvMKBMbwc63xcuanyBWmtsZmJ5SSa1DkOS6LjutrcVbw8vY3rSBPgW8QoeADk1q7Emy/O2tusTp9EEZBgl9kc3FtUU4+ty8bJLcWouhc1gwXGfbMwvzsd84JXTjU/I53A4el19jamlqsqppApw+1tEyjUHTWHBaZbxsZ5G8V2dI/Q996VWI7wdumFE/3VzhZxkSnhw6giSMxzy94e9jBq9JSmoYhIX7QVENAZmVHB4q40BPop29x+rR32jB+ct10hrfI34HGsUmLUMlq5/4mpWrj5sDPzEPwNqE2VuHtaW9tZ6bpmp3SgALfbi/px06xEzydTh8fHweGvaWlpZKSUllZmY2NxYkTn2hqPga3wNfXNz09vbOzk0Qi7WLSu/vKwuJr+CPPhiukprEqb3lZX7e1Ke7oNDze/gMpC+3wmHEuaWdrbU+CB1coXExqvInM6bfe+ttbb7315h//eeiD2z5t6f0s9vIe1njZZC4mOVrPXPp986jeqWHOzMxoZRRMwdczWmBPClXt5lNd6HL7sI6JXUEDvz3rBE9lQ/atm85hk6imwQ4KAEOhFCab6KsfhLkWoZpHdrwbAzhSjbOjufl/5EMyesbGKJTZuXk6a2lxj+PbtoLPq6PjaE3O0fExyiEtyM7wsOcWPG8J/bU/vv7WW38Ct3eVM2qurmXTuFJ7OxOLw/IxhWMkEpdCQZenqn0qc/T1N//419/84s49UDubRINKvvrJL1/7f954801Bboh/vX9CJWqopH2tij/+6c03/vCb3x5X/I9VTR+WP796WYid4NlsNhBzf3+/s7OznJxcSUlJXJyxuvo/jx8/pKqqmpSUBKb3wOxfWFjYdtFuV8GPlwylGn9508No7SOOJyJzQ69/ZGHk4tbGxe28hr5HwS8vcpnT2OGulvLyKvAFFuMQY3Lr+Dcaqu7F5QTu7jb+MoPL7Knw1TP/7oxFNqJyqHeyJVJbztYzZNWeFKrayq402fCT8/a6gXUILpcJ8ooKnkNhQ/Yt7Owf3vnsy69Pngd8e/78Zx++8/mHB2GWQPCdO96NZjpuqrkgQO/BV0fPnv3mm/Pnb959aJ+PboaW1/fADoJfotNmmyuiYlw0XCoavO2fW/D8JXQHHzBjA7d3ldb+sTEckTUYGqhrcf5Lt+Qh3Dh3cZFBmu5v7CoKiHd+fO7/1HXXBK918YCSWURKjCA3RE19cx+GPoNZq8I9Kz7C5NxN+QfvPUqvQlOogka8FMRO8EDGDAYDj8cDq/7WrVuFhYWBgXpycv93/vyXpqampaWlCASCTCaD4X3bn+V2Ffxk+XCa6enT1vp+1XDB7yvTxJGswEvHLQw9vLu5+C1nfUL2KPgNENpQBfawL47f0/cLhHOJu/+qA74SyENZtuFqJ2561gSnpvRlmipoxftnDQnsSaGqbRzKsiy+vOVpJlTsOsHPssnZiUaqV9/69Iqsory6EFMjq8is/hnU0M53g4NfIKMaUrIc1I2eqivf/EbmwhdnTfOD63bfPgSxg+C5HBqXjCpMyTd54h1roXzH4DkFv+ktEMKZ5UJd1pZ/T8mtAtUmnEOJ5hIIfvv3SyRxNZ0w0eLnb6FxRUbXvXSoc0+/5XxPxE7wAP5e+mfPnl29ejUvL09PT+vw4X8ZGOjFxcU1NzeDW8BkQsPYtuwqeErbeKmnymENU5vsKg4XMtGWh6d6o8zflzbXWzWYd2BzdgBrZnksKlTbQuojx0T49Njy4vIig87isDir30orMzPI/Ci5Q+YmdvYN3OmNH9KtobRFl3pJH9aMempiVOYpKx9QF91GEcQJVe3pV1PrJ3fb0y20cWwZ+v1pZaYRWeEhJ+PDs9LpbG5ToYOX8Yfm8d2Tg6vtWV5cXGQyF8H36453I2lyeYbGBGn50xBKa1SJ49WDVx11olonl5cWmPN0Gm2ezl5c3ubbdyfB84Q6VjSeoami/+DUJw+lXpTgoY0LTUWOypr/PvbApyNTuE/m+wq+jsumcTHtcQauN49escgOrcPvaVL2vRBHwQPA5zAgIODcuXPZ2dkhIRow2O8//vhtfX39FyP4RQyhP8332pfm5l5+fVxoCXyqEpFtceY78z0twG7ODgaVuUlCvra5idlnj3ObJ2YXpppxjZEueYPFg6sGILV3stZX+9NvNHUDQxFc4o49ELKIqejPNb8Gs5C/CnN4pGCRP1iBWV2qFAo+JKqxO1L3uIqNeUo+gTsHRNubUusP+1TKiWelL7G5sz2JDoGwr9Uj6zNX2zPV3NwaF9dKIk3teDc6CCR0WVxrazN/GrIIz+yI0jiiEWWRCaeQ0L1xD12szZRdyttw81sbursKfmGM0BPr++D4+XfPHD1qG/ZiBL8EPl9jBR6xKqeOn7TWD1ndJ/P9Bb9M4zLnhnMaQx/f+VrN0ClvT5Oy74WYCh7g4+Pz1VdfZWZmenk9kpL6w9dff2RpafliBM+l0wkdzb5yroaPVYxCvf1DQx1sPfUN7zhmhe5pAZZOn+lqjlD1s9DTMQr1A9lDQ4P8fVyM1LVcQwzyRjBzLC6hbqLK+clTR31THyga4OPoY6mvruzoGdPQDFqwx48LfXCqI9xU7ua1k9duypmGd0wNCtcXhIKPyOtDV2SoP7BS03/gEuodFBrmqe9kKPf+BUehkU/oTa8OU9Y1sbRwFLTHwdbXxjasDjtD2PFuEGaxhGzbGD9bfslQlLHpnbDahF7C7j/LzU1Q+nLSnj1WOnvlw7/J3LfNSClLbSpyu7NOqHT6dGuz42Wl4xcPHLUNfg7BQ0voMtc0jUJDee/AKllV/L30dFRDb5Kt7o17Dx6bCNL4mLqZ3L9ywd0lom1EsPFG/dzfrj2ydXfg5+UTkxRaPtjRXbrxO4WOInQk+crd1FC21g7paCfynph40Yiv4P39/U+fPg3M+AcPHhw4cABM4JOTk/cmeN7yuH+wilpqA5oCWcDbXREuob915v0TrlFDuC33aGwFZDSWuKqpvPXWv3hLu2/97fBbp+1M1ra1j+GGolxPvH+GHwtx7PCnanbl6PZVk3xvrK4wX5T5VC21nN94PpR2dEOwmkqwP6iUjmM3ubqqCWo7dubMxccmF6/7QVGC9qyWc4yfBFrOPuHaNMRfn9zhbtBxXJGSRaPouKEm1xNqipsaJoS3l/7E+/w7BP5VUTNxTC73g31qYuda0sS7iRCCKnS3eAsEDXOEnXBNFo3i7bdX+/SwsDdriPSLTUFjUtVM1voM3qVPT9uVx4P3YGOXRfjX+2+pRLkmp6LL/dTWN3W1QMXn/LQ8B+IreDgcHhQUdJmHmpqai4vLXgXPXx5HT/b1T1MYvB/rt7siXEIvb61vHsPQWTuv1okAGY0zY/195eU1vKXd8qq68hbk8Nq29gUWHTPWXN/Kj4Wor2vsR5IYc9vsHtiG1RXm9q7G/mkSv/F8FucYlMn+vkk0qHSJtTw7NtYvqK2+tbV9YLi9Ew1FCdqzWk49Pwm0nN08Bu05hyJ3uBtLLGAdC0sWjVpi0WfHmvt7NzVMyMIMHdPXXM+/Q+Dfvv7h0WkSuqdxGDk2M8u7iRCCKga3eAsEDRvtaR6bFo2C9tsj+xvrhL1ZQ6Rfy4sM5nT/8FqfwbvU2IIkYcF7sLHLItTUl/dhxqZxDBK6f31TVwvsfc5Py3MgvoKfn59vaWlRUVEBandzcwsMDMzNze3p6ZmZmWGzd15V2we8ZzOrUuITBebdBiJDQzOLGodHaFzW7ivU2/ADVCHhJ4v4Cl64AwdY9WCoT0pKqqurQ6FQVCp12y03+2cHWxECWH+nZUziUzFcyvf+zvkBqpDwk0V8BS/cgVNdXV1UVNTU1DQ6OgqG/Zf7YCywFWeQ/Q21dWVbUllW1tw1PDXN5O51q9lmfoAqJPxkEV/BC3fgIJFIMJ+fmJgAWXbabyNBwk+fV1zwnZ2dYCTfDhaLRaPRKBQKmLfPzc0tLCwIIiRIeEUhEonZ2dmvrOAzMzMFluxW8I/gAfY8oLi4GPwpiJAg4RWlsLAwISHhlRV8fn4+mJxLkCCBT3V1teSoKQkSxIVXfA4vEbwECaKIu+BXeAj+eKkss7g05HBvf0UVcprKeokPQO7Mj6QZEv5LiK/ggc6XlpYYDAabzd7W18Vzs8Jdhlb/6QtszoYnOjc/cvMSeZHNWFliLzLp83Qmg7204TYtLzLZjHk6a5G9JKxkZWV5kb0wT6fR5xfWP9a6sgTSL8zPz4P3ZpW5eSqdvd6/zcryMnuBQV9LNTc/T2UushcXlxdZC/MMJlPUbTuvpwwmncoErRMpZt/NeEUBnRVTwTOZzMmpqbyioqaWFiKR+GJ213HmuYSK4rQsR9eK3g1PdP6Qgn+hzaAOFbclmKuYJwQWD23wwDnVHFceqGKT2lY8JKyEOo9rq3BVMdc1V3GtWPdYK3UI1xbpqiIHu7DGbcVHDgXr/Ntw5nGECtdA87VU1+RUHke2Fbe14dpSXVUCI+Oa+4Vu2/k9DYy2eRRfjiaJFLPfZryqiKPgwdgORvVRFKq0sjI8ISEhI6OqoQGHx7P2b+Fy6Fxyc31JRUhEM2KD38UfVPAvshn0wcymoAcnT5qJuKwBLHK5uPYoK69bJ9XCmzKFT9VCDjxjnRU+Pfvh2U8vOMd24VDCmwo9c2oDO3jyzCcXrj16pPLo0aM7F5Sunz2vkepbPAE+d6BEFmF4vCom+KmimpK8IM2jOypqijefpkUlJvcVuSlseEad353Nz7furxmvMGIneGDaLS4uzszMFJeVeQUGJhQW+sfHuwUHN7a14YnEPdj2AlsRGAhMDneZbylCztWhC5B1ywHfG6u2tKj1SEDN9ocEOHrchsVXrylteQnYo9TZ+TmQAqRbYC4ui1jHosYnSEGlg/nHnnyhrDfpd2zGyvISh0ldoG8yfYUIXNY8XueBZ4XK5VRl25g+PqziWToudJOzMtM4WmkDU7h5+t2vrx+Rt85HNs6sFrnO5QNPsWOF8PAnHx14dM86t2YZKpFQH5ZncO7oO+oPnIubBKoew6ELXR9FJvkF1BW5ye5N8PtoBnedQfTKAT4C4iV4MBXE4nAZublJ2dn59fVtGEzx4GBYWZl7XFxxXd0Mz5udIOnWCGzF6Mi4+H4uiT/eMUjc/vi4yGgVx6y23qw0oS0taj2eP3Ph9LGjpxQ/gcWXCgQPKiIMFQdGPr4gdw2kgMmpuEa24USsY1HjE6R4bB5YXLEXXygbTPodmwE9pBn/yNV2k+krZBGD70/zkTphbu7l3y/wwMNlELj9/l7m5iekfNL68UI3OdS+lJbI+3K20er3ld0UPrsXWJvSt1rkZqUt9Ew0+GkcktXXj08nMCic/roAe7tTMtoe5WndRPAdwntodIHFIIz2TWL7Sgb3PMLvoxlcyouY2/1oESPBg5EOjO0oNLq8tjYyJSW7rq5jehq+uFhPpSYgkWbZ2e7Z2bn19ZO7PA8v8KBiZeeklIIb553StEgex6UoWZkZn9RLbWoK9IcM5pga1MRQZ0KFl8KDOw/k7zx69ODeI4VvT19SFfiuB7kWiLjO0BQfraf3FNQePnh0Rx6kVPCqSOgk0LjA0qARRLOrqDy6dlNJ30cvAzlE2W3usWa3796MPZz3QJ+faio3OWlsZiXs8vLcJK1Iz9HO7qRJedPUPM+gB8YRDVUcmGkm9zS+IzjWr9T7hoxhcmAxCogKMpw2KY1FqOsvsFb84qGxbWY5cW5+rijN1Oz+oSf+dRPd6+YhPDYLFbCF4PfXDPLL8i31I0GMBM9ZWiJRKAXl5a7BwVkNDa3T08MrKx0rKxUrK4lMpgMKpZqR8dDbu6SxEYvHg28HQbbN0Ka5TY72Xt4fWlT1TVGXucvUqd4qi/dNzXWVY3rGuyN5SouoGW3PD9N2vvaRbgLvNKI1EfInzyBXX5XFh2YW+vdTMONkNmRYJuh+dM1ZO6xxbJnFWh5rDNd1vvmJfuJgEcjOr9TU4oh8VMEoSWifbs1aXbs2g0vDDTW5fPHorvQnj1LK0OQt/eWwyeOYJGVdc9P3Lap6oS6vsEijY1EwD19P5SRe4yFYXKjNHl6yygF1421jbeN1AcqyXh7hAteXPKW5wg5qGJimFM/NYefmxqtDs+xufnjb1TiuHcMmscdjw7UtpD6wj4NPj/JKXMem7BDE8bmB0AB1ExEHlftrBugsVMgrixgJHsyRc8rKAlNTA/PyyqamGpjM2pWVnJWV8OVlFzbbjEhUra+Xj4jQ9fICySgUytKSwGPKRpZmuZScRAdvlbP+BQjCFHeKgMj2Pwv5ZPRpm8IPx0JykguoaYkNMjdR/lwjoIl3GtFGpYFcBf5nVVytY5KmmeTFZciwbArQ+FzZxDylAHwMsQUpPi4P5e1TO6fHIP8vvEqtzBQ+0wmsnRTap1sjrGv3ZnCXWDTKaGNfd2d93/TMlo5lwMDIwDN7fCAf9mf9s6EuU+cmWwp05Lw9Q3x6mHi+U07OHJcA2uz9SMEnfxCPWcDgB/N9FB55+6QU8Fxf8pRmCTv44fF3P/78woWzFy6cUdS6ZRubUDYwNDXHpOOW291cjCw+uh6agyTiefWuY1N2CP4M5Z8XjwkdVO6zGXwr4NVFnARPpeZVVvokJzukpydOTKQyGLHLywFstsPCghGZrIVCwQoKbnp4qNnaJufkgBvBZrO3GefBODFS98zV9aLSs/rx9sn28RovpRNqkEGII82P8eQk7VVTYG8DnUbklQqdRrRJadDxr4F6h2/cv/bUOCwsIAzg6GH76NrfzqlrRcQjiKTuQD8H17Ow+AqeLMFEk8vtKvcwNP38knXWSPU0dGlbhHXt2gx++l3hzHPJ5Zm2xmonlLxqxtsJKFxfprPCU2//NRt4mY6jtTi76z789IsHhs4+PmE+Ps6GD7749KGuu3MLDUdf5ilNsDx+5Z68zLf/PnpR+bBeUcvkHDTw0rDcOltbLYN3LgWmjRC36J9I9tUF/NUZytEbnxy1DecJfr/NeNURI8GzwAR+aio8N/eRv79ZY6PN9LQVi2UyP6+Hwz0ZHlaqrLzm4XHt8WNnb+/yiorp6WkGg7HDov1YoX26yYc6iX1Z+dn9sU8/lPHWj+HZpXw53XCridfRMbM8DIsv5utqg9Kg418t7h38579/+/s/vPnmG2/y+cubb34lbRyXMjRNroIOMzokH8s7zAjKz+WON4Vru0h9oBMHL9jC5BVBWNeuzeCn3x1QO6YtWtfz9vuPo3qzGupHK71g8gGe0W2rNrDAyNeV+vfvXxd25403X//9v6V0YVFjoyTWCqQ0weS5kjw+lPLQQOPRf+6G5wwT8EsrgjnLPfV3/2Md3IdFbP6mFcm+/Rx+38141REjwQMTHVj1tR0dnsnJyiEhygUFTwYHtcbH1Xp7FQoKLtrZ3dbTe2pk9Cw4GAgehULRaLRtrXpoZTexJUzlG/sCWw/X9lAV1cDmmLY5Jpu0zJeTtHdNibODk/slWHzllkqDjn8NNz5yV+eevVdpaU4pn4rS0qbOoanpWeLiEHSY0TneYUZoqEI6l9te4mJk9NF1uxxk3RYmrwjCunZtBj/97oAvPiamwjfN7LsTFtm2vt4tkY/kbPNDKjCrNrDAyHcxNTdOKM0o5PWmMKM0wdjc1EVOpwCMn1QRpdUuUmemK7K9NDWuX1QLb8wfogrmLMYG8u898qpCd26es+xJ8PtuxquOGAkeDNdMJhM5Pp5TWan/7NndoCCZ5GTF8nLZlBQpN7frmppqenpOzs4JCQn19fVoNJpOp+8geC6hDlnmJCXn/OCORojNY7e6iTqCiJzk/Gs6IgKcXZQuuKTxdn1Apmari7ulzaqVTphBloVJyTlZh4QhaTM8h5KLCwu4zs7JiQkcZ35RYEIrQyb0PPRLABeXEm1lduukSXiTiPf4LXmOZoBKKbjOjOrykrRqJGbH3fXQDpwotZOqXg8eaMSYyT2O71i/3ybTZb2RLziSSVj7tKhioXOgxir8kgwu37zn4ZLQhaSxWMsjrRHO7t/demCaEVkn3AMzv0BFd1YPjjTn7b7x5gU04xX37SlGggcTcr7Hj97+/sSsLC139zNGRhc9Pc+amHynovJET8/RySkiIqKoqKi3txckY4FP4E77cMam4QmOH1279a9b1+45JqCmIS/ia+NncA0qP9HJwuAYzCGzr2J8bgbdNxQFe6KqJrSuabjBJpfjVlZa9yIG+saJc3NzWMRIsZVdfl5hE//soVgDb9kPn4a1pnVBcXPFVlam1h9sv5a+xnM1Yy/HsPOhtI3XeSrLPr558uZjWWXPug37bTzl7/i5R7WKLHQDVTYV2pvqHpF3LhhtRDRtHKIp7eOlLg+PXXmkGRI+yMIxl0ntcWU2Vz96W0nRMm11Kb4L0Z9ipRwW5737xhvEC2rGKyx5MRI8AAh4AYyiOFxHd3dsZqaBl9c1Y2MZXd0nhoYOzs5A7YWFhT09PVgsFiQDw/tOP85xF2YnmnI0Ppe/Lf+5cU4TZhbyIr6mtOga1OhwbVyJqdx3l698cfai1PUr95/IXbpjJLSul1izlNHs3AAt3Zunb1z+7uLFi+ek7hy/7+eT103hLi9xmXND2U1hD1QuSl34Goq7ePz+I6t4ML+d3GYtfY3nacZzCH4Rgx9M81E4ceXklRMKPmmD6/bb1Ibc/0wtwiEDLrLQDewjSneCVYDCZ8qBtSk1ZRuVtjg3P9ZQYXtH8/ajc/fis1Ek9NzUdEdepqWihtyF46DT4KZc/FpK5uZ9l/qs4t033nS+oGZg+fleRcRL8EDAHA4HiHl6erq1oyMhM9PEzc3UwcHdwyMyMhKovaurC6idP3vfUe0QrFnsSK51eFy4de4IdpZnCws2sZcHh/M2sRN6sDXB1sbaqqqqT7S17YKDXZ5lC6J4qcHEdKw+KdNOVf8JSKKqqm2sGlyT2wPmBjzoYzP9meHm+ka8OFXV4PDcnhHejwS78DzNEPTimY95eHO/oGHbQafP9DeHm/u4bExMH6vvL35mntS01vhVCD25TUnmz4r76/v6ZvqLw82TMkV6waHPkJvDk3yeGVvn1mBnoYdzBFd4neahbWwdXIPtQYG7sTG7oKdJ2c+sc5uws6gX14xXFfESPB/+ZB50ta+vr7i4OCUlJTExEbwAicFFBoOx09T9v88Kd3mRzaDT5ubmIYt3M9R56gKTI7InX4KEVcRR8GDoBpKm0+l4PH5gYKC1tbWpqQm8AGM7f6Fu17H9vwmHyiVUlARZPLl48Tpk8W5GUf6+27o9+RIkrCKOggfwbXswmBOJRAwGMzExAV78BNQOEBixPnbAPhfYvBsw0jcPz+yfGdvROpcgnoip4PkA235xcRGY9y/a740ECT9SxFrwYDAHAJ2DgR38+2Mf2yVI2DdiLXgJEsQNieAlSBAjJIKXIEGMkAheggQxQiL4Hwxow8wim81gLC5t6StSgoSXj7gL/odbnIc2zFSWpGc7uVX24aiSTTES/iuIr+A5HM7s3Bx8aAg9MUGn05/nR3iQkkZE9A1U1gzgqETh1nYWkYobqKkc6ENgSFQcgvdq7XHLtQdanutB9K1hERGYrpL0kq5mBJG29pQIxPxEF7I5vbwXgxBpGYuKQdakl+SXpNesfwYWtBnTXpOelBKxRnxKZuUQZWJekASwzKLSkDXNJWupYpLSs9sxCAyGiumtSW9u75rAC55mhVJzaUhEc0d5ZheSsiBSzH6bIWH/iKngwag+Nz/fD4cHR0Zm5+ePoVBMJnPPQz2by51o5mnXtwbVLNQupR1dH6SqFOQXV9qDqomEyfq6R8RPcEn8pzRfqOApbdEljlKHL9hqhzeN8xrEA7R/aTjHJurx4dseJdEiD6+SRvOjYYcufnnxkHx0vqgPTMgbhBns4D/e+e3v//DGG6+/8cYbf/z93w9+IO3XlTXIWeKVuLK0uDANHwqHPb16UJDmjT/+v+8e+9y4IDI/f3TDk2eA9U+wjfAvAvbXDAkvBHEUPBjMFxYWWtvboxMTo9LSQhMTY9PShkZGqDTBJ3Y3thH84iyDjO7tRqMwY1OomtiXKfjFyfL+ZBOpDw2MXEvaed5weDC43P4qb3PLE1Jmqf3lk2sPr062+OrInT598PTpz3R8RX1gQkpzhB2UVVK09SwuziouLo60jTSS/eKMk2FoC/9EJ+pQSWuo1t1vlFR0XQVpiiNTktweP4yODg5vKXKT26Pg99cMCS8EsRP80tISGNs7uruzCgujMzKK29sTKir8U1JSiot7hoboCwu72fbALh1H1oQEacrKf/alvLGruR9k4EZktzf3DeBwvZWVzeX5iXnhxk+++kxeVkXVPcIvNCIipSS9rBUzEB60JvhV+xayYmMiIrJLmtfs/8UFCr4rs6Z8k+krhD6IaQozOXnLzCo6Fc+l8KW9SOHiU/leccKaMCLeaIr7MnUVnprcPnNd88wF7cTuYuHBSyL+ngSKJdQhs62k3r2nbpZWRFucW8YPZniHyV+VkvV1SoOeJ+W57CfMznTlhlU35iZ27Fnw+2gGd27n90TCnhEvwQOjHUh6GIl8Fh4em5nZMDyMYDKbSKTY9naDwMDovLyxyUkGi7WjbU8ho8uSH35w/d3f/vZXvwYW6O//+Prr/++/Xz9lY+QTUFvjJiurI/3NSdiJ3//ljV/99revvfaH10H864dvfXQvsKzOz2NV8DMcHGE4O+reMan3/vj6H//39d9/dlU7PGJkkQgqB5/43Z1SUMjjJUnKh81NbSyql6b45z9Rscu11rZmloeVk0rGhV5xlmcaI6q8ZOX9ay1t9RP0/nPDuSCicUagoE1KW1kawvREWhy7Za4bnTRJJbNqc21Mnx68516CatnsZ2ezUAFbC34fzcBwBZ7vJewbMRI8ZMkzGK2dndGpqYmFhZVw+ACN1re0VMtmJxGJNs3NRhkZrklJ3UNDwAQQ5NmCxUXGNLY3I8FMVf3rM+ru0T5pxcVlVcWNiMHeEniNt4Kss7mdX0amu9H5r9VVdY3iitPyi4urO+ra+2aGI4NXBd/fElXkdV3N0sspJK04K6XY87GukeMlu8rGaWgBfw+CX1zA93f7SOmZm5/z70fwzn/iUNCEjEcubs5SPt39+AXeqM8BY2Vfqm+kmoJNHjy3JqszVV9eNdw3tQ9yNQHiNymNOpRVH3r/9LcGej7l3VTKAj4j3sBc7ohRWAcGvjpFWGOvgt9fM5jcBckI/4IQI8EDtXfD4Yl5ed4JCQX9/c2zs50rK9UrKxkrK8EslvXUlGpxsVJgYGBaWkdf344+qreZw4NPbY0vb+Ze2LXTol1UDQpeGu3kK3NJL6mlYIzOZRK5I6EBFubfXnBJ7MaNs7jMWexIjmVYgLdpWFPfDG3L51w58xhyubGNsdkJ5dTacco8l0XH9bW6KHh5+xmXkzGrzuK59NbiIC8zOehUlUHCIKY9zljOzCuouBXEgP5BSrOHHbwme0PbNDIyKDLS38fBzs5EwzEzsW6MzCRy4IF++hbffL3q1n4Dm7JDhPlHeqjeP6/81VHbSL7g99kM/peChBeBGAl+hkwOS052j4sLLi+vmJ2tXl4uWFmJW172WloyZ7EMyeSHra3SUVGypqYRqal4PH5xW89x+xR8UM1oVrSNu+4Rs5jWkW4qAAzrJalmBo8PwlyLRArcGTaZi0mK1jW//b5FdN/U8NIMabQqGibv6yFiA7NIy6joMBf3W3fCivrRE9QJdH9R2J1b7i5h0ahlEphBQ0ozgx38+zu/+d3v//iHP7z2698cVzxqXduP5U0S+IdDmJj/W0HoHn89otlf501eIP74+h9ee+03X/zrqG0IX/D7bIaEF4cYCZ4O7Pne3mfp6XoRET4DA8/m5nyWlhwZDHMKRReDUevulo6OvmZqauLikldcDG4Ea9vJ/P4EL+df0xLqZ6B47o//Pv7Vt19fApy/dOmLT/79xUcHYVZ7F/zyApfZXe6jZ/bdOcscRNVw32RLpI6cjWfwmg3MmZskFOhYwL7+y98+OH767LlL586ePv7B3/7yNcxCp4AwOcfhKU2wPO6SFh1qdOaG3IP3HmVUoynQCjpf8A+fvv2le4zAPf56RLKvLuAXF+enFccZ6d5QP3PUNoon+P02Q8KLQ4wEv8jhTBOJWdXVphERT7Ozdbq6DPF4fTz+6ejog6Ym6ZiYG9bWijo6Xv7+5RUVk5OTfMe1gszr2Lfg2yMCDB9e+dPHF2/JyzwQYqhnGpbRt3dPNcDOJQ9m2oQ9OnHLqzYkPbUvy0zhaZxf5iBoEc8GFhj5Fvevn77z4K4yrxLluw/unL5+30LBpbUPR2dBShNMnqtpeHSTt6+5xiUZfc/y4S4imFrw5hqPtb4+ou/fOtm/+dcCkezbz+H33QwJLw4xEjyYk4OZed/wcFRenryLC7De7zc0aAwMqNTX346N/fbx4zvq6uaWluHh4ZWVlUgkEpja25wVDxSMaYly95NT8KkeaxJaumuCL+pG1Ubdk/b1CI8d3yR4nq/4eHsv4w8sEnowQ6u+JpdBZWw2Z2UFjM3gnyU2nclg0JmLnB033lNao0s8bx9+Gv3U1LiCtwYe3Sq632aTkQ9NBBKi3H3uyEdXjpJmSKKKhZzht8XqO18/ctkqN6yesLhMW+E2FjqY6x2565g1VIcT7oFZXlnmsJmLi/jG3TfevIBmSDbevDDESPDAPgdWOmZqqralxSM29oG390UPj5vx8Ve8vS/o68O0tIwsLHz9/DIyMtra2rBY7Pbua4EkGfAMhzjNE5bZQyVCS3dN8HX9mK58oy98vFzd27k4yGG9qOCja1DIygTHZ3e/0YhqyFr1NYltaWlPSGgnk7GgdDJ6IEHd3d7yoXtl+44b76EdODmmUoqW8tdgTmoK5nnw9fttogRGPmN1oXt5nssozXCwUftMJ7Rusg8tqrRlGpcxO5jVEKx+5xsNI5f8SiKHyqGM5vvHqlw+852DeXTLgGAPDJaMa0pwLyhPjtl9480LaAaXKlm1e0GIl+DBIDo3Nzc6NlZSVeUcHq5gZ3fF3v6qgYHc48fGQO2+vikpKfX19WB4B9kXFxd3+EEe3xpe6XXpibGnmUtkZGxyZE57c3NeX42vAiT4ZgR5rD9R4Zn9k/umkX5BkZEppRs23gz2pFaFKOqY2Fg6+/PXtl3s/exsQ+uw0EnJz3E4BH0Q0x5mLHfr2slrt+SMw9pF9tuMF3enm1xQCnZO7F418gFM6OjbAAu7by8YJHYXd9aKKI2nWPoYvj3RW/amhrKNbnhXx8zC9FhdT4KV1rV7D56YrS7FuzwLtNLRz0qOS2zfTfADL6gZkj31LwQxEjwACBjIeH5+fmxsrLSqyiM0VFZPT1lX19LaGqg9OTm5trZ2dHSUQqHsrHYIStt4mfXDD989/Mc//vF/3/3jSWtD38D6+sB79wJ9Y9sm2WT2ZHKs4a2TIBIkOHzrw3uBZfWBvr6B9x4m10O7Yijk8bLkhx/egvLz+Prh586Ngzjo007DDTY6f/5Q/taHD5PL1rbQbMlqOec2Jqa0xZZ5y31omORUtPGs2dEipyTDD+W8y2JLS8fLvB9+aGjtVNS4qlg2eXwy+aHhLfkjnztHDOJA5tUrwrb+8e9HPr8XMVjUDm7CxuyQuQ713U7uc+ekQVz7i2uGhP0jXoIHgJk8m80GscMjI+U1NSExMb6BgcHBwalpaXV1dWBsB2rffn1ehMVZBnG4p7ayuqioqLSyqGF4EDVOJo93d4+jMLOM5cVlBhYz2N4AIkGC6vba7nEieRyFGu/uwZKhs6IWFxlEbE9tO5SfR2NPHZJCY0FDIIdFoyDrejrba3uwxF0Ollotp3lj4sVZDHGssxY+hSTwJxVrLBCQU/DazjEihkhkEMd6auEIJAF8U/CH3+VFBgPbM9jeWV2HnKCxQObVK8K2FpVX13VN0Aiz4CZszA5Sc6G+IzrrkFM01uyLa4aE/SN2ggfwNU8mk8E439jYWFJSUlhYCF6MjIwAtUv8VUt4hRFHwQOEtv3ExMTw8DAcDgcvQJbdLXkJEn7KiKngAWAYB/Km0WhgVCeRSFQqdU+WvAQJP2XEV/AAIO+lpSUge2DGczgciSUv4ZVHrAUvQYK4IRG8BAlihETwEiSIERLBS5AgRkgEL0GCGCHugl/hIfhj/yyzuPTRkX54de0obkvnk/8tXnbDIJ/88NpqeP8IkQ5qE1yV8KNDrAW/vLzMYrFe5GabtUfiXoAv6hfJczQM3IwlDnRbOJwV4XOp4BWHs7jIYnGWVpaXeK8WwSvhbVt7UrB5AtQmuPq9APVzWGwWiwHVte6NgZ4aXmSw2WwWRzQCelSXzVxYYLLZnLUWCdrMZjLo62CAni2BogSJACD/EpvBWBAkAICiWKCoZeiBZSYDekJ57SsMdHppkQVasQg9Srm+mH0144dBfAXPZDIxU1MFJSXNbW3EmZltHn1/Tl4FwVOpuL5Kd+ecjNK151I5VC6xsjQjx9m9tA832s57ldOHGxY+uPviBM+h4oiV7iH+/qqbHg1mkCcGEjSiY0PcK4m41ZZxucTh0pBoAxjMIDqkdJgo3NLPb3OI1dMrV25dWUPbPSFhgEsW8XRPHS5tj36qCltLpWQV4l46ihstLQ2JtddIqJiAnlkWQB3Gtae7qwZHJ7SuPiwMeAHN+GEQR8GD0QGM6mPj42VVVWHx8QkZGTWNjTgCgcXe18gE8SoInkxC1cRvcNfDoXFJTXXFZYGhNcNEeAWvoG28/exb8PMYUpmxjYbW55cDs0aI04LLgHnKeG2qypdmxjbGZaT1XjqfqBw/ePCwyhOPVa+YAH6XtWBf/emjczflpO/fv68od//KRzdhxjC37hYc9LztMotKH62tDLa1gl2/qXwPSnNf8f79K3c07NXtiuGtIUHrfO/yAD3d8CQvYH/N+CERR8GDwZxMJheXl3s+exafn+8XF+cWFNTU0QHG+fUm5M6AtMD0ZTCFpuACk0HFL6HjIDncja0cxkwLzDgGky0wj7exHnnV8m1F1iKLCS7RF6A0CwsMFltgOQuMahC5yAI18XOvlbwKz7Bk0Hk1iGTfq+BBdjxusCRS/pa7U1DEEH2SwusXsN95OxKZTCqLOVwb7OR+S869ZKAaA9VCB/YtoXFsneC3aQYPYJdzWJtN31Wgp2sTo3TNbx2zjO7DIoTG9DIC2xdtCXmqj0qcXPPSuYKKifBQP/XZN6ffOKGmHRaDWoG8YgIEShNRLG2a2+hgf0/9naPWwf3YkZVl1gxyLBKmfUX63586hQ9O857ABRJuLIpNtlF81lbr57FHwe+rGbxkPxRiJ3j24uI0DpeVl5eUnZ1XV9c6OVkEh4eVlXnEx5fU18+QyXu27YHp217prmqlJDDSgCGo6pje3hbo6+4rddnxmcMdU21wFdhxT61CBObx1tYj30AFtmJfDjCl/R2sop2vwO5AkTBV9+h2nuW8alRbmUYnecGsNpXMY9WwfHqFV4NI9j0Jnp/dP/TBF9/+66//Ofz+h2eunL/E65dzTntfTkZGrKmBo5fBNaWzh//z17/954tvT34HWgG78jQ6JDmmtcZXTiB4Dnu7ZvDAtiYUesGUTdebvkKWF7gMyDmn6Xmec06hMY2tQuRYnjtvCnmqX/Wcw5mbJBbq+nrbXtbxd7h51MDEQreQCHnFBGxWGmeWS85OMDK4c0jNqxrdScXOIPMjrt02eehsmTEyQGHxXIeAvGQCZmq4rW92KDJ4b4LfXzOgVD8YYiR4viU/PjFRUV8fkZKSXVPTjsXC2ex6KjVhZMQsM9MjO7ugsRGDxzP3sIw9P9nQmWulp3zznuxtFT76XiYB+X0dwX62Rhc+gxkaKuvqq6jAFFUuX7+n52uQPTo8yyKP1valW5voqEHp7ymoyHx97c4TGYPs8uFZ4nQzqsIFdu7hPZl7FtYqj0CS27LK0g9gPlVJ3UQ6m7QMPjfblwxavLgwg++OTPPV0oLJPFC+t0X23QVPGq2NTNC7JHX47eOfnfpaRkXhnki/3B0uX9B1MJFXvfbZ8bffOX5J+qqCioqajop1ekJ2Yvuq4EcXZia3awaQM5c7kmcbrPyXA2dMtba2/6Fm8Jxzfnnbuza6XWDzsvrTOsNVT6lH2WQOkniJwDU6rr/NFXLFr53SXhkk42xnruDa1o+jQ+/fJqWBAZ0+GhFqrHf7hHFYI2aQ3I9pDdE/ctfcMDGLxJ3llbjGZqHy2ULw+2vGXn2WvhjESPBLS0uU2dnC8nLXoKDM+vrW6WnEykrnykrFykoSk+mAQqmmpz/09i5ragLz+R1texC1hMixDXr47r81wx1EHbnw312dq2f/9dHDMHghiAH2W4OdnZnlIVh88QalCWxXdalDMPtiVDOyGVVsBjv0D2klB8dG7jT4KCHz4XE6799w0wHCYJPYu5S8TMX2VVt+YGahq5I8OQ5M3tECeLzOB9ectcOaUCwSC2Tf3aQHbDWH5/cLyh5Zg+oq5L3aZg7fNIDtK92uGStcoIHRIqcItXcOX7E2jG2bBGULilgHpTWqxOPWoSfRNjkI3mL4ykyT4KSqKFEvnWNVMZB7zKjEMTJ5LDHKw1ceFlM1xjuXVqA0s+tHzMPbkb10OgUzOBStpK3x5IMHyaXjZAqpeazQVeGQtqldfsPqWL3GpuwCMNUDWY5y7z41EQp+n83gV/dDIUaCn52fzysvD0pNfZabW4bBNDKZtSsruSsrEcvLrmy2OZGoWlcnHx6u7+OTV1EBsm/jwRLA4HIHqrzdrb96aFvQVUMQ+Yrmv7v2Fjcu28a3YkdBDJPIHQ555uR+ERZfuUFpAtvV1uIizLOSJ/hKN9hFLTO3vEYylwYGHHwtstj5mrS3vVDwO5WMJSAKA84ruVpHJUwxyIvLXHo3utFf/XMVE4vUwinS3NgPI/isdkSh13bNIHKBnUsnjEz0lFc2Dw1MzoJbKZyki7I4Wd6Xanr1pKW5d9UAl8PgEvtSfaN4J1Wt89LZGqXLd48JLXp0lwd72sjpRrXyzqUVKE3uxOsHj58+9+3Vq5dvyZ196mweUVLdPUVcWFxElw4lG504Z6f3rHaY52RvHZuyC/ju5JnPP/u/Pyg+FAp+n83gV/dDIV6Cz62o8ElKcsrISJqcTGMy45aXny0uOiwsGFEoWuPjsMLCm56ej2xskrOzwY1gs9lbj/PLc1x6UZqZi9pR2yRRYw+wJoxVXW26ssyi0UfrWsrSoqMjoqO9rB7cf3gO5lLBE/yGhe41Fa0KfoeSWcBADdI/ckv1pq5ZdHRINMDNx0nj5v+d09CKiEeSSMj12bdlf4IPimhsDXq6XTOEBe4KfRDTGGZ84jZ0PO40nTLbVhzkZc4/qWr1Cxby0pn49OJpJbkHVl7RERHQzZRTOn3xaWJ38ThrVWn85fE7V6+eOn/qgzdu+pil9YMCoG+ZkbyBqCdHv7ZU96+Bbyt4QfbVaZuKisJV6fOn33lDSW1V8Pttxg+LGAmexWaPTU2F5eaq+vmZNzXZ4HDWbLbJ/LweDvdkeFipquqap+e1x4+dvb3LKyqmp6eZTObWT8gL3sJNszvAmjC2keXyEpOAQEQqal1597U//OH3f/j97377zj8Owcz4Jv1+BE9pQRWb3zv493d+/RqvZD7/zx/+cOKmYWzyKIn8wwjew6+m2Fxuu2YIV9d3BzoeN1HpkLmpjWUpAdMXHeHhK6uUWLtmA0NGfqHxJ0cO/M/vVqsBt/N/Dhz5xLgwomlmZf3b1NoWU+p87T+XrbXCGpCcFRb4JgdzjbDHHxx4pGiTV7vC3bh2tj779nP4fTfjh0WMBA/N4efmajo6PJKTVUJDVQoLNYeGtMfH1Xp77xYWXnRwuK2vr2lk9CwoCAgehULRaLStrfrtPgqANWFsI0ts63iOm8p3D1V0XNwKcjIKor10nmhdhLnxTfr9CH4RjmkPMzqioHXX2q2gIKOAT3FBQV3rwOTUHGlxfH32bdmf4IMjG9vDdLZrBoMLbPy9sbiA7+v2vqpnbv6NY3FDtLqvt6eCdzd87VRcyMgPV76h5xPjlSKopiDFK8ZH74YydC4tkU3igDavvk3wWfhofZD1nW/VjVztq4jTVDC16EbX+aofuqNvEJ9B5FK+z6Idh7b/ZvywiJHgwXANBu0RFCq7slIvIOBuUJBMaqpiRYVsaqqUu/s1Tc1HenpOzs7x8fH19fVoNJpOp28teM48l1SWaWOs9ClMO6WlZFJk68Rugp/uT2v1v3fkK8vHAbWIZTqT3lbsYWl0Duaxf5OeiyciS0Ovyjtbh0aM0mdYkLAWFxbw3d1Tk5N4NmlxQ/Ztoc9OtGQ9/s7H0z8IziXyLd21uqJrUCOVic6hKpedikdqhNti1pqa24EsDdiuGeA19ANH93B9SnpJR8uOG+8FO3DszD666xqoecXJ22/9fpstjHyg4YmWoMffmTp5FLdRSHTwHbemWDoN397oJWOusfqzCAtPHitJkJc2VrbVi+zuFLi+Bw3ET46Mdpa3EeERu2y8WabTXkAzBJl+GMRI8GBCDqblRCKxt78/ITNT083tG0PDi15eZ01MzisrP9bVdXB0DA8PLyws7O3tJRAILBZrG6dXQIyTbTH6lpf+/U+lAKvMvgU+TDaTTlzmb7zZRpajbbyToZ5EWGX0LcxNLYzEhGiqXhGu0u9L8Fza9GCj0ycWllqKUcODmFnQIsIYqtzariCvoJFNou1V8KAceKPDRz5eVlblC2MEaNsMg0YQbCjiZW8rtE83/kA/vpPXdcYCc1F04w18erB6u2ZANvCuP8utwv8Vw8P8/ElFxZPnzT3W77cZjwl395G+l1CLEl3oHp2Gx9t/cM1COzwGMUNCxq0boqECk2L01K8dvmudg6gnLDHJ45NJ9/WvSf/7A6uAzjHeGwk6XJ4VFmeu8Kx11403LBL1RTRjr0bPi0CMBA8AAgZv6TQO197VFZ2RoQ8m7SYmMrq6jw0MHJycgNqBOQayYLFYkAwM79v8OAfeIMbsZEtbjru54gX5y6sruDoej6NrJ7rDdpAlfrZlqMr+0envLn/27dWbt66qPr19+c6DizCX/Zv0YEhkUsgjGTkBWjq3z96WugxadPGGwon7vj553WS+YSmafXs4NCy50TbERP7SiatXLl69qmz9yCm9g7ehiJ99cjSvK/7+g6s3oK7fVryqtW7jzRiTgtuuGTxbfK+C5/+KEayncfL9909q6ImcVMXf6GJha/OFUWkXZl5koZs+i27MVv/czMRCN3tosi9qndIgh/lT8EzPIOXL315wtIhp7VtcoEx1t8Q5u9+/dOHGFd4bCTp8Ql7b3Tqqd6x7l403VXOTqBfRDJE9+S8d8RI8EDCHw4E0Pz3d0tERn5Fh7OpqYm/v5u4eERkJ1N7V1QXUzp+97/hTPIBOI/Y1hpp46fNXb1VUbEPMMzqnRqtqi8oCQxuHiTTIxIN2oTeKXMHPTlVlmxvYgvRqT1SsA20d/RMCQwuHiaP4UeJwWWhgWVHtqGBjCV3kCofGWVfO5pKhS7ydMwnp1ir8rT0qTwxUAquyu/FbJd4efuIEL2vQRlCIvpdJYFnfcFmRMDtoWF96qIkO1HX+xpuisuHhskBB4zmc7ZrBA9+dXRWuY+CaniDs6dasdsdRR8dxXWIOjUhqDE3ISDfPRkzNrltfZ85OIbLN0zMSQmsniBO1tQkZfubZDVOzgrqhm1rbl+5qohMekt2N4C3O866s7obiYRuSnQ2nzWLBTdiYHXpT+gpDTRLSs7vhNCL2xTXjh0G8BM+HP5kHXQWme1FRUXJyckJCAngBEoOL/LFdkPQVg7ddn81gMEAnt4bJ2rg5X8IrhTgKHgzdQNJ0Oh30tr+/v6WlpbGxEbyYmpoCF4EJsNvY/pOFOozviPZ4pKgM2a6buX31qpZ1SGmV5LTWVxdxFDxAaNsTicTJyUk0Gk0gEPZmyf+UAeZob1qIsbae8pY8Ula28oyvbSTx9vlJeBURU8HzAbb9IvTAKRMYuWzJkXISxACxFjwYzIHIAWBgB/++ymO7BAk8xFrwEiSIGxLBS5AgRkgEL0GCGCERvAQJYoRE8BJeBCuQF3fo0O2lrfxSSvjRIO6ClyzOvxiow/j+XE+X3MyyrfxSSvjRIL6C53A4c/PzQwjEBAZDX1gAyhdEvCxA+fQZ5MBgbf0gnjbzwz4U+WJgzdDwg/W1gwPIGTqvP2uIPuezw/Mwq0Buf8bq25qasuvHpmjrfIYuMmYJPbmd3W31Y3Qa7+na1VvX1lmcllbc2SZaO3SE1hiyrSI/NjYxdo2C+p4eApch8jgLawY51ZmfnbaWKqOirR5JppGRyLbuqtyesVnGmg8M0NOpgfrs1s4eDIH3xCyPF9CM/zriK/h5KhU+NBQcEZFTUDCORjNZrJc81AMVTDTzHlhb5zriJwSldbzu2X3YM5+Y1o3OJ59T8GwyajJRSeeR2nsKsYUoEklwGbBCxfbVWB0ztdBRSpxECZ6GZXNXxpsitIxP/vWvXxprhTeNr6xWwX9kUOvKx7/41Zu/fe213wFe+91vf3UcZmNZycFQee8oeF+X2IT6sFyjT48ceIuXBvDbd67qKIZ1jHVFrHuUjY/oM7C8R3p57K8ZPw7EUfBgMF9YWGjr6IhJSopKSwtNTIxPTx9GIqm01Xf2pQA+Gz9xwS/OLpBQXZ2o0c3OJ593hF/AM7q9fDQNz55wTx7CoQWXAVgCIifg/HlzfR+vbgZ+9WlYLrEw1VdD6tOPPvqLlMaqM0wIgdKeXvjnXcPA2LD8/Pz02Hy3u49h2qfkE7PHoCOiOFQ8scozQFtd6qyGUUQClCY/PT/fzdkhQO9JfFfDM989Cn5/zfiRIHaCX1paApZ8V09PdmEhUHtRW1t8eblfcnJaSUnv8PACg7Fn257Fok2N1WdXZAjsN2AjZlb0Inor6tcuxSamZed3TiFnqCwaeqw+IlRbHnb8JMzM0zoIiovN51uGoEqerZgfyzM5M9Ky6zunRM1+KmMW0ZObWcAvFEIkzUZ7clPUwGBFaWdvQ1pFQUZiIvgwJlZ3ipiaiwwuoaens3uzdb0RUZN+mbUsWmmQtaeV6slLLrargqdiehANaZml601fITyvQRk2xqpf3veuHe8QGtPUjvFa7/tfqhrbZJSRuKvubXD0NtcgL4OztzRUPvjkqb6Haxu4xCtSoDQRxTKJXESIv4bWqSP6/q2YARaVimmpNJHTv/P0hnZW8ST/AVUml4vorm1M98sb7Qj225vg99cMKNWPAbETPBjbEaOjz8LCYjIzG4aHEUxmE4kU295u8OxZTF7eOAazR9t+ZYlAGMmNgh258s6qkXjw+ns3nMOdb9y/flBw5bXfvvXPw58Y5YU3IIio0sT7R6X+9etf//KXv/7ta78Fmf789u++tDIA5vEKi8lBNoZrmXz22oE/g1zvHDiiaJSPbCDyV7xXlpeGJrsDrD/49xdQNsBvf/Ort//vIMy0CFgKKyss4tJoVLj2lU9/+7u3oEpFsvM/iG5el741sr1/QOrEwT//+YsvP3/jtpmtVc0yli8zKna5xsrWzOKwclLJzm7SRYZxNIvIWFfpb1/7099/+YkZ5EKfJ/jdvFyAC5OtUToet45pRvflIgQ3fGUkrz/26bFbHjpRwlkD6MTYeAzMw9fjtmdJgt4RM0sdWMz4GIkN5dmstBXqylJ1jo2J5iEljxJUK3kE2x9jffSmhXZkwmYXmpuz89lC8Ptrxg/sfX57xEjwYOhmMBhtXV2x6emJhYWV/f39VGrf0lIti5VEINg0NZlkZLinpPQMD8+tO7N0a7BtMbnuUhceGuk4h+bxKW8pb0GgES1dLeWCK0keUS5q108/NnbLLkVjB1tTYo3vPzr17SPncI+kvLzCsrzawf4JCpk83p/0wNdJS9U2Mi4lKy/UOcJS46x2nFvhMBFyJkEcLvOO0b+ooO5mBWVLy8tztVK4J3MQ5ggJnkqdbqpyuOpkpKPhmhcPIkWz8x3dGCudP3L2sXOEf0p5YWZ2bZCinov7+WdwBAHys8IgIODPzru7WKvGY4ZI7J0WmNYEXz4w3VQiWmmSR7jb02+vuEEu9HlC3U3wYGBkTJZ7p5qcP2WV61MtsHmpnfFNgYqXLLO9yydXZw3UucnWQj05b89gt7rRwTIrf2dnOb3C1sk56E3apDQOdYpYZW6vpXnqqldqH36S3Imu9lU7pGpmnlHK4M5vsDSeQ/D7a8aPZt1OjATPYDJ7BgeBYrzj4wv6+poplM6VleqVlcyVlWAWy2ZqSrW4WCkwMDg9vbO/H3w1bG/bg3eP0BHj5H7z7C3vgthVRy5bQIdjGkOMTlwzMo2I5zmp2moOT6WMN6Td/87WysWukTRN43DxtSMFtlfOGup7lLRR6XRqW4mHvs7pC49jmvOhAyjAx68uz9ZU6yDMDQh+ehzXn+KqIGXnFBaP4JKBrSqane9B0fTB5c/l7HPHWkBL+aamm/d399MaxinU1dq93fxDEKsuK7dDKPiglNbuJPuL35hbrOYSGfz58sZ3Z1WGaum5pMZv79aGDs9oDFM9Ie1tFdNBgDw/0cdLgrLM5TTj2jPgoKc8WKCDWa4Kmt5+GWX4+Xl8WYaft6aCa1Y/bhzYyQKlaZz/v1tPnP3cY2OjIkK8nfUM7XyNght7iTT6dM1Ils3lz0wM3cu6gH0nKHSVTdkFgBmKwb2T/5+qllDw+2wGv7ofAWIkeCKZHJqUBN6MkPLyyrm5muXlwpWV+JUVr6UlcxbLiEJ52NYmHR0tY2oakZKCx+MXtz0UhMZdqc2z8dI/apsiOiysAkzwJegMWPClgZ0aLIuUl/Fy217wK8DmTLY+qutukVHOYBBBJkb/WGeExZHrZvwDJEZiw7Utrr1vFwefRkIZ1gt+pBlV7aMg6+u2NpAip+Fxdu9DHhRjRzafPwGyNxTYeRm9b5XYNzXMGZ7qS7R638jLrmCL45Y2IFS1u09Noav0e9AhTfX8XJsEvycoragSD6VDmqY2uTXLbCq0Bu7hLavkX7tmA6+QmsYqvRSkPZyDaxCMuTkGoibY2UNawatyrIm0sqo0wfL4b3/7m9/879s/lwm2yVs9lHUkbyBW6+g1V63wZvTmhq3Pvjo3481QfvO/v/z5HcVVwe+3GT8axEjw9IWF5p6egPR0/chIXzg8cG7Od2nJicEwn53VnZpS6+mRiYm5Zm5u7OKSW1QEbgRru8k8h8IlZsQb2N09ahu/leCpw2UdMdpqSjLXrl28eO7Mx/93Ssl4e8FTgc3prHbos2/eO37y2rXL1wBnv/v2i/dePyEHBD+EIzW6uxpZfHwtJAdJ5L056wXfVTqUZnrilofxmtJwRGROyLWPLYxc3RtJuKENggdjLbkr3jFA4dsnMQ3xufENMU++VQhwjO8CsVuOw2sIVW1tV5ps9OlZkUOavp/gFyfxfaleV0+Zm/s865kjTBSm+nqrK3jlwddsYGp/ap33tc//88l/Pvzq/LWrV6+d/+pD8Mfn17zrUvupq0p7euGfCobPYjw9tGxUvvqblKtBfKdg/w8QfJjG0ff17ruWdmw7wguyr87NeDMUm0ff/k1NZ1Xw+23GjwYxEvwihzNNJGZWVZlERGjl5Oh2dxvh8QZ4/NPR0QfNzdKxsTdsbBR1dLz8/csrKiYnJxe2c24neHc3TfwAvBXvxhhXG8VrN+7dvakkJ3fr2lf/Ov1gB5Oe3jVR6/740MkLH569qKSkoMRHVUnJ0iO+tnEST2vzcrdx+AIWX7Y2RIsIvrtsONXk629s9PxrBvna404TR7KCLn9mYeju1ULCbxQ8BL4lrNjjirRxuJGuUbix9BWP4jDI3N8NoaptHMoyzL+45WkqlPf3EzyXPo9pLDM6YWxmpRTdO1DqGOTlLWdU1o6Z59nAYEoFGfkpmt9K3ZG/LCe4NUpyl+XvSH2rmRJUMi44FXf1vegeLWuL15O+ofzENSlnjD7LWoYmOFmWV969p26WVkznzn2fOfwybf/N+NEgRoLnL9r1DQ9H5ubKOTvfjo6+39SkAYerNDbejo//5vFjWXV1MwuLsPDwiooKJBI5Pz+/9VnxfH/pOhY3j1lF9mCGRTeP07ArteBrQ/3A+/ah8OnRFRJ0rqiCrA90igsQ/GRLpLvfnbs+1ajmtb0mo9PwNPv39bxscqqXVqj8wlZWljkc0OBlqK6ESHfvOwrRlaO800iB4KEJhclTvuBHW1HF7vfe41vFvPOSVhDY/hirY7csdKIStzthCtjSte73ZDVvnrypKXvPXcSE3gmhqj38amr97sh4u69uPoEs3ipvMLMQCh50AMxrWGzO4o6763k7cO7pWJi+pxmd73zd3dfj3sb9NsDIv+cn2kJKC6rWT5FfO4vnvXtNsdABVUnKR9QfacGix5AzrOUVyEW8w4c3LJ6GRSM5RGC0CUqB3J5w6AToHIFdBM+mvYBmCDL91xEjwQP7HFjpk1NTNc3N7jEx9729L3l53UpIuOLre9HAAKalZWhu7uvrm5GR0draOjU1te0ID/lL7yr31tc89dUZ++zwtrVdFRwKmpihZqBncEgtqw49S6f2T9Y90/tcSh8y6ZdJbAY8wyH2yQnLnKHStb0m9Fl0c5baGRtLe/Mq4hTPfSSDTIYnJXW0tcGX5xmM0gwHzfsf37DLRDZA+0j4EwpNaf4qPV7EKoZzoXV3bDUi1+r8eRN97/KuOdLClidMAVsanuqlcOrKySunFLxSRUzonRAKPjiysStC58sHtpaCzSeQxftM6XMpZ+HMAtuWVOyj9MA8JnTH3fXQDpwuL29n8xOXDcxuf2frGezVtWG/zUYjn7sIx3RFGPFr55+Ku6a0Rfb8KKbUylNT4/pVh8im6WEqnYbtaLCR05dWv/AgKXecvwcG3CZ4W1l1nHPGcFvQLhtvOHO0F9AMQab/OuIleDBig+vIsbHiykqnsDB5W9sr9vZXDA3vPH5sBBTj65ucnFxXVzcyMgKSLS4ubvODPPj0kkZrIuLM71y5p61p6RHHp7A+q7F7tNzSxUrr5C1LL//wuFj/Z25GCscuaEEmPZfEhmzpCs+Lmma+UKak9LiCrjbkDGl2cjBLK9BFS83MJygsGpQUHhJpqesalwdmyEwmd7gr1sL7yslbT730oarC4mLNtG/eu3pIw6t2ootOp+HbGjylXQw1H1rGBYXHxXk4+hsb3rZJC6wZJW17/gR9dqI2S+PQfQXFC3YNzdi9LSMLBR+R0ztelvLgvpW6sYZPXFA06Kixm9GdYxcchUb+Xk+bgHbglGb4Gcue/O67k7LGfhml6/bbuHk4uVzQyGqemBVpIZ44UhBy5ay5vodbwwRuMGbdEA051W8o8zbTPXdbxSonphGDpRFxDcERxk/vXHyo7RvEe7fAbbJ0dAqytMjra9ll400NHYd/Ec0g8D43/3XESPAAIGAg47m5ubGxsZLKSveQEGldXSUdHQsrKx8fH6B2cAtGR0cpFMr2ahfCM9tUjl3/92sCTqh87FgyOF1S6KBy97XX/gqu/PvEX79VvfvtRRvvmCT+rg9K63iJpcqxA1Cmtw689oWlPrQvnc3mTrbG6Ft+8dqBt3hF/fW91+6GOxSOCqoaLRwMv/vxe1CRr7311mvHP/vX27dvHLOLG+Ct2/OPLtK//gWIhFKceO9jx/DBaSgzP8o74K5KUt26TTUrVGx/jdX73t529g3caWidfQ9Ae+kDVO4GeIM206bZDY4OKiegCqGOnvhWVf/bi15QFE/eo4UO4aoH3rvI7+D2godieH3/9sCBb9clZkPnQKno21h+7NgwuL6JtOnBBsePLW30VWJ6xntiYvRtZD52TOB3mQelNabE8uKxA6oqDoX8Xx94V744Jri/ECdUHByryNOD4NZtzM57m7xUjulbOhRWkccHX1wz/uuIl+AB0LyYzQaxwwhEWXV1UHS0T2BgUHBwampqbW0tGNvJZPL2p8qJssheIGC6KoW7bPLquqoRBCqTgEd0deTlFYMr5XXFDd0dDU1DoxMYBpcNilykLBAGuyrLoEyrG28Y0NZaBmWif7A2r6yQV1RxeV4HGoFfHU7oeCq6o7ocKjIvNyUvw9b4iZX0tZBi/rr9MpvLwEz0t9SCIqEUdeXVCDSVCWXmR42iOrowpAXRTTVYAqLo2Xklb8f4LDJ3do9DD2g8CdXVgRoFbeYwl8kIRFcdVCHU0bqG7v6GJiQUBaqFmoxAd5eVN/E7uGlr7Roghtf3hrKyhnWJl9kLDExX/9BgNYJMZa5rIodJJSOqB4f6uybmFuYmJvqH2qoRGH6XeSxSJgiDTZVl3V0IPLBrQGbeldpKwf2FqOtCIGbYTCq4dRuz894mZFdl/yACP8NeoL64ZvzXETvBA/iaB8IGg3lDQ0NxcXFBQQF4gUAg9qz2HxQqphdRG5eZChmjcdGRcT7OTi6RVsENfd93RwdrpmGg1FX5nKOb/+rvaqwZGrarPic9k1fJJpLi4goq25BjdO6PaclZwnMjjoIH8G37+fn5iYmJoaGhgYEB8GJvlvx/Acg8vvsa36LnzRXu7tNEhExNL5lj+glrswbRucYWAEv4i+v6qxMTCT9ZxFTwAP44T6VSwag+MzMDxP8jHNv50PHD4+255cW5PMD/2juH8Tsew7gLkKmJbK3snxwWzhp4c43OytIyfiUbKcjNrWnuX52YSPjJIr6CB4DBfGlpCYzqQPkc3u/egggJEl5RxFrwEiSIGxLBS5AgRkgEL0GCGCERvAQJYoRE8BIkiBHiLvgVHoI/JEh41RFrwS8vLy8uLnI4nOfXPOTVZmkROljpv/xT3vLS8tIie3Fp8xlPUBM5IAakEFwBrICr4OLiIhvKIJoDOiuKw2azWSKwQfaVdeWCO7XE4SyKpIJ+0gRVgOygYOioKdHauCugDSD50tL6W7zfZkj4voiv4JlMJgaLLSotbWlvn5mZ2frR960BKYnD5Vl5bl55/fj/7pOP1OHyjhRbdduUsPKNT6FOtyVVhak7ZXaUrzWRSsV3VHup2xrbqntVd+BFnHVSh/EdsV7qyg+ur3H3oaZb8UTbtCAJAPLxXu0VZruWSkZZXSe2o7yjA9+R6aUeFpvUBuc9fcpPzSVWl4fFO2kmVU2QRYrZbzMkfG/EUfBgsAFjCwqNLq+uDouPT8zMrG1qwhOJYFwRpNgFkOzHcqQEDZ7R8Ezly6/MRTzeAIDwCR0xVt7SX6qGNmTAV/fgstG4/ng3hU/OfXTuk0tu8T04tLDH0AOh1rCDX5z+4NsLiopyioqKN76Vu/LthaeZAWVT/Ec72TOjE3VJkXqK6orSgjSKNxSU5a5ppUclpfQXuSmsc/MKMmzjT2Z/zZCwH8RR8GAwp1AoJeXlHgEBcXl5frGxroGBLZ2dMyTSesNza1ZWmEuc0YZQF09pBc/y4TrI+R2bBW3V4wAzVdQYZYPpwjpbdhkYsouCSD4gCTB3ge0rcH0pyC2wk/m2L5uzhem7CnmTxxsIKne5JtfGVPO9e+7FqFbhVxKpaazaFiYn9dXbp64eumtbONYkdLwj6vKBr1hkATxU4/0DjxRt8mpXwJXlmabwAuOzh//xQMleuJMfOT2e56ASGu/lX1vkJrtHwe+rGRL2hdgJHkwcp/H4nIKC5Jyc3NralomJwv7+0JISr4SE0sZGEoUCBChIujU0Kr692ltZ5/zRY3/7+7FT509fvnFDVvmGbpx3YGBxnK6qsuyNVR7ahnlXE/E8Jza80RfeluztduMGTBAPUurahpVXE7kgyXRbcrHbDVVenKyyhm5cZzmCxiRPwJOfejvbanhXd+KpW3zc2RP4vhSvK6seb/hDPJPAhT/zMTc/dcUrpQ8/sTp+0vrTWqMfylmHP1JScpY7rhRcl9a/WuRmpdG70LU+aofu6BnEZxCZFA68McjB8bT0E6fipHbc6k5+OnMBN9wxPtldBN/zCL+PZnApkiF+f4iR4CFLnsNBT05WNTREJCdn1dS0Y7GDbHY9lZowMmKakeGZnV3U1DRFIDB3OnCJRiN2NQRpGF/95LMD//rsu5uXZBUVH2gqWqQERURUpljoaD6ATF0FWcVbJ6/KPpExyq1EzM6AcZ82hmpwDzZ+IHfyFkxWAZiqt6W+/eDNU3e1IuLHGCRMb1mktbbcSVmYrKziDZgqTMGlNqOZTMMO1Nkehd28dBAWX7TOZY0Q2jymodToS2Mzq/tphHGeIJbnMPRiAwc7uy+NShsw8zwxAWuBji4JyraQexLbHhjpXexxVdo4JagETefFbVYae6ZhoMhO+fP7xtYZpcS5+bnidDOzB4c0/GsnulblucZmoQK2EPz+mrHqDEfC90aMBM8/Va6wogIY8Jl1da3T04iVla6VlcqVlWQm03FsTDU9/aG3d0VLC5jP72jb72EOz3M+GaWjduU9mH0RSEMijRXG3n3vkZrwUNQR7ECs7dEbFkDwcCypwtbW1GJV1UgyuSoxcbC1lUybhjc4fKQsI/Uf5cSScfI2VaEmEyA/kMesa/uxkBdMNmkMHQsdinQvQdQhJLopwsOH54mxZRRywHhP1scjognNPwJVoDRNY6usKjabzGbjGsLz7a8ekXLUi26dZJPY6LgIbYvrkJsdLM89/no2ZYeg4dij0aGaZtfXBL+/ZkD5JewLMRL8HJWaX1ERnJr6LCenbHKykcGoW1nJW1mJXF52Y7PNiUTVujqF8HBDX9/8ykqQfWsPlhDgU7eb4HmOLsu8bcwvwDwrUc0T/ZN1wXrH5fRNIuMmGSToEdMdBE9ns4mTk1QKhc1hUknDVR2tzRUdk4SFrRcVBX4g9c3Pf/csF0GY5tLmJluLeIcirXcIWZTG88SYC8dP0Cfw8FwvBXVv37Qi/hGokNKsYAc/OXHoi69u3Lh648bl+zp3bCOjCnv6JiiMBdxyB+Qe/xMpoXv89WzKDnHt8o3vPvnoncvvH7UN4wt+n83gWwES9oEYCX52fj6nvNw7KckpMzMZg0lnMuOXlwMXFx0ZDCMKRXt8XLGo6KaX1yMbm6TsbHAjwBC1zTi/reCXWTQ6qqG9Mis+Pjo+3tdW9eGj8zCXClTzQM1Its0V3oFHnYLjEEQEjyCR+uJDnYzPSWlY+QeHxMenZeXXjcxN7fEHP74fSGveSax14x0zaFx/tpvCE+8NDiHb3TwN1I+f1LDwBlWEBHtbaJw8rm7g6dbOOwIVUppgefy87E2pk/869J3yEYPiVswc9C1Dw3LrbG21Dd69EpQ+QtziBzKR7KsL+IJ5zZeHrn101DacJ/j9NkPCvhEjwbPY7DEMJjQn56Gvr0VLiy2BYL24aEql6uPxmiMjyjU117y8pB4/dvb2Lq+omJ6eZjKZ2zwhv43gV5ZZRORYDEzr8r9+/RvAr3/9q7f/7z3eGa+t+QNx2sduuGmvuXAVETzPZX1rtJ7F57/555sg36/+91/HZIKgM1V3mFeIAMqbbInScb95TDOmP7e5aazaB3bHzyOqZc0hJM/I177y9q94LRMA2ndFGxaLHiOxeUoTTJ4ryOPwRCVdtUeHYDEFozOQM3zaNLfBzk5R7e2jNsH9a8tva4hk32EOv99mSNg3YiR4YKJT5uaq29vdk5JUwsJUios1h4e10Wj1vr67RUWXnJxu6+s/MTIKCAoCgkehUDQabRurfhvBT7eh8zweXnx4X9vROScjJSfC/eljzQswN2DSw2uRRU5S0t7Cw1XXCx5yWU+Z6INX55Tk5yS4P3V4+M1n98MdchB7O6gIfCsxJsq8U3gnsToE+LVGq8tZ5waXTazawAIj38nYSDciJz4D3JicnIz4nAhdI2MnOb2i1sk5mojSatjzhMmSDA/NR9elnkQ1FyJoXM4sl5QVb6gve0jNqxrd+T0X7fbdDAn7RowED4ZrMGiPoFBZFRW6AQEKwcGyaWn3KivvpKdf8/SU0tRU1dV1dHKKj4+vr69Ho9HbCx5okNSV4BKqcsW5ZKRm1cBlD6S3+SsdOWmh4V87vExn0ttLPK1MzsM8gEk/0TXRHKBxQcPaKauKAP0IB1Jj2oIMjlwz0IqIGWFMDvdhsVMonotIWldCrY/8IXkfw4QuHGNuuq+gsbYqtxGFpbH4w/WWQDtwIh5++cjnoeqTOAs59dj29fttNhr5fA0nuLgoXXLL6MGhcaKKhZyqI0u94nQu3Ljv45bSg6IzWcvDzaFOLmdvP7LOjW0S7oGhMmiYvsaRsbaC3TfevIBmSFxo7hcxEjyYkINpOZFI7Onri8/MfOLqetrQ8KKX1xkTk3PKyhq6ug6OjmFhYQUFBT09PQQCYXuTHgJZYJdm9L5BYk82HJQK7WYnNkUWe9w69DTKOgsOLVCPxYY9fXRZsEqPnIaHOnzwL3WYtVUVG01ms/H1iHzbu/++/Eg7MrIb2x1pW5CfEz3KxtHYbHhOT5Lh+8Zp9gXIPfwstwq5ZcPpUS3C1NBGF++7d3zdI9eMfJ4qG/LtTLXfu+taONY0smmIJreOFzsqHb78SCs8ZmyJyFoht0aXWHx35P+UYdbZq0vxcDQi0+ZeSKyn3+4bb15QMySm/X4QI8EDgIDpdDqYn7d1dkalp+t6eFwzNZXW1dXQ17cHag8Pz8/PB1mE50zt8OMcHZnbGavy8Lq01PmbN++o3NSLC0yLrau0U/724tUvz9+UuXNTQ0vmityDCzAXYNKT6UxC51DAfVPY1cNf37wkdfOm0m2pu7Kn/yyvb55RhMPiimx9TWCfXrh55frNm+dhcrctjYr6qnD05xA8ewIPT/EUnB7lmQJft9+mPuzhcbUIhwy4yEI3z06Jt/K7c/x+cH1abflGpbEp88jaYgtZTRmNS6rJeWgymoKeaslMMlHUUJD6+uZN0AnQVum7Mg+cajMLd9940/WCmiHZU78fxEvwQMAcDgdoHovFNre3x6anG7q4GNvZubq5RUREgLG9s7MTqJ1vzO/4Uzz4MCKJPSmB+k+0YDDY/Scw85TYmgYkpiLVWNsSuqIGM/eztPWO9QvMHyQiwSeXSeEOZ2YGQpEQ6ndlH9775qCujXtZJ5OyIBoFs9Q2zqzAUMBbwaRghjONA73d9APre4g0gZC2hkYj9tQH6rvZbkxMQ9b05Hvpx9Zndm18d3FdmfWx+l75PTU9PcSe/ED92JTMLoGneqBFGpFUHxjr5i1sz+oVqNN81LSN/SowXaPgbmzMzjPJ62ti07yMM+sxlNEX1wwJ3xvxEjwf/mQejPO9vb2FhYXJyckJCQngRVdXF7i47RmS+wR8fywtciAHuTxwDYgK33vy/p6S/SQSfkDEUfCQ9JaWwDAOetvX19fc3NzQ0ABegLEdDP7ABNhlbP9eMMmT8GQtbwPIDoa4cv+ugpNTRnstWrKfRMIPhzgKHsC37cFgTiAQJicn0Wg0eLEnS/77IjDOhWa7iN0uQcIPhpgKng+w7RcXF4F5z2AwgJW9w5q8BAmvBmIteDCYA5GDUR0AXryksV2ChB8PYi14CRLEDYngJUgQIySClyBBjJAIXoIEMUIieAkSxAhxF7xkcV6CWCG+gudwOPPz84iREQzvUZkX8yP8MotLHx8dHK5vHCfs+DTrDwSHwSX29TUWJwoozsnrQGLhPR3VZVl5Zd3Y0ZnVNrJnaFh4Y15HT98UcZnFAb3oqC5KTEwVZNzAWjlbpEnPSaxH9q3662HPjGK7i/KyRFIVNxb0EecYHF6l3Y15WTmCCBFAmh7M3MzI5mYUN/b1Ebkgt4TvgfgKnkqjDQ4PB0dE5BQUoCcmWDt5qt0zfN+VXv7ySgm12/ic/EGhTXPr7e2Vjv/qV7/8xc9/8YtffP7OEd3QYjczrcsn/3LwpHFhRDNJYN6IerBgk2mgF7pSn/3612/+GvCr1ey//BX0J+CLd1fL+fjnv3gdxAuu8/h/3/21fKh9ARLa6LC8NNMYnm/8yaG/vyFM86vP731gWzuApa5AlZrCDv7twFrJq3yh9KFlLrwlOGJdFb/69a9+8RnMxrp6eYoqMcy+D+IoeDCYgyG9vbMzLiUlKi0tLDExITMTMTpK2/lptL2wzOYyJtEjo63tkzPb+Jz8QeEwuaShoerQECul03+9elvO3buoYbA/3E9L8eQbX568aO6Y1gjnP5QmKvhlNg30orexKisrNysrK851Nbu5U1ZWEriSVVVS1ICCytH87h9yen6RgdDFVQpKslpRQzgah4qfqfEJ0tW4cU7dIDRGmCbQPdjdNrAGS5yGKnWEHbwNWyt5lar2il7EPCI6QrSKpMgsJzl1mPbXsJQclOQ52e+D2Al+aWlpnkrt6evLLiqKTE0tbG2NKy31S0pKLy3tRyAWGIzdbHs2i4Ydb8zrBUUIDUu+5dzTm1c/jCUMD66Z9ILE1ZDNCszSouqO0XG+2xbq1NxEV0HXhND0pU71IVtzclrXjGFwBdWRVwuHDG8OY47YVyC0zXOqOxrH6TTWMpSrOSunortjdEbg2n0z60ZvEg16Rl3rzFvXlWTvm0ZnRI3TZ0CDRNPwH0QXsmXUJn91m6BSpxqrzS5o3rh/RiUjf3ztqQFcZ2dPRkYPhYLboVLA5iqYRO5wsJ/G05NHDPzbMAOSZwyfH7ETPIPJRI6NBYSGRqen1w8NIZjMppmZ2LY2fX//2Ly8SSyWvcvATCajihPuvWdhamtdu4Llf0hp2JVaaxtTi/fu+BXX+HpA3u7ia1Ak0srMzGhBrOKhy28Dk/T1X/3y48vaEbHjKyRQAzJ/INXwmEGKbZ5ALCN5tsGPDhx4FGyTN8I3VsGVWK33broXR7aQqFP9NTbHYJ//EhQEDOy3r+goxk+gSGwol/JfDpwx1VrzlreJLQRvceOAWmyIhll8jGIc5D2SZ12/WMGPYAeCbY6+raZoa1fPnd6oZh7PK3gulbtSm2tj+vQ9RfdiEZc+EvaMGAkeDN0MBqO9uzsuIyOhoKCir69/fr5vaamWxUoiEKwbG00zMz1TU3sRCGACCPJsAZtNGpyMe2jt4nYhED5ChMxhJnEEHnjB3Fz/inN5b1to8KrgB9rjSv2kH5u72vvHZSXFZDmpaxs5X3OqaZ6m0nC1yFIXKeUQl/iuGS6Hw53pindxvXT81CU98/hqOGSLQ1cC712xyO4ta2lEFXvDlDQ1LFzDspLSspz8ozM84yfw+xH8IYPY2tTA6BhH/aiqSRLPun6hgqd1oWu81Q/J6BvGZZK2OSLqOQXPoU7N1Fg6aGl+dcUzpXfNpY+EvSNGggdje9/QUHJ+vndcXH5vbzOF0rWyUrOykrWyEsJi2WAwqkVFSs+ehWZmdg0M7OTQDhiWQ8F+bt7nH6Q3jlOoXCplvC79wRdmxtaGeQhMfzTPn21UDWqoPNbJ78557fjmPCRNkMvC/PQl96QeHJoMx7TFGspZegaVtlMXFqjtpVEB+lIP9WUVnIHtAZ3lNljj7+l8QSO0Gd3VnTcQq3X0hhtP1Uw2dwiJRNbXz9BoHFxnRnmQhpZDckw1cgZIQtDE9Wwp+KOWsQN9RXnJ2abW/o3IxpHa7yX4x+f/Lq3lHuSTtEZGbmEDcm5qpAaZbXPlU74r/uUF7gJprKOnOCk7DSQpyS3sR84xqFDJDrCDN+WlDW2SkqL4+XmUNPX3T5EYY+uqiIsJD3DVNbT11ntW30PY/4qLOCJGgieSySGJiW6xsaEVFVVzc7UrK0UrKwkrK97Ly+ZsttHsrGpHh0xMjLSJSXhKCh6PX1xcFOTcCPik1efbehses07px46sjGD7Y6yP3rTQjkxAksjIeJ7gg2rGsmNsvPT/Y53UOznEAcxyONU51iZPD8LcILeWZBKqJl5RxtcjIm6ERBqJi4yNv6MdV+t+MyY+wrqWiqXW5dl6GxyzSx2YRiLz4XHa799w0QpvQHE4CxwO9HTf3heptxY8b9hE5qNyLBQDmyILC8e+j+ChJfQ//vJX/JkGn/995wP5UHhBcT74kjp2ne+KH0yTJluidM0//dXfX//lL37x2YGjtiGgdqhkaJX+n7/4pWgJgONKdvaVpGm4SBW//MUv/+fAz2WhKQ+/CRK+B2IkePrCQlN3d0B6ukFUlN/gYND8vN/SkjODYTE7qzs1pd7bKxMbe93c3MjZObeoCNwIFou1zZ4cnt/FOMcQxQuORSPVndUjudYXzpnoe5d1zpIWxnmCl/OvaQ3zM1C68Mbhr85d/u4W4NqtW19/efjkpwdhVpDg2fOYrhLDL3283FwqJ/sz9KPjovWjexApuu6BARf8GkfgCfFBEQ8fZXaiKTTaCLY92kruvMx331y8devGrVuGPikpcC5Z4DtuN3YQPG0E353tqe0fG+JdUOQm/dyC32KVvqCkohU1jxutRebYSn1ibORW2sE7eYuM7h0ojSuK1NG8qvrtUdsogeC3XqWvah8amiYxoRFeUIWbq6aV0qm/SrkaQJOgbWwZCbshRoJf5HCwBEJGZaVxeLh2Xp5eT48RgWBAIDwdG3vY0iITH3/D1hamo+Pp719eUTE5ObmzcztcjV+J8/m7QY3hsVE9keoXdJOc8pAzbBIHyIAv+LZwf0OVS28eO3PlppSCkKcaes+Sewg8G39kKPhSQKDT45jWbAu58LAIz0YivpM3WQDlFjv7xsbBPDtR+AWgMhqhp/6ZnutTBbnb166fePuikrFK1Dh8Zm+//O0geFAytq/exjLW09DqmdWlf2o+p+DXJtgbAXP4Wm+NQ7f1DWLThcc8b8i1ZclC1ifuRpa0xuncunFf0y0lb3xhDjqfT8JzI0aC5y/a9Q4PR+bmyjo7346OftDc/Hhw8H5T0+2EhNOPH8uqqZlZWISFhVVUVIBJ8vz8PDDEBZk3w19m10/WMjdpDFQ0z0HlI1c/o5BJH1yDyo3lmf3JkNkvyARMhhWeMQ5doGG59bYR8V6XbGNsL9309YhMmKSR2bzJwtuPkoPUTONjFfnHv/JygWwgF5uEmoxX1FZTO6gYX4wikUHEEjDxedHbsZPgQTOmufV2kd5qp2QenXhL7YUJngu54rd7/201mI11zfIUldflfQh+RPD7yCG1R1qw2PFREnv7DkvYFjESPFANsNInp6aqm5vdoqPv+/hc9va+nZR01c/vopHRXS0tA3NzHx+f9PT01tZWoWt6QebNgBGsKeDR2acKp+4ZaRsGdmOgU9PXBB9dg0JUxDkGyJ99GtuYs3pM0nR7e2dKSieFAm0a4S3jRfjrf3Pr0a1v9DyDyzoXOAvL0GQh4Mqxp/fuavpnenYu4BeWaYh2VEVKBYoCilmexyyUGJrb2R0xLGnHzKPbU0r9H6hZx0dUIJ5z0W5VqJAz6bqyEE3Vr469+8e7qi9M8MB2aK6zvKR5Xfk0tE+G1+V9CZ7NnkNOFJl7aGpcv+Yc3YKTnD31PRAvwUNLZ7OzyNHRoooKh9BQORubKw4OVwwNZTU0jMzNvX18kpOTa2trR0ZGQLLFxUWQRZB5C3DEkfzgS2dljsuc1QjOR/MOUV4TPPSzHLwzqfyZ3FMzRxvPcP7is4/zM2fb4BosLzFnnjtTku6nIf3NV99IP/NLh/MVCyYL+fofnv0c9sAlL2uGO8sB3y15PeF6Rn4R9qCYqIgkGz0Dt3DljKFxCnOXn+WgHUH9/WXP/EwUTv3l4nVpZ7fsmv6+MN91QgV1ziDznEJkPjzwFgz2fILfYpU+KSM3qQHZP0Xl0Agz9c/CDDWlL6jqBoRCaeLCkgKe6KoYS8vEFY2ReBtvtl6lTyppKuwcmhuO2vjdNFNf4mWqc/b2fZu8uOapvZ29J2ENMRI8AAgYyHhubm50dLS4stItOPi2js49bW0LS0swtoOPGbgFwJinUCi7qR2CNg2vt/9ASUPpA/t6OH9nCX8vvSdvLz2KTOZboUqHr/5LsPj8q+MiiSF5QmvXjlcPX3UsjhLuI0EWwEM1PnhHQ8muoJ4vMOiK/Afv/C+vCPCvvDAKWWAXev/v75w31xU5K3YN3l56O2gvPZ/j7xzWCS32MNe1uv2BfTx8GsxCBGyuVAi5BVXsoXRYx1w0it9T3auf/upXbwgKX+V/3/mVfKgdtJcegtwSVWz+6eG/r6X611VdJf5UBSrZXOnw34W3Zw1wo6C99CFRm5rKK/D84b/f36KpEnZDvAQPAJNdYNgDSQ8hEKVVVc8iI70DAoKCglJSUsDYjkAgyGTyzqfKCeEw50mD5W1dbeWDpHkmb6RZZnMXJsZHkK1tEzN0NhtYoXT8RFtpQ3GmgCqRxNBG2AXyeM9QY2njEH4cCIAPbXoe1VVe3NU2OE3ij2DQldby4nxeEeDfVmEUbXoQ1VFYXDfQM05e4JW4Dmgv/eBgWxUvI6CquLQHhUcM9MCbywcn5plratlcqRA2mY5HtJX2DIhG8Xva01CZmZkjKHyV/OLMVtTg6t46NnkcP1BZWriWqrihp21igc5e5pU80FZaKLw9a4AbNTA9Tx4b39RUXoF1pYUdWzRVwm6IneABQMxsNhsIm7d9pb6oqCg/P7+hoYGvdvB1sBe1S5DwU0QcBQ/g2/bz8/NoNHpwcHBgYAC82KMlL0HCTxcxFTyAP85TqVQSiTQzMwPELxnbJbzyiK/gAWAwX1paAqM6UD6Hw5GoXcIrj1gLXoIEcUMieAkSxAiJ4CVIECMkgpcgQYyQCF6CBDFC3AW/wkPwxx6BNpmNjw0hGpvHCdB2uq2uSJDwo0SsBc//We65f41be0ImjuepcmWFBa7ECZ+Z+QF9K4K6QfOFQF9egkvgf4I0PKCrUNTqH+uybQJKsG0aKIZXDMTmVKAeQdwWkQKgtmzdDNGyJbwExFfwTBZrCostKS9v6+iYIZF2evR9A0LBywXVtGWl5RR4umcNtAf5/sCCZ1K4g6mpvkbSAozUn0aUdmUnRDqYP3xqntBVIXx8lIYgdGX7Po1ISG0f5FCZM7UVkQ4G0tIKgowbWCtnizRK6tKepantApfwNERFV4LB04ciqYx8dVMHJylMXqUJvk8fqgkiRABpElsnESWbm2Hkm5o6yAW5JbwkxFHwYBRZXFwcn5iorKkJi49PzMysb2khEIm7OaheZZ3gczLyi3y8cgbbg/x+eMEPpad7qUl98+GB1w8eOaYspx1a3OjvpHX75P98eFI5xLcUIXh6VPT5Vg6NNlNXFeNiIi+vJC8vf+u71exfn5OXlwZX5M2eaoeWQ+XcPfXmsdOXb1yFLq7y8Km8T3l6J26ZTV8Yb66NsLe/JyWlICtMc1XZDGab3oal8BxUWsMOfv7VWsmrmAUYJjZgesIjRKuQviF/7tg1mImSd387nrGD22AJ+0EcBQ/M+Lm5OTC2u/n5xebm+kRHuz571tbVRaJQBCl2Zk8mPd9aFbFveQau0IQFf6yzXUWi1uKgF5uTrkdUzALnFo9O/v7sqY+VTSPzald4T49u+UA7ny2jBM+67+DcAiQZQ8fBtC7dPHDMLmQAK3x2FZmfX2xnV4zFIneoFLC5Cp7/H1uY2oGjNsHbVCph/4id4MHYjsPjcwsLk0F0TU0zGl3Q1xdaUuKTmFjW2Ag0z9nByw2f3U36acpkaaquupHQvuXSqISuWt+nDpCBC2xYA4fIitoZLpU3jWBSJgdTdYW2uZpDpG/tDIHKmW5PLQ14qG6TEPl83mwML/3lrq2xqmlsklXtDBbU8eIFP00azYq+/YmGrK6K32AHYe3ZVdr0NG5wEMdk0p5X8BwKdyYzzlBf5pC6dw0ach8k4SUgRoIHA+UihzOBwVQ3NoYnJWVWVbVPTQ2y2fXz8/EIhCmwjrOzS1pasEQia2fbXih4Wd+aGl930Rew2BrU5AiqsD5RV+vSbblHXgbpQxgKk4Zt6S9xcta880jultxtGbmzV2F6fqYF6JE5NpuGxXfl+uhcvS93XkrutqzcWTkDT4P4Ccx+Dpl4Vys2w8UlNkbHvaYLR91Je99P8OwBTFuAwZETT9X9goa4vMM4NvGcgl9mkxbQ0eHG+jJfGIQ0YAYkgn85iJHggSU/T6UWVVS4BgZm1ta2YrEjKyvdKytVKyspTKbj2JhqWpqql1dlaythBgyo27OT4COqxzoLI7TsLr93xb44ctWJDe/QqIO8Q6PIAtvV1OIgLK4ImAMjoodM0Njc+paW1vj4CRKJjcy3DVH529vnzHQiW55P8EfNYwda4iNjgxVts8d2dB23s+D/YxPTP4UQzDQEgPmFyLlU+YJcvMnHKrwpiCDNUxOb3Nrl5XlBFA+QGJoErauCOTM6Hgc553yP75yT1xAJLxwxEvwclVpQVRWSlvYsJ6d0YqKRwahfWclbWYlaXnZjs80JBNXaWoXwcCN/f5AMZN/Wg+W2gre/9N1Ta53reiZaGk4JmW0YnhMbMPwNVvu62X/7wKNisAlc4duuVmZ3juuH1GMGukQFz2FzZ8hk8sTEApu9TJseHGsvKKrr39qbDZ+tBW8dOzDa2pTZ/MzSOKs3t7n8ewle4eQbR059d+WiYKoBoaSu61k62d5SOpRifPKMrV5A7RDvVCxERWSCgTRvtd5IXTe1dJLCO7vKCnbws1NHTn4jLX2Dn58HtBTfQ6Ig1lVxS/7eZW1H89CCkrYJnGQvw0tDjAQ/Oz+fVVbmnZTkkpWVgsFkMJkJy8uBi4uODIbR7Kw2Gq1YXHzL21vVxiYpOxvcCDabvfVy2XaCt3vy1Xtfnn3vD5/LqF8NHkLyLd3lee5CSbqZ8b2/yxh4BvumAGJSUmyNZRRuHoQ5FKGa4U2jRc4y0ur39RwDU1ISUlLKmgcGhOfS7srWgufZybgmTPUzA/vM6OS41iI3uecX/Kk3j3596foVuTUeaBr4lGM6WsuGUkxOnbHRC6jhC36kKjrJ8Ka69BefH7z64VHbcFA7VDJvlf7o12fl5G4LCoAwDUhP7xUInl/F+fOfn/7i/ddv+ZqlD2z71SbhRSBGggcz81EMJiQ7+4Gvr0Vrqx2RaLO4aEql6uPxmiMjKnV117y8rj5+7OTtXV5RMT09va1nu+0Er33545///A+/+PnPP4Mdtantx1Khbwte4kgQ9TMQJcqBv72naAYdgUomoYrjFd+7fIB3+ec//xRmYyM8l3ZXdhA8F5TcEq9oHu9hEVPoduO5Bb82wd4IuYWX66mpzfa5tixZyPrErS2RxfaX37tsB8wc9Mo2kxcJLwIxEjxnaYk8N1fV1uaWmHg/PPx+SclTBAIM7Op9fbDi4svOzrcNDB4bGgYEBQHBo1AoGo22tVW/neDtTC9//cgx0PipGkz69D33XFTH9OoIb25y7x93DH3CwNi2SmF+cWs/jk4GhgQdN9FaXF+YnhwdGKz19d0H2uesapuw1D1JfifBs9kk5ESMdbSXlqKR3pm/aLwwwfMW7QyPfPlU3TdocHXRbh+Ch5P7kTX+ZrLnNEw8XGpncPxfLyS8BMRI8GC4BoM2AoXKLC/X9vdXCA6+k5Fxr6oK/AvGdilNTVVdXUcnp7j4+Lq6uvHx8ecWPHgBC69BNZRFmXlc+uq2dpx3IQq9wGQvD9X4uTmcue9eDm+EjoaHoGGx0wMD0wwGiYSloAZQFAaI4cyiZzI1DA0MDmlk1qBncdiB0Zbc/OreLhTpOefwq0JlkrhDsekBj29cuvzhmyraL0rwXBxpNDtW5tPHsjrKPgPteAaUcR+Ch068wrXWud001dCUNS2oHplbvU8SXjBiJHgwIQejKZFI7Onri8vI0HBx+drA4KK39xkTk7NKSho6OvYODmFhYQUFBT09PQQC4blNekjwvN/hkfkDIcrHDpy5pBURh14Bn92RfGiV/oZbUUQztE8HMJKXV2hrW4QF1mxeV6RtRNcUFEOdWqm1tfH2PmpbN4Cl7elnOVLzWKErpCtgXbNI1I1CBZkmWiK1TT9+6y+/l33OQyZAOTax/VMj/BavwU+CmohX1L50E9onw0/DmllBxwlrX9t4Y5NXC3rGzypEuEovbCqv0kjtR5cPwuyKxpoly/QvB/ESPBAwnU7HTk+3dnREpqfreHhcMzWV1tXV0Ne3c3QEas/Pz+/q6pqamgLJwPAOsggyi7Kr4GnT5J6CRBPp+zJ3Lzz0i+ogdI20DpQ6uzyRVZW9LsPj0j1TeduMNiyFPJDXF/rwprzcGRBzU07m24fqjsl+8BkCk7OL4Pl76T1UL3/1/j//+O9D/7kn8yS4sMHPcZ3gwRfWArkposj4ysG/qDyn4BVOvvGfUxeuXuK3mI+yhoxXaWrHNLS1dqK1PsrBUfnKlTu3oTS3r8tc+fyijL6cRW3bFI334z9vlf4/p74FPeNn52PspxvfMNkTtk7wPEf3/Wnu/veunJNytYnvGOT9wiHhxSJGggcAAXM4HEjzWGxzW1tMWpq+k5ORra2rm1t4eDhQe0dHB1A7lUrdVu0A6MCjuqq8Ih+fIji8KE/0RUAdnEADsoFOWaoLiHa2UtcJSOomjIDpAaG7LkDH+YlgpVrONIC/J4eL68CU+xhoPuBdBf/6BKR3DPE+67iO9PJAdU37pOiqkS122vH30geY8jICTDV1osu7c5OiUzwM0msxlLV3EqoizEAzTFjyGrQRQndugE50kmgUv4PRziZycvcEha/yQFPOpzy9Q1A2baSqO8lER30t1RPn6IC6GQKNwys5KUBHXdjjNUDfk9sxI2VVm5rKK9BeRz1wi6ZKeBGIl+D5ADEDc316ehqY7sCAT0pKio+PLywsBGM7uLjLGZISJPyUEUfBg6EbSBoMukDefX19TU1N9fX14AUGgwEXgQmw7dguQcJPHHEUPIBv24PBnEAgTExMjI+P4/F4/rK8RO0SXmHEVPB8lpeXFxcXgXnPYDDYbPbWa/ISJLxCiLXgwWAORA5GdQB4IRnbJbzyiLXgJUgQNySClyBBjJAIXoIEMUIieAkSxAiJ4CVIECPEXfAvZnEe2otaW5lb6OVfC+dtrd2JzYmfK7sECftAfAXP4XDmqdSR0dEpLHZhYWFfP8ILH6fhPzzDJtGJIy1NI8NbPtYqTKwQUTPQ2TE80lTXSRyMCBJmF6R7yXAY3JmBgZayVAFlBUVdo7ihvq66ytyiyj4cSviEKugObqilqKtvADuzzOYsoFFddSBbpiDjBtbK2SJNdkFq0+jAqnMPNgmF6ysryhVJVdZSMjAzz+DwKu1rKcrNF0SIANL0Tc2TRjc3o6xlYGBmz86CxBLxFTyNTh9GIIIiInILCiYxmL2eQrElGwRPbkbV+MJkfd23fMpt14ftBOleMjQst87WFvbpzwR8euCgVnCRm6nWpZN/OXjStChC+ISq6BN1gkfuL330s5/9XpBxA2vlbJHmrQM/kw22zRM8Yk9ujigy/ejgX0RSfQrjPxrMq9QUdvAv/xBEiADSmOcMNAdtbsanMFvbOu5enQWJJeIoeDCYMxiMjq6u+NTUyNTUsKSkpKyskbEx8BUgSPG8bBzhyWCEb20GI/xWzifXjfBdYIRvru8CI3zwDyx4aISHwyuDnpnDvv7r5Zuyrp75dQP9Yb5asJNvfnnykqVjepPgAVVRwS+zaWCE764rS0vLSktLi3JazW5in5YWB66klRfk141B5Tz57h+yOt6h/tDFVXIK0prH4NM06GnCWv8Q/ce3zj/SC4oQpvF3DXS1DarBEnFQpQ6wg7furpW8SnlraffwPCI6QrSKuNA0e1k1mPY399JyUSJPCkpYj9gJfml5mUql9g0M5BQVRaSkFLS0xJaU+CYmZpaVDYyMMLZzerEZoGpcX2txXgH4tCVFpQVpPVYz/Q4WX7le8POMeQK8tLWc90lNSyuo624dmaQjY3cUPI0xPwYvLSgHn2w4z77lQm6w0K3FdVBlQGhldd0o9AKXzWsphzE/s6EK9AIdcnoLH2vLK6jp697ye4fPFqP30zNvXVeUvm8anRmDXiCBOkTTAMtAkJPHllH8b7R1j+VvgEadaq61uKh5XWWDPnEdHV1paV0UCk/w21QK2FwFk8gdDPJVf3riiGFAG2ZgH+baq43YCZ7JZI6iUAGhoVFpafWDgwgms2lmJra1Vd/PLy4vb2p6mr24KEi6M9Ancr3N+Y9LB2HxkKt5ELVq0sOxAxW2R4WG8z8uacEiu1BdkTua9CPYgWDbowc+Fdq3kDvKonjYwUtQZcCG/eiSVkT8BJc/y6ZhB+o2VBE/AWbg3/8ciwNqscFqpvEx/HJeguAFHVTbwQLfoVLAFlWAJHV5tqZaB2FuRSiJw5ztECPBQ5Y8k9nR05OQmZmQn1/e29s3P9+3tFTLYiXh8db19WaZmT7p6X0jI/PUnc8yBEPuzEiJZ6L+d+omgbZ+qamJkamBTzWEI7xQ8I6BNSW+8sqP1c0cA1NjE1PtvCPTPCK7cNsKProGNdxS5R9vchWm6mAWVMFfwcJ1JJQF3NE0d7L1jkyNjUi1e6Rl6HzDta4FR6PhOlAlvkobqoifwO1H8IcMYmuSA6Nj7A1iqjGknQbb7yd4Whe6xlv9kLS+QWzGDJey5RrbcwqeQ8PO1Fk7aWt+fdkjuReHlozw2yBGggdqH0AgkvPzveLi8nt7m8nk7pWV2pWVrJWVUBbLBoNRLSxUevYsLCurBw7f1qEdYHmBu9BR6qVvfO6idd5IDbhj/M+fcIgWCt7Uoojny44nOSabOzgygqwtH6bBo7cSvNuNm04xyb7P3LWM1B6aJ3ZUjoDPOfTl0hnn6C93TiuuKRdc4duu5ua8TzZ+Ai56jsVqFbUzNBr4mkgre/bosW1iVOVWDnP4bCn4o5axA72FuUlZJtbPmpBNyLrvJfgt5vA5BaXNY/PTyFpktu3VT42N3Eo7eHeTjOruK0vLg1YFygtK4WPzDJ6HrK3n8OWtcDiWxBhbV0VSQlSQm46BjaeWf22X5KfN7REjwRPJ5OCEBLfY2LDKyur5+bqVleKVlcSVFe/lZQs222huTrWjQyY29raJSVhyMh6PX9zOtt88gu1J8KtjrDDxRsFbnDkpq3zyrZuPBDY5LzX46AJL1dvgqG3qlrZri6jgtxnGd2BrwfP6NZKHyjGHBTVHFBZ+L8FvsUr/1oGjssEDeUWibWazuRPNEVqmH/2Mt1r/6YGjttDpsVDJW6/SQ0vxFSQsfH0V69f/JWyHGAmetrDQ2NUVkJZmGB3tPzQUPD/vv7TkwmBYzM7qYrHqvb0y8fHXLS0NnZ1zCgvBjWCxWFvvyVnAczs93AwtPr0anI0kQjdsO8H7xjW1RhnKXZC9dE7qzh2ZO3dMwWDEP3Rls+BNFI7/zz/e+5/f/N/5+6c8OofwC1BdvHOpEgxVLr5x9JuL1y7fAdy+c+fMV0e/+vwgzBoIfgIx1RplvqGKIS5lj+7gdhA8DYHryvTQeRYb6lNU5Cb93IJ/8t3fZbW9QsCMR0h2QUnT6DwWWcMf4Q3dyjp5IzwJ1dVXFJkb+lTj8sNvjtpGCQQPjfAKsiZ2qamxggIgoB/bhSM8rwonRw0zxZN/ueZmmNC1rS0jgYcYCX6Rw8ESCOkVFUZhYdr5+fp9fcZEogGBoIVCPWxtlUlMvGFre1db29Pfv7yiYnJyclvndkDwHR5u1vafw+JLoTW27QUfUQ4ndJX7azlpyEpfv3L1+D8vKJk8COsa7OKtyW8UvMpX//zkwpWTn0vBTiv75rQTpoGA+II3UL74xn9OX5C6LCtE45GWf2IX3z1mV+2GKmLQg6S97SvYQfBcGg3bW2tlGetpaBNkdemfms8peBELaANrc/i4tTn8hlxblixkfeKukeKWGK0bNx5quqcVohfm+L9eSNgKMRI8/+f33v+/vfcAaOvK8/3/UzI7s++93ffm/Xf/b3YmM8ns2E42ycykJ3YST+KObVywjenGBbAxHdOr6b1X00Tvovcieu+iCiRAIFQpEkISQtL/3CshBIji2M5LrPtZNiOffo/u957fOTr3d0ZH4woKbnh4XE9KAjp/ODp6t71dJS3tm4cPb+jp2djZxcbGVldX43C4lZUVPl/eaLFD3rtDtgQPm9nAToC8tk9NJ2sYPXhw5GZwGSbYb7fgoeyR9VPoJGcNvT+9pxeNLcaBosGt3ljkDEx658zdLuLh5kDA/9qqQvxjgSRuX/YTPKgc2pwTH6h3/Kbe8f+l99IEL3eV/gUEDx+qVZasceTBA2PNrdkQghwUSPCQJLjcGSKxrrXVOzHxTlDQheDg6xkZl0JDz1lZqRkZWdjaBgYF5eTkdHR0zM3N7TnCi0+PcnN58LnFM/gkc/4KkVZh4WhuIRnzNwXvZBOBqcsuJyxOsEAmIrvCwtbF5V2jtM6WcGgjrRzBQ6v0QzURaJPLJ89ZPA6ta6TxWXxaD0pm0Q5mobu7Lzu7b3ERN9FNqMuu21GFRUUncWUGWrTTe+SaliDXy7WY/QXPZ4pomMpow3tf//Uv/13jwUsTPIs514qxg3+H184uEv8O/0KC5/GWJ6ZLbHwNDa5c8Ua1L2z2E8JOFEvwYMQG4RM4XGl19dPo6JvOzkpubhcsLW8YGFgCtQcGpqeng14YHx9fXFzc8/RYaPvZSHe8X5CS2iP3Z56JOdmpzzJ81LS0H+8UvKF90TNzs4gkkCYnJSnHzdzSJ1YrpRnfHytnDg8JHjYQSN3Txd76Sko3dB2epHS0ElexrSlVoTcf2Xm6BoOCIMJ8IsU70iZ6i/qfmVvvqCJrBL/IOeBnOejQ1+Hh2qgIO82vf3fh2i2fgOKm4aHYkG1CBU8J2kShe+T1D/74v9Sf8xyLR2fevGWy7Ti9nJzC0hzxTjsmhdYQEmX+8OppPfPIeChNRmJOlJGFrrXK9aTSSTp82jS8Sn/Lxg1cmTi7mBrpTrsdz6aGcj/rx/9Qufe0JLWDhEzm5aJAggcAAQMZLy8vT05OltXUeEdGXjU21jAysnNwAGpPS0urr68HxjyDwVhfX99D7ZtMFGGjbr73p9/+7Gc/+2+//e2HN28ev2q/06S3sS+LunkETvOzn4H/woc9ceGBdB/BQ5KBjfPzx393VNOmDD5hdgoyWc//ES4JIN2TI9OMrSpg7R0gePFees1PQDZ4mfvjPx01job2wO8amaEq9N77IzDAn0vw8BI63Kwtfvunn92KdoHnKuDboEN76T888rv/Jon92c/ePG+skSzd7WOjceR3b/4/kqgtPtF8X7KXfmdToc351t8e+Z2OhkvxzqYiwCiW4AFgJg8MezCAj4yNVdTWhsbFBYSFRUREZGZmisd2Op2+34/wUljzK5OtFSXorKysPDS6qrW1tnmotX2augoeKZtvyw0OLUy2lsFpsrLAf1vbpS+cjU20tk5QqRNjsh/E2UEjeavs6Xb4vbX2wYVVOihydWG6vaxR+u6Y9K0ymWZsVQEPbqx57GRHYUn9oPyzKPd8W26ouQJLWIHPhxQDVdFdUdItLXkL2RfppFHQoVF7vFF30NtyxY297fC+YLjkA9+W29lUuMD6ssIOOU1FgFE4wQOAmCFR0ulgMG9qaiotLS0qKgIfxsbGQCB4HBysdgSEnyaKKHiA2LZfWVmZnp4eGRkZGhoCH8Cwf7Alj4DwU0ZBBQ8Qj/NA82BUp1Kp4AMytiO89iiu4AFgMN/Y2ACjOlA+n89H1I7w2qPQgkdAUDQQwSMgKBCI4BEQFAhE8AgICgQieAQEBULRBY/86o6gUCi04IHaBcix8AiKhOIKnsPlzpNIlbW1XT09dDpd/qvvCgSLRRluDAsqK6prpIlYP/bOAO2jTdQVlQWFlQ1Tnu9l2IVuYnWQheFdVQjw36CwxMyGvnQ/E31Hz8SwRhpFfPHQ+V+NdYmZfhY5DcTFBdYEpS89zET/EZxtF9vKkZPGJswiZ5QI+yGCfPI3hiV6yqS6a6gaVJ3TvbBZqae1qqqWJG4TcZqGxt3NuGtoEVRNBLkPgyIKHgzp6+vr07OzdY2NscnJ6Xl5LR0dVBqN9yKHz/zkYdDxmBTYa4fUAfaPGNC+mTbY5Ugw5jmdUpO6Zss9TbX/8fFf3vmPf/n0kzPu7lHhpWX2KkfeOX78vqpfQycZ9oG545V71jilNzX48T09FRWVa5dVLnwKZ3/3kzNK50CIiraKin8wVI6jypFPTrx7/KSKyhUofJMnwaZZI7OLHB6DQGzLSbXSNFC/LE1z5ZbOyXvBIUW9NB6dD1Wqdvxf3j0hKXkTbX0V/8qsSjS+zFFDtopzx6+e/eacaUFk7aHeCFZEwW9sbKysrFTW1PiGhKAKCoISE73Dw7v6+hiLi5IUiojCCF4kFHFpgunkZ0Z2yv/lnDQ0N05vmypz1Thy/vibV69ouiTj56HXd3f62NicAQI4NAEBtZVdHAimhlA5PhpHHls7FzYIBCuScDFCATxxZLTHl9ueOvo7HQ2ZNCtzcw3OLmVFxU1SHyTbSt4ENIAufh9ZporxwqFIvffe0td0KW4CdhpUyX4onODB2L5AoRSXl2cUFKDr6lrx+OKBgejy8uD09Jq2NsbSEl+ulxs5ABu4rzHM1MvwtgRDL9Owxj4Ki8XCQXaXqQEco337trVX0qadDEUVhZkmxnr5p6dbGxiA2Nv3HlsCk6y0NKc66Pbje1BBBqZh6X0U3MLzJIa+asjQxdUlpVvfhtPKRIltxeIyL7f0vEgDL1sQK20Y5FQHVxeT9Pi780ff/PDvn31x+fa1WzKXI77cPdlRKSjY4LZ1elIdDi64sS7JyxquTG57gsIaR7aO0JUJAR01UgZmGLH+XulBtw22XSno+Z7GsAeWF/7+4Zt/+vC7S2eubVVKXCQO5ViG+e/b+B1iht6999Q4cufeWW2PMAdD9GARaOJuwUvZK0qud4AtgD0/2hZt/vTrj68+zg2vnqfCfQfgr61Rh4ZI8/NUyQgvr1Ixu6tg9hDqA+4dUzW1TM2niZYOGuIVSPDg+Qgm6rPgadra+iw9Pbe2tpNIHOHxmldWUsbGbLKzA9Hoqo4OEpXKPYRtzyJ1DJR72OgoqV/etLz03B4H1/dSKDND2Y0ROrqXb0IxV66pnFRSNwu1K5vBLfN40BfmpnHkuup5dWPPR7e1VGGT7ItzphGmji7BNio66sBIAzl1dSIasxtKsWVuaodMPMRY4TAoI+n5oUbGNy/cVrkmG8Xm0QXgTnK1PfuZjpXZTcOHsg2bwi3PY2uiEh5+c+Yvf/jbBx9/ekHl8jXx5TT0UpjyNbMJn8OgjaSn+hnoKJ28eQ02UdXuqVikxtdg55dxU2V2oWbqSidVoJjd7ZHx+SFRkTQEdFStt8aZh9o31O1sVDS2XekMhdJdH3zX7OwHf/vDH//2zflvL0srHcfPY+tc3tO4unkKkLiVO5AjeFhF+rbp9WF6bvmJVROb1vXLE7zYM5rdA+3/PGubM1FPkgRvY5+njJhdVfAYrSOV7nc/0bF2zC6niZYRwUv+LT5VjsUqr631jojIxWA65iCfkH1CYb1QmMnhuE9OPsjOfhAYWN/ZSaXTJXn2BlfsGq3/1lt6kc6FY2COACPYEHCFopn2eBPfq+8bJQ1CMcvEDYyzs439Ua3UcjwDuo9hRy4nzhtpJBMmqWsbYwWDkTfee+t/f6Lp4tKwQVze2BgrHEwyev+qr4lfCKbM5uYhE8e3D5OGa10/sLU30kDh4cRbUTM8Og/cScYXvv3T+zpRg4XjOxpGZwhptMk6lPqNQJ9nKPwGyA1fzsE/YLBIw02uH2jqa7zvjBmEGgQD2Z9gjlCeqnXU3sbZGbOzqZL27C94qKP+46qG8+4rnRFxuQJC6zOfwBvqgXW4Fqq0UiFTfPDW9xO8cxJ6qjVS0z4lXsa6flmCh3PFG4NcwFyXJ2bA8wsemiO4XTh63tU4rm0aFCBJtycKJPhlJrOsvj4mOzsMja6cnm5hs5uEwmKhMFEg8OXx7CiU+w0NarGx1mFhINnyMnTvSnLuBLLNMCE+Lie1bfO7qudlzqXir4hoFTkh7vqqtikdc+Mghr8oouagHG1vfG4Z00zEzsAD12l9E+esYgLsUHkBgytyuPjd/ceeaAxVxARPaBBS6n5RJdDVNxhT633zkInjCronKkLOq3s6PUskwIdAAmOvKeje5/esnHIq5ukrU2CEt1Y+a5vQCjcMOsEmKszd57T4eKzvOYdfoE5URJ1Xd7AODxyikmVPZmdhiZ3xlqqGHsGbTd3dngNH+NP6VnKuVHp8BZR6xxyev7ZMHSpra8KUtBFIsPsgOewleJfcGjpuKNEpEZXhXDM+P7zdbZ6U/QTvpHHk06/e//rU7dsq0CxGgm1YTk4PebHFX+Y4A9kpIZixBIXl9Izy6ByoZPUT//r+NxeuXBRnhhFP5XqGd1ZxTc9cwyU6Gt3dMyXPr9EuFEjwSysreZWVgenpXvn5WXNzeVxumkAQub7usbZmtbxsPDOjWVFxLSjonpNTWn4+6AjeXk4sJbaZt8F7Luk7bgWgolFIRZJD5qAg8C10V/o8sfroogsa1wC+MFkP1iAe3CV7hQDBYyCPd4dKHBXf0hlj/O6th7ds3XJzU3MB4c+CTG+9eeaRUVwKjk7H7Suw7yd4HlB1guW7Zl67x7SFBlyZx6Y+xSPPNHk00+/4t/ZmYVEDdKr4NI59BL9fR+0p+EOxp+CLGjl01khiNirJ2APd1xm53aXnJvsJfvsS+iZPgrOyusmLzX4+T+w/2hQ8k9LbEPzY7c6350988cf/rnUf1C4xK+Ss0mvrm/pXznZht6r4+vL5M5/+8S+ntN+1hJwUH/IbUyDBg5k5bnY2Go2+Gxzs0Nn5lEZz4fNtmExzCsUQh7vT1HQ5MPDiw4ceAQHVNTUkEmlPz3bw9w3bZrtuBda8qMnFxcZexp4EXwS4NY19lN8zQmGLO/a/j7eHPJfg/YIx5ZD9/8ef/fznv9jk5//9Zz/78MKrEzyjHV/uoynXiMUVY5Oh86SAqSlpKlQF5IrT3sbFpRY+K+pHKHgRjyWcbotPirxlXICR59ITsJ/gQTmPrZ0KMGDOBM8zxECTDS7IlRxnbK8M54L9eAqFYNpEa8GVeKv/Ba5dIng75f9yShwkSueKMPAqvUwVVVTcIEr98f0HRzRToEkZ3IQDUSDB8zc2GEtLtZ2d3mlpd+Pi7lZWPp6YAAO7/tCQRnn5BW/va5aWDy0twyIjgeAJBAKLxQLdLMksy17fN0BsJ5vZ/+OEf+YYGdyp8AjfU+Vjaf3xRWc0DvPqRvjIuJbOaKN3b+jfeOKckZGYISYnI6MC0zNFWKLzCK9C8LJS2THCY3Bo54sfW8PnSUG9AB585LFM/xP/gEb4fniEt3567YR/rrijfiyCF7BEbHpLbou/gU2g+ZVzRs8veHm9AYAMw/IcWz3t/zxvlwufQSpGNtc+CwdiZBJjeMtkQnGWj+HdK1eNUR0V8O80B6JAggfDNRi0x6emcqurjUJC1KKjb+XlaWMwqvn50NhuaHjPxMTN3T05ObmxsXE/wfOXRbTybEdrzY90n6C7a6EToTbZjNL97EFw83QviAFzeHpesqPtrc/Mo5rgOfx+9/ELCD4O3T1RHnRW08spDjUDz+FB5RwOfWSETCLRxWvO+wmetTjdmqd/Psg/LGpURD3k0XRgot4UZf7ZrYemkaEjdApn+xwejrJ1TM6jw+dJsXqnm4MffKYLrSfP05ehw+EsL79rGdVFxPJEfNY8vdHB28b27I4jt+VfO58novWmekXrXPKqwDXI3LR8zgp9pLqzrbmyc4b83HP4TaGSWohVLuaPr33z/i3JWXfijGK+n+Dh4wxaokxdTnx0zQQdWUuig9aCYNlczyP4RviXzPEy38TH3ynfD/PLGZphi+CvfT8USPDAIALTcgqF0jcwgMrJMfDy+trS8lxQ0Lc2Nt/p6OibmLi6ucXExBQXF4NcINnezqrBXTQNrHTrb9/6jzvRrhIv62IkUd7K7xsnw2dFbRr5R9WTy6YOvI+3hzyf4NuG57HVzu/b2Btrps7gGVAki0RqcnUtL95cc95P8JBb60bn9wIDXVyaNo9/OhjYYb760QvXND9wbRqWffZtRkEGvLhAyMg3fl/ZG1pPFq/SGz24cETzaTm+HTxvSNgm1/c1r12QzIYO0VETRS6ZFu9ZZonP5JIg/tVA67rSMfHPIpLg7RwoeBGdPlWarHH0/Juf/Ok9l+iXI3gA5Iq/1Prbo/9xR9N1c5+MbK7nEzyUXUhvnSp10TiqpGcSnzojgr/2/VAswYMRe3V1dX5+vr2rKy4729jX97Kt7XUzM31zc0jtsbFFRUU9PT1EIhEkA4nlL9pBS6Fs+lRDc+ZTC81LGlc3F1NtwyxzhomLDPpAVkOYlu5VNShGRf32qfsGjon+bQQ8GHB23bW77+OtkOcU/NQafW4oOTfEyPj2Zc3bt0CLVNTvnbofFFrUI9nRsa/g+cw5KsY22lbj0qnbN1UOufGGx1udJbQlxT3V17p0Sg3KBi0o3w6qzumZ4S1PEIqtQ8w2C7yoo3XD1jy9tXSKzhbwBGzCQJZPsMbJM1dUzly7raOjZmevdUPbWvKrwSE6ijmO7k7Uuncd7ufNjTeEA3+HX+ghVvpY6p767Oh//f5fP//8gpdXTMSu43F5PPowIfHO47M3JMdXw1kl7Cd4+av08L0B7aXn0admmzOTLDT1Na5K0lw7o3Ll3EmN+GD0+ObGGzmr9JJerS7Y+Uzh0Zcn6oqtbxrefHTpYU7pDHxu194okOABQMB8Pl+s+daOjsSsLFN3dwtnZy9v79hnz4Dau7q6gNqZTObeapcCrbJigg3dHlyXYBlskgntlxZB+65Tgg3vwjFa16/7BWd2jcAmHRSFLQn2KymoGZfsfN4npKAEiy3xO2RiKITPBzZeTVyK+fW7t+Emaeld96vM7CKJT4mrKSjxC8ZgxXtp9gqJczO/fh3K/cDNMBhz4MYbuBX7Viot8Lqlnklm5eyidMsJa7ymN8XcEM6mdfeuX0qKd+Rmew7ZUdJ+vn33unlKXM347OLsYKZJsPfejSd1zVb6meiB7wWqFvp24tLqe9FehnEp0q8JwFkUjWRmBkftaDOE5LrSvEwy62WjZNuzA+m9AeWm0DDBcVv3DWi7oXlKb804a1ePySDu1XoMpRcdvL2pmwV6y2nqLhRL8ADxOL+2tjZPIoFYYMCnpaWBeXtJSQkY28GDYM8zJOUAr7KC1GLgjR/wQ0IoEgq2wsXrq3AGOArEgX9Lnyb7hQAOn1jyb/AvmbqhzTPSGHFK8b8g5IVs5T7Uxhsx+1W6o0DZEuHqJZFQNwGk7TlkR23PD0XBhYJgSTm7gRNI8gDgWkHQtq8JRpxwZ6gYcSU7M2z/3mXYkRbKLIkRIxMNlywJ3g6UBu4EOU2FWrNHU7ehcIIHgF4BvcdisYC8BwYGWlpaGhsbwQcwtoNAYAIc3G2KAAtH6c8INzN4rCYXHTU1G++k+qafwLu0CFsoouABQNJA2GAwJ5PJMzMzeDwefBAvyyNql7CPgQoBTE5zt7gaDA3eBofwE0FBBQ8AwgZWEI/HA+Y9UD74ANQuiUOAgHpoYwM8GPcCtkQliRF+Giiu4AFizUOzo12TLASE1xKFFjwCgqKBCB4BQYFABI+AoEAggkdAUCAQwSMgKBCKLviXuTgP+V0sDw8uL67HSfZ+vjp+gLoOWQX0ylZTfXF5cHiTxB3lgfyQHYWwHcUVPH9jg8liTeLx8yTS2toaUL4k4mBAyjXG9MRkR9ckjb31ftLu9z1eHa+uLh6DTZvs6pic6C3DYoLVDqxC+hKOWjwG29cL9cosjb3He6liXqzxPMY0ebSlqmV0YJqxBn8ZUlgLozMDVW0T5Omtb4XHY5Nnu6paGlqqumbJsg0DV0rGdlWVledvUVJR04FfWZB5bgl47LXZroGWrVSFZVV1WPI0mcwmT3RVDWBHFyQvusKpRWuz0wPDbTWjMyscmWJetBkvC8UV/Orq6tjERHR8fFFZ2SyR+DynUICUs+0J/qG3tUMboFc7Jbwegme04xtCtW+H+vuH7HxXTy5Swd8MxmBC/KFeSW3Y671UMS/WeEZ7Qrn7xXcuupsmtM9uz44rcU0xeee6X3mCzLfCwJenar9z8euL72hvf2EWctdjp/3OH97+5Rb/9ue/3o4ZLpF535bHwM+mapte3Er1L39452O78oTycny5n/Y7JnauJVsO4XkM0Wxqgqnj9b8+TRkmyRTzos14WSii4MFgDob0nr6+tOzs+KysZ+npGQUFuKkp1uqqJMUBgHtMnruV10PwPBqLMtbSNDbSWTL0fCN8HGaou3NkrKmFQGFx92vSizWeN13Rn2p+/kNLS1+pLx0ARyQaawixd/7m/JP0/orpzVJZw8TOcEvVr04eO/nVF5bhzcRh6bAJmgG5DL9yW8XSKS0tPi0tLdAy2Oja8QsBdok9Y3CJLFx9L8pG/4LW3cdOkjRpgdHRzvcfJCfGxneW+ajuePt9rzdnX6wZLxGFE/wG7Kx6aHi4oKzsWUZGcWtrUnl5cFpafnX1MA63tqfTCynANpub7UpLtNS5e/ybu27R3smQkZdfhx3YtIGd3RMxHflFJcA0Ky+r6sKSYbNfbOzJWrw7QiDTDjIRe1vasdi6srJCqWmHw43iO/IrZAtckGhm/7pamrCj3WUtdSAWlFbXMjA9uwY5RYGsYmxdFVyFmPKWga7ZNTYc96ImfcckjTY5sXft2wXP54noC6NdHSUVJR340QUW5LJmtKarfZfpK4U1NLvDlw5gm2eh2aFNOfFmqrCFFmoGxsonlB58pWSeOVA1s1kkpLTt75aT6idybM/+WeeBXW7FGn9FQJ8oDEnUVjqt5OWY3DUs0R6JQe7IDCqvy07uOLTgX6AZopXDzzUPgcIJnsPlThEI4bGxiTk5jcPDY2x2C4WCam+3DA1NKS6eW1hYX1+XJJUPg0GoALaZ0p9+8Yuf//wXwPx64403/vXNNz6xM/UPaYBtYL1rSna333jz30HE22++q21XQegAVoDY2AuALV4CbNHtCGF0ECr8tN81NbikYmf3yZtv/ivI/+//+Tdg2gUHP425/cZ/yhaIk2hm/7ounbFzv/vmpc+hJr7xxieXTBNSZyGnKIyOhAq7T96FqxDz9iVT7dRZAhxHgE36gM3LOazggUnfEOoPLud2aENDaMDetW8XPIsnaip5qn373//z32/HPC3BQS5rnv5NW+XSu9qpFeKO2gnkjgYF+9JxbRJJvOywSKImV9izEKp0autcAUZ7fEPIrZtBdda2jxMfH73qWx4vtfZ3K004MT+U5PTeFTvj+JRZFp3XVOJqa3xUw6sY10KTLu3CG7LBuEFrhQ+WOpTgX6AZopd77JcCCR6y5DmcnoGBtPx8oO2q/v7B5eUhPr+Bw0lfWHBqbLTLywvJzR3C4Vb2W2zmcVkzhJbEZ6bqWp+f0HIIdo1NS8vKTyvr6wY2cJWL2mffqao+doxLi08BtplT6BP9sxYZAZW4g73KQV+8k8aRzy6cv/cgPCU6WWzanT1+4ZaKkYt3XFqibIEZqZ1VLqoydcW6mjrrXvnOJHmrLhvd0++dNXQLDUgClmJ0mtP9x5Ze13ybOhZYDNrkfF9ZUX4WZKKiYtJCH5reMbhyzTe5YwEn9bq329+OXGQFj4FyST7sXTtrS/A1w9Su2ghNF2N9NZP4yPLRwTkm5GnrgJMkeOyF/i6f8+Z29heixiZg/3v8pRl6voGXt8d5n67+BTbcWjD004dzQ1CP1OzRQ7mVmR0pj1T140Nyh+U4k4OVxsIVtSUanPnG1Ny/omtliU3JT7W0U3vXIqYT8rq3k91CBcgR/Is1Y1XERkb4w7Bb8BwOZ3hiIrOkJACFKu7vb2Mw+oTCRqEQLRTGcrnOROL90lKd8PA4NHpgZITL5e79cx348veYw1c6a3zyzT3TyIRhER3ch9OVozk2x6/5WQPNHOasFTi7yj1fDwyNxORD2VMNjv/9yyu7CwRqrHS+KVMXayi7KVTrs6/tzcIaJOcZWOuc/+iaY/5kCwnMdMmibj8fp6efaKRU7lAR5HizLNvBTOcTDc9KfNum7fCigt+ndnClmECNmx42jv45aG8XfRVr98ggDI0Mv2fLYcwOZxoHeT19FITpIcv3t8NfnqWVmTtY2372IK95epEFHgFkbI+/mn9gsHkZbVZ83pKALVrrqYryd1Q1T+yYHSINzXYkmqs6+kdV9azBKoKU5q5x5LqGqp1Hfn56fn5yjLevq4mmXVpczTiNQ+WPRoeZ2X933C9zlDwN17uNXdkhspPzY00ML97/h9T15Qs2Q/xQeHkokOCpDEZMerpvcnJMTU398nKTUFghFKYLhUECgQOPZ7W0dL+7+wYKdcPGJi4ri0wm723b7y14IBXosKZWghBWCAipD1IXa+Ywgt/MjhcIudLscgsUq1E2it42VeqtDg0UUpeVQTfVk+qAfQseXKCu6WRQ1w1p7VvwRMJpcDlBN+DLeVmC36d26Ep9NG4aX/vqM92L75xyLX7WSttyUAOZzHzotdy9fdaAAoXTKMjH+/uuydBiOIOBb0jVvBnsF4eaFkpsYHheE+8XfEsDVQ81A0wE6lEat4L94rdmFvBpVn8CMzPxxOYzzb+6YAZmV6CaZb2P7uwxmN3ZxfwSzPU+eUvq+vIFmyGu6+WhQIJnsdnNPT1h2dlPkpLCRkejV1bCNja819YclpfNSCT9wcGbqanKDg4Wnp4FpaWgI/Ye5MG3dLhVetmQQwp+r+w7QnarEToEJt7iXTNPYBkewkctn0WlN0WgvB+rq99WV79y9vNT332m4VL1EgW/75VWOWl89tnf/t/fvn3k7f/vQbJvFajheQDD5mpXhb/5k+8uOBdPNEwOEztRlqr2/pFbNjB/hUivtHTSOfPHt748payioq6ionzqy7f+eEbHybKSTlzhw0qTLI/bxQT7PjxxTkX3mEF+w8wSZFYAwTe6uDwwevsr/2TJEQPbkcm+uYAvmR89OHf3m80R/kWb8bJRIMGDEXuOQsmuqbGMjTUpKTEfGrKi0SyoVCM8/l5n58309CuurmrGxv4hIdU1NUQicW/nduDm/76Cd/VRuRRdBp00JE8G+2TfESJH8MPErkTJqU8HCn51gTFYkWmrbaB26eurypeunv3mw5PffKLh/BJN+n1qB1cBT15OfvjxN8qnj543t4mqG6WLZL3aHwRISh3KdojS/exWSHN8AXq40ElNPzE4e2jzDGZg5A/3+qvZaJ35+OxVJeWrEMpKV89+fEbLRs2/d5jMhk/ylUye65gkfL2Hr5XBdzftwxtw2EWeiEMRDYcH6T3+/F3LsC7i8O7rl8m+9xz+hZvxslEgwQsEAqDh/tHRZ2j0TU/P6ygU0PmjsbG77e0q6enfGBre0Ne3sbOLiY0FgsfhcCsrK3y+3HsQfA3fV/DG9lfed0kWnzT0cgUP7d/wlZz6dKDgcSXDMQZ/fVtPw6mgbn11cX2qOcY78CWb9HvXLr6KG4HeMUlN/RHW77+tp+X6VLreflhgH+/eykeNk00c7eA18Pq4NmgCASMx8oN8YhOn1smr4Gm/vr5KXp9KjPUJuqkJbw0CzdhSLJcpwLc+M3K5cOyiW3lCB2g1UyRsKHS2eXxE0wf2nL+Tbdn3EvyLN+Mlo0CCB/Y5sNJniMTa1lbPhIQ7wcFKISEqmZmXwsPPW1vfNjIyt7UNDAzMzs5ub2+fm5vbe4QHJuMqNsct6eFXToVjW9aoVI1yFSsWvJHRxWMGAQ0zvSwRhz41lnzT/MHdzzRSql5Y8AttMQVupz+54u2Y1E056BeBmd7UhkDVY9f8LUBi/gqfXpnrZA7a4fWDmfSS66oeI3d2+2tZaeh+rRWR2E3FgW5ZJI7lWUUE+phHNPVT9/29ZLqiP9fyvLaL+jVtv0dqVuihbfttulBPNo38VfFCt2BZtFqe4+b64Isncc3E4RlZpQlYolVaf2ZtkO6Nsya2AZVNdD6LTxnLD45Tv3j+qv/T9N7NPTALi9TuvIiaxvzUrgN/h38JzXjJPkIVS/BgxF5cXJzA4Uqqq12jo284OV1wd79gaamir29haxsQGAhmYaAXxsfHQTLeXqfHwpBaIiu9Tz12jnGPRKOLytF1w4O9ZcM7dqrIKpbP5FHry3ytDE8qP/CI80lB56bFJDmeuq2qLbN2vYe8d4cANdZ63zxraPDYBxgsOWh0pLux5b3zyn5FyZ2knQIDGXcIfrygJUnv29s2BvaR6PxMdLavg5b2jU803H8wk156XRwGbzgj2dFA6eQ1bY+cpJbpkUlsjdNBB7yLYQ3NdkSZqd66fPzyLVWzqI5t+20G0A5KWhFeKT2bRj4ACHa4PsjO8YSSdeZAVV/jziGaNU5qS/C4pGxw18M2c3SQwVkYr+6KM79zSlvX2N0Tjc5AAyJTkj3NjbPTE1AHbrwZfknNOOQO0MOgQIIHAAEDGYMoYLGXVld7RkZeNTbWMDKytbcXq72urm5iYgKYWcDy2kftAPiIHyvNY39465c7N97sqVihgNb6rMTqw2O//xeQ6d//8AdVG6urD4Jk1q73kPfuEKDGMpubR3//p1/AO3/eeOOXb104ppFUPEmDdogcJHiGcHxuKNLp/bc/+cUv3/iXf3vjk1ufnrj6+IaGzw9p0ktKFkLd0vKs2OrE0d9/rWSaEN2OLbA7nODFO3A0jp4/fv6oxs79NuW+V48aoVyKJrZ/i8KJQuck8daXsrKdShMJubRJfJKG0YVrb//1acwwCScUcKm4KSgE+p7FPf1vf/7gVuRQUdvBG286XlYz4DwvBcUSPADM5IFhDyQ9PDpaVlMT8uyZX0hIeERERkZGfX392NgYnU7f+1Q5GXg01nxfS2EeOjU1NTMvtayva2SMQhlrahobmaSBRzKUX7ovfTOEB+94KczLBJmy8/Ka+voa2seaWvDQ5vNdiXdn3woBdc33NYlrF4OuK2zBz4s3sQu4olX8JLStHS5ZTghzbXlisARdBjJmZqeWNZVVNnQ1tQxTWDSmTBWU7ZcjF2nJTVB6kGvrw161y++WysK8yrquyQnaMrG/pKVB5nL2hMdlzeNbCusqdyaGChzGFHbhB+eYkqBNmHOD+K5CzPD85Pw8a364pbCrb3COsjn8CrisVXxLV10DumRwYnkNZN4M2erpbHRJ08TyHB3cADuzS660qx9TMohfXqO/vGa8LBRO8AAgZjDOA2GDwbyxsbG0tLSoqAh8EKsdPA4OVruCIN6TP9haB2YtkDW7m4ry6u5hMvsVLCcjvBIUUfAAsW2/vLxMIBCGh4cHBwfBh8NY8ooFtGkkLdHs0qe/+tW//kouf/7jf+nYizfwI/wUUFDBA8Tj/MrKCo1Go1KpQPyHsuQVComBWgcsf2gSIgd0XmFL3zyLhozwPxEUV/AAMJjz+XwgewD4gKgd4bVHoQWPgKBoIIJHQFAgEMEjICgQiOAREBQIRPAICAqEogv+5fzqDm9QmcFNdXXP0uX6XURA+HGg6IIXvJSTZ8QbVALC1HTSJA4qERB+lCiu4LlcLmlhobqurruvj85g7PHq++HY8XKIJPRVwsJRRysiQytKMLitY0/kAGLoOExJRWhkxSj08qmEw2Z/CbBwmH60r4UvOnlXXeTevCaURWBxP0amZSxqf3Okha+rr0Vk87bXY0Gb+zMjLQyNNbfQN7EOrZ3rJUuSACBPPs2Ryb5bqe4aWthn9mP6+6n9xZEWqKw86YuuUGoRvRmTnB1ondc0tyRTzIs240eLIgpevN9mhkisb2qKTU7OyM9v7eyk0em8AxxU783/BcGPk4eKAn2K8qvHZd673A2YXsjz1XHY7C8B1lB2Y6gm5F0zvEHmWAXoSdSb4hii+pluVGO2zHut5OH0ALW/n/7w9N+VAtIHyVL37dCbgmWOGkc++vLY519duXLxypUrpz6/fPrr8+ZFUXWSw554izNz7fkZNpoGahclaa6cunzz6gWT3ITM7OEyH7V9X26TepV+wWb8mFFEwW9sbKysrFTV1vqFhaEKCoITE30jI7v6+hiLi5IUz8sPL3iRQCjY4K+DSxHsOyHZQ/CHzf4ygN4j9lI/agx515QqDfrf5hJXG+Nj6l6lU61AKGIYHfgGN62b547/8fi5o1pu5fitXfqQ0rw1jhhaOeTXcrnQS07D+X3h99//80Otp6XNcImMjsQK+7P/9QcdTafNNNxhwniuk2ZUkn9IQ5nPzUMK/sWa8WNG4QS/vr5OplBKKioyCwvza2tbpqaK+vujy8pCMzJq29sZS0t8+V5udiFr2qnd1Lx2/IvTm75roGhoBMNhkjPtNQ3vghTGhhaRmf1bRjWwZmtDNU30IYNQYnNCcTtyQXGa9pnJJRWjoxWhoRVxQb6ZofqG+qGRydlNoxWBwCbfFqVpCBUorQvYpb3NkQZWFz/65E9vf3Lm6vmbOwuETHo+iw+Ztb72IBKqUqapYou3pMLXMxMdbejrADVIU9PeNxnTvOmJhbM0N5ZnHRm0y/SVwpte6E/3OX/Szj40ekwEe5EH2aiisehQe7uT533S+xdkHNXkdqEeqNpH3FXTcFX5QjemOVd6JhOktO3vjTO7CXX+ukdVTSxT8+mcJf5Ye4yH16nrDxwLUK1zm6+aMtdYswPN41OdJUOHHuFfoBmipR/3EK9Aghdb8kQSqbG9/VlaWm5NTefs7AiP17yykjI6ap2ZGVRQUNvVtUCj8Q5YaBeIRGuL2NzmqDu6F69dPKWsfOm88pmP/v6N9sebXt/5nEX6WDY61MhE5cyNK5eUT4F0uneimnOxi2t8joA+Vo9yslT96PLV8+eVT11RU1HxwGS3McS50v0N7pw/ce2ykjLgho6yCSo2C9VR66N61lBHRc3OSl31lk9AeGgJJlhF7Kai1uemJEpZ9Zby+a9Pn//2pk5EYy52lkLuqg3QNjn9X+//xx/ePw7sTpkCMcGqkAuKRtzK5FSFQ6iZ2vkTylCdsk3l0QVAD0/tzn5+x9r0moGesrLSZeUT59XMQh0qiJMrPDAFOsS5Eczl2cYys0+tbR318unTsCAEK8S1yiduzi6fmpU1zi7D73tDvTpbFVXopKqf2BEc7VPieUbFNieqalZyROwupa0vto9We97/RNvaIbuMvLLMrMy1s71/TC+4frpn9xvku4UKkCP4F2sGVSR2iv+jRYEELz5VrqKuDhjwuRhMO5E4LhD0CYX1AkHm2po7DqeXna0fHIzp6qIdsNAOHgezHYmmftc/MEroyx/mcpkkLi4h2itQ6vWdRRpudvu7nYORZhJunMSErL4Eow+u+5kmdsyySLxmt6d29u9oJBSNkRa4w6SFiiQUtrWNIc6lra/5gVNtHwE2SLk8Lo/Pp7ZOldloHP39NQ0n53ruNGOdT22Z3O76ZjOKu9AYU+R84dhFd1DXjJDD4U82x3j5q6j5V481Qq63NwuU+Jwp6yNUJOq842Dj5FTLheqUbarE8abSd299cCeyr2AEmLAEbq2Tk43DOzpp4nOgDiF4IKspAkrd2N7mg6fNw7CrSvhIVk3fIF91FGFq04881KsJfiGqGoH1Uy1jLZN1ARq3QvwSOiRHxO5SGqMDOkb22HkX42etBC6DN5sab2x/9T1n1JCMcS7lsIJ/sWaIzwj4EaNAgl9hMiswmJicnLD8/Mrp6RY2u1koLBEKEwUCPx7PnkK5j8GoxcbaRkSUYzDLy8t7eLAEw/eKCPL6aHX/C93ARkI3GEx2zuHJ1ImK6Atqnk6x8fhVGlcAWX2Ngbpf3Ldyyq2cnl+pg0442FQIk8tdwOOXabQZcS4HqzD/AQp5TWakADdZjZfG6QdPPPLrKCLogBYQIhV8jddNmSgerRlb5qrzqS5UF523wt/XwW5IfEtXgonqQ4+gzZJlm0qir0ylxLlYKZ+xiW+ZGwNXCkzxkchQd+/TGik1sLz5a8uUgeJmTG1h854OagSrC6tdPv7mdt9diC6eoJJFrBViV+UT1UD/SJ8uEAcNnJJeDQl8pOaDHlqYZk4vDKF91B4FhoCrEK2ILxk6iuvzb/76j7OamqqamjcNLLRcIiPyOrsmaatssqDH39fS/hOlSPQElQTXu41d2SHEc7Fjl//+nsszseBfsBliK+BHjAIJfnFlJbe8PDAtzQeNzpmfR3O56QJB1Pq6B4djtbxsMjurVVl5LTj4rpNTan4+6Ahg2Mv/iR6ef4ZDhxD5Zo4uQIcQ7RD8+jCxK/bJu7cfqzl4FRZmFQKiE8Mt1P541tAoLmWcRu+Lj3Cz/kbZzDM+Na2wsLy6rovAJC9CjuWfiB3LS4cgMVJ9ynVut9Pz3MQ8FuXy3hV7UBfsK3c/wXv41pZ7nFUJfLqVfXphNNP3+Hf2ZuHRg3Tq+PbFyJ2PtsPBXxZRy7IdrHU/0wtpme5dnCUPFwao6QcGb9nAAjZ5rTcg0MroxEkzj1jQLWmpsR5mJ08YWQUG9K6R2QJYaeLl8c++PH/624/+8PZ32u8+qewirkA/rojPjTB58p+XovPEbv93IJP9BJiaQPOlzbnY2xc+eM8lFhb8izbjR48CCZ7L403MzESj0fdCQhw7O91oNFc+35bFsqBQHk9O3mlquhwUdPHRI/eAgKqaGhKJtKc/DOgQIvFBpdAhRNAC8w4ZQC7ibTWP/P6tX7zxxj+J+dWvfvUvv/jZhxcgEXLpHHzrM2OrD3/55v/81a/+6Z/+z5EP1WOHSzsljuVtf0jB2zqUJRsfveJjvJWdTseXJYvPZq2lzw+/DMGDgoUEcMleyh8YpwyXdHbgG0K0bgb6xW3ZwLCRr2Wi9NbPf/7LN0BvQT32xi9//vO3lEy0Umfx0LG2QGmS5fFy0lhfgprh/QdHNFPL8fAETCx4Tf0/ve8aLXb7vwOZ7JsL+JtzMUNb5U2T/kWb8aNHgQTP39igLy3VdHR4pabeTUi4V11thMOZzMzoDw1pVlQo+fhcs7Q0sLQMjYiorqkhEAgsFku+Vb/LrN0pAy6W2BFl/u71B9fMHZKTnyWLSU9OLqntxE2tCriCVRqus7ckOSc9Ocr5vp32N589SPJCyfNzLkaqz8MIfrV3piHU4NhdW9uc8lXesmBfwbt716CdT39ibelb1SMSsaG4GfJYlv9X/7A3C43sf0kjPGTnrhIq/NItvzvpUuIVFdGFeqRqj46sIGzawKtiI9/N3NggKDkyEe6wxMjkIANjczdVePxchZQmmTxjuEvkqYIM70d3rqiYpnRWTa5C58NTspPMza4dMwhsmOkF5e5AJvvec/gXbsaPHgUSPBiuwaA9NjWVW1X1OCTkdnS0Khqt09AA/gvGdiVDw7smJk/d3VHJyY2NjfsJHtxb1NwULx/NiwHoQfLs+qYd6Ox2ViOlFpIBiTJeFn5Gy8spPoW4RudBtzSfw6GPjVHIZBqPwySOUShk4poIxDB7UuoDbh27FWARheppjDL6VPWhWXT4GJ0ie/CSVJ+HEPz6bNVgpvXFE452QfXDYIotovakeEVpX/KqxDVIv1xp9uBnzY1Rhp+q2jqmSH5SWu2dbgnR+0wXWnOeoy+DOfy+gudzmPSxup7OttoeIoUNrdvvBXMouzFW91O9kAf6jzOcVB8kdmQPbS6mr8sx8nf2M1lWsXyWiDpW6pPw6FvlBxH+uVji2hpPMNwc4eb2jcojz/L0bvLmHphVDnthrIcw21d+8Mabl9AM6Dv9MaNAggcTcjAtp1AovQMDiTk5+t7e3zx5ci44+Fs7u+/u3NEzMXF9+jQmJqa4uBjkIpPJe7u4Y4mEDUUuto+PavnCWzIkdqCe3lHJOpyQOT+EcfzA1t5EOw22A0EeEqnZza2itLSOQRpJc6uoKE0THx46UTSUYf6eeYZzYRttqhSlfuzCNa2/uUlWsyU8j+ChRWPfq0cNk5wLx+HWCyeKXDIt3rfMwhZLLd2tAkt6p0qfqR+zt3F92gwf9oQrGU4x/kDZC176hlfp9xU8/MvChzo3L793R7Juvyf01qk6L/Vbxte+umaiquFdv2O/zU4jf2c/43YM0ZA7e1yxs8axi/qmiXBnit3+f/fOm3e1t/bA4EiEIrc7MSkBoQdvvHk5zZBk+3GiWIIHI/bq6urc/HxbZ2dsVpaRr+9lW9vrZmZ6ZmYubm5A7YWFhT09PUQiESQDieUv2kEjB4VYGY82Vr18S/P8LS1dXU1TM9XLty1k1q7pFPBUCTYyUr9+R1NdS0vrtrb+uftBYUXdC8vzy+UuYQ66J65r3QIxV3R11exNC/sqiTQua2aqKT7GVV/z8jlN9dsgl5aBqVZYbX5NwX6Cr3K9+dnpM1+ev66lBcq7paGv/tjdtXSghSgZP5ljeV0Jmvdvaqpc0dK691jLPis5P7VL8jt8w8TS+GjBk2AzUKcWVCdozy1b09TmYhxtVfw7/P6CP8TPchK4hIWhdB+1kxePXzyp5pM+tECAzsSGWB3ObYnX//L+M7ccrMxCN9TP3UmOgSpf3o9pyW2q2a40UCBtabym4MmNR7ceXzHKL5tdmqHhZhrT4k019TVVzoE+h3rwivZ9jftP63KLig/ceNP3kprxY95Tr0CCB4j33kCan5tr6ehIyMw0cXMzd3Ly9PaOjY0tKirq6uoCamcymXurfRNS50y5j+E9dWh3jLq6iY+PlUeKT0D9EJkJ6wzcJdSx6liUibLODXhBWP2esk95eidJtMYQDaenB5jBoQCze4bp5TMM+JekPXLV1pOHigKgre9jkq3vzDFJSBaqo9JZ9eOvv/n712eUlS+BLHdd9APquyXNgAGJu1EB+jp3Qax4401+0dBQkY+4QD6TT62vjnUxAZFQlTLt4TNFICq/aOu6doWsMWaG0w0DPHZVKgcmk9xdH6DvYrUzMXOsujvPQz+2Duqf7ZA60+ti9T3yuqu7u8ndeQH6saj0zmFQLxzLZ5Kp9QGxLh7SNm+GQNcqRv2eoU/5TOc46ISd2SWXE5viYZheN8MYf3nN+NGiWIIHiMf5tbW1+fn53t7ewqKilNRUFAoFLPnu7m4QKB7bJan3QSgQbqxzuVxg+XO4XN76Om+dv74OneG/+ZwQCjbW+TwOnAJKw1nf4ENb14UiAZ+/zhMHczg8Lpcv83SRlws8fUAo9GFz6zuoXRwCbaEJ0rjh7xXdMMHhrEBZeNxtzRAn5kvbyuHx10FBWwWC/9vYWOdtNki2PXAUH0q5WeCuECEomwuufmelcgDRoFYumFjtSAyCBXwoEO6fbYDSoSx8kEJ8FeuQe2FJJFwkaAsPXNxmmyUhkv4DgOteB/0nN7vk2kHdUHbQJy+tGT9WFE7wAPCNgHEeDONA3v39/c3NzY2NjeDD7Owsi8UCUT/ur2w7u6f3CAh7o4iCB4g1z2azyWTy9PQ0Ho8HV34oS/7HBmTbF/p7F+ZXbVr7CAh7o6CCBwBhAzMPmJfAvAfKB4bfoSz5HxtS2x4yzhEQDkBxBQ8Qax7oHADN8X5aYzsCwvOj0IJHQFA0EMEjICgQiOAREBQIRPAICAoEIngEBAVC0QX/f2FxHvIM2dJQWhkW1TJKZcl5o3J1kjpaGRVWWdowuZ/b4wPLQUDYheIKfmNjg8Vi4QkEEpm8trYGlC+JeNXsev9kJ9LNc1Hlo3R8ezd+cmZR4kFRlgPLEa3z2HRiL5R/67VN6FQs4swkvruXSN/3bdaXz/oimzLSW1tVXbRFeXV99zSTLOdxBRpPIfbWtje31/Zuf/FWXjkylBcVdfcOjRIpI51y0zT21o8zmLJvHysSiiv41dXVcRwuNjGxpLycODd3kKfal8fhBe8X2tAYrqERHpS06UFRloMFv8ggNKbrQvnTpa9tQqdipScFhWvopjcSGN/XEf/3YrGDUOmo+/5bR36zxe+OfqTxbKR0UpJEBtD4ynTd95W/VX5fN71StqnyypHhd7/5jYauhUtqpeNNuWmO637k3jwi+/axIqGIggeDORjSe/v703Nz47OynmVkZBUW4vB48AiQpHilHF7wkcXD5JHahhEsTp53xIMFz6DjMSnwPvuUGZHEN6yAK1qdwmFHGpqmyCzu5vupPwjgusrcNI4oq14zs0ehYlEoVKRTmLOm2hUtPaeUqBY6VezpXszqMLEr4onqiZPvnDzx5ZOIFuKw9Mvh0lhzPU3o7FxQQkIkKlD/3hnlj35/Tc8zxBeEoDJRqIamupz2MjdV2bqklDQV9lOW1n4SHuhePgoneKB2YMkPj44WlpXFpqUVtbQklpYGpaYW1NSMTk5yuNyDbXvIKp6bncR3tI1O9FV1NBYXF5cVFzd2YGfnxJbz+hKbju/twU/OLklMcdmQzZfMr6lE5lXk1ezOvsOkh3MxOUzaOKYXSgxR04HtxRPZk6g9yhHwBGtLs22d2V52p756oGtsnlCcjoay1fXgKXT85CS+pwdPBx+wYx1VfROjbR0dNeKSG3vHR+aZ8yPiurY3DDaz53rr4LQ7oiDXNwzQwq6Out45+a5vIMFvf5OcOUZuj/a/8fkVZcMLzs0d81srEeuz1cNFlmr6jy99eeHe8YvmWYPVs/IkKn7qbfMzDbO7LgQYhRM8kPQUgRAZF5eYk9OAxY6urjaTyUltbU/CwtJKSuYXFtYPPGFu0yq+ct7R8/5byseBmfjb3/zmC2WLTcsZ2JyN4bApvWmKy4aInb37Bl/4ztb9nrzsUsHLmPQjpJF69490ocQQR5QtdJP6CH3xe5TDY/BmO5LMHT77pzf/xy/eeONXv/r1b34NZ3tfI7yyMTwImPQa4Y3gg4XLlbfuezqeV1aWGL/Hdd1tckdybcR1bW+Y1MyG0u6IErFII82ghbd2WeBSdotQKBCuzPBqHRzV9d7+m1vsMElq2i92JDSEqt4MrLGyeZxgeOyaX0VCh7z5ByL450SBBA+Gbg6H0zs4mIFGpxQVVfX3Dy4tDfH5DRxOGonk2NBgn5cXlp+PxeGY8k5M2kJ8k9ncPf3eOUO3IL94YFcGB+pfvGNgq+Lf0klmQX4OxYrd7aAGhIgFf5jsUvdVHlENVWGaunr6Vk6BqNgElL1PTIZ3fO9Cb7xsOajYCJT9PUNLLxX/xk4ymYCra0ywNf36M43b9/QDUZEJKFRuDbq2c244LhJMBG5ChfsaaZz8P8dv2Pg5xoDsISj7a/c0rnx67aGlb2TotgKhhk31ZdZGqhvbuDr6RO6IAiPzwa5v5IpwXeJ88uqxh5vOJ4FhTx/ODUk2VLPLH8quSG9PfqhqkBCSOyznNwtE8M+JAgkejO2jOFxWSUlAUlJRX18bnd4vFDYKhQVCYSyX6zI7e7+kRCcsLKGwcHBsjMvl7vlznfgms9I696GyQy6ueV7EZ85R6+yeGhkevxiQJfZzeKDgZbMvz1JLTe0NHn94OboARyXvFryNfRnK6MgVHyOowDWeCDs2Nl5XMcrEJsiWI2IviLp8vR1dN0+8kjeHFzdeKngrre/eV7ob2VoyxpRkf3jlyIfKT3YWmFiJn6hNcQ9X+8fDxGY0SLxGEWHDguzsJJe8Drm+waY98nd30vOvk+/6Rr4I2SJRV6X3kycfXnYtwDWQwYOZLVrrq47yd1I1TeiYHSINzXYkmKo6+UdV962J2PD0YYv9BO+uceSGlrqTT3FxDjxbEQPmLOMMkaIu0iuS4GkMRmxGhl9yckxNTf3SUpNAUCkUpguFwQKBA49ntbR0v6vrBgp1y84uPjubQqHsaduLbzKfgBtqCbU4Gg08FoRM4UZ9gbO14TFtvwp8x+QhBC+bnUcXEpKeGdld/sA1eZiEO0DwoEBgrAg21mjC6eQd5YimUc98g1Qky3iHEDycvXqCShUIJdl9AlTUEmp2FhiFwRcluwY8+cAxbXBuDHoTlykSYAqdbSSXDMxtoUDAh7zZcHh7OBWQL3jQrOm2Z8belz8wTh6G3GxCM6a0BL9gVY2kuik6XUinT9UlaagG+yXIcREpvhz5grfROPL7t375q3+CpypSwJzFXeyuUyFRIMGz2OzG7u7Q7GyrpKSIsbFYJjN8Y8Obw3FYXjYjkQyGhm6mpSk7OZl7eKBLS0FH7DnISzWztTwObp/GIhcboyMaPmX4NtwhBC+bXbAsWi3PtvXSe88lHdy1uwUflNTS9sxUVenWJaUbOjqaOjrO0Wj0EH3pAKfxhxD8ftllQlRDMV1xYZZ3L/zPv525cvOaDkBdR+f8d387+cURDSdwyXAvHIB8wYMRvrfK19L6kwvO+RMYkoi/QqRXWTnrnn/rz1+du377ts7t29fPffXnt87rOltV0YnQaU8yiFsoX/DQLwK3rpraJSXFJG1R3NjfTxaxFXSRXpEEz1tfnyOTs6qrLWJiTEtLLbBYazrdkko1IhDA2H4rM/PK06e3jY39QkKqa2qIRCKbzd6Q6xJjtzAEK6I1maNLp9vwtYEa5zw9whvGwFQCJDhA8OLs3g/3EnxcNZbcXeGv53TnktLZ7079/fentW0eJAyM9sVH7afYlyr4jpgQC63T/+PolydPf3tJyh0tPf+kbjJ07NyByBU8f0nEyE95YnHrmF4AdOrrOps83BegZqN56u+nLp1VgitROnsJ/EvTRi2gb5i8XariFiJz+EOjQIIHZjDQcN/ISCwafcvbWyU5Gej80djY3Y6OGxkZJ42MbhgYWNvaxsTEAMHjcLiVlRU+X95UT44wgBUqPrrUKWlofoLehi/30ThmbOta3CS+2/YXvCS7w1XxXStH8G3Twg02b427xl4iDo/F3TZ8oPeOWnhFQ4jffop9eYLXiMRM5Sc5+5m9a5/cPTkI+lHC2toaD3IRKc8S2olcEbJIopanrpr6f37PKQp0nXCRgW9I074Z5B0dN8YmLsGVLBHZY3HR3kE3tdMa8NvX/8UtRAR/aBRI8MA+B1b6NJFY09LiER9/Jzj4YliYSlbW5YiI8zY2t42MzGxsAgIDs7Oz29vbn2uEl1ihVrZf3MluICyuQHebu8aRW48t08THuZDbY4vcznx6wdVGnuA5jKnxVFWLh/pb2bcL3tkuqrEBXT29NLkKzH/iarm5rbPzu49TO1rCofX2PRXLXSb2lJsfDwrwDegVkeFzpLbSPJ/gEzD4kaokj+Ab50zT2ks2z1Qi9/UNoNEDS5Ands7S3DjaLjrE3yq6ZUDu3v7dIlydpPYkReucvKthpenb377AXoH22yRbqdoFRFZ0rorE58pKpjzurve/tIqX3YEDELcQEfyhUSzBgxF7cXFxfGKiuKrKOSpKxdHxgrv7BUvL6/r6FkDtAQFpaWn19fVjY2MgGW+v02PFN9lTe6V/mPvGpWcUF6OzUhJc7xt5BOumYQmMNRFzjNQa76akbHDXWrzjJSvMxOvhV++ecraSCl4me05qnI/Bd3es7CXZdwne0dC+6JnFk9h0fyh1erGPxRPfmNuJjVN9sXvoUxKyRsNh45VD3U0MfIpTc+CNN+0DlFF4IvB8godChjqSyoOuGtj7uUWAdkDEBsQEuITVz1PmgagO9bPc9pXzDH+Uj67auatGrmlpWBG49PXZ6sECx4uaEV4pPTI+OddEImxdkJ3j8Ys2O3bg7Cd4+av0xY29GGQvvSIIHgAEDGQMoiZgzXtERFw1MVE3MrKxt/cPCEhNTa2rqxsfH6fT6XuqHSC+yUwufvTLX/2v3/zmN//8z//8v9/6zafWRs+aJ9YFXJBJKOBSJyYT1I0u/PlXv/lnkOD4JSVdF79/nA/ykQpeJvtvfvvWrz9+YhTbJMm+S/C+1vZl0arvHvndr6HUv/vnX6tquhTWrFKZ08n7C17EpQmmEuJMlD7+9T//FuQ9euUDjfBK8UTg+QVP36BQxgsTtf7r4l+giwb85gvtv7tghuaZoNWHE7yNxpE/vP3GP/0a5IXy//p3f/nrzbAe9Mj6ukAEClnsSKjwu3bscZJL0cT23heMFzonPtq1A2c/wW+vS8oJ3Y89WpC99AoheACYyQPDnsFgYEdGSqurg2JjfUNCwsLD09PTwdg+OjpKo9E4e54qByO+yVyenPtSz8E/IiIpKSk1K6mop2OCCoxNiRHKZa1ONXZU50hWhqurm/pHKqtHsCANdHjs1ERHdRHIJ47ekZ1LZZFHGjEjWOwImTyCAR96eufGMfm5GXBq8F9MYz+RLOCug3KwI5jGzV3x8D55OSHSunKq8zEjc2SoZFAsKBz6cGD2rRAulzU31Zi/eVnQkndBP3kJXkdbZy+R+wsa66rzG6fmxNl3AK5rrqcxP0uaG5CRW4AZXyKuSJNMzA3V5XdM9kuDNlkh9k925NcNzU1QZcqWXGBvXUH/5BJ7K4+8uiTItFkBUTjBA4CYwQAOhnEwzjc0NJSUlBQWFoIPQO0gEDwO9lM7YPdIiIDwE0ERBQ8Q2/bLy8t4PB6LxQ4MDIAPYNjfz5KXggge4SeLggoeIB7ngeaBDU+hUMCHAyx5KZAZOTkxNFzfOLkg13ZFQPixoriCB4DBnM/nA9kDwIdDqR0B4aeMQgseAUHReM0FX1RU1IyAgLBJXV1denr6ayv4/Pz8GgQEhE3Ky8vT0tJeW8H39PSAyTkCAoIYOp2ORqNf/zn88nT9dIMT9FfvNF3jOFljRxwqYjAYHA5H/oZ5BITXkdd8Dg8EL1hnsxZ6SD3Rk5VG0F+ZEa748Vjxw9Fa74nuEvL89OrqKrI+j6AgvP6C5yzhxwo0gOAF/DXJ3zr0N9sS1h57sbeldA52Sn/wfhsEhJ8+r7ngMYVBsy1etJGsNXqlSNQg+7dKqSB2J3fmmXRlPxosMBsoMtn6Q5sMl7uRpkeYTCaY9hzwLKBiyZ15/nE1Be2ERZFIMj3groimyqvSsjz8y1vIK1Rx4F6IE9fX+5dPkVeQjTwIr5DXXPDlCQYjeVc4iy0iUb1I9EwkfCYSxEJ/GzGijRrOYsdYlVV/tm5f5p2uTM3OTA3xX33IF2XeHzdVZeFwOKD5/Sf5bGx+d7yhskmSX+EIbfONzo3luaVymwArG6X7aaXTDDIcuCecJdFYXkFZmUPe2PwS5CAHAeEVoQiCP81ZDBSJ4kVCoPNo0XqkiBshWgsTrYaJ2CkC3vzGOnvH33CVW6bT0Qh/u/LycmDw7++pnlATmut4+k5obVoXQ2oJrJInOoOUPD1dHmVMExi8g2YLQpFgfZ3P56wLDuU6BgHh+/K6Cz7OYCTzFIfhs6n2KBEvQsQBag8RMQNFK2EiVp6IWSxaKRQto4WMPAEtR0TLHinWynA6EupjXVoqmeFLCt0JML+n2pN8A1Q1XfKxdbPSZDQ6oSZFV9XLLTqsd5HCxmGrMFlOqCyUU3CwlZjg9KqKKRFsv9NWyL0VAYWYKuyUaIMrWpxuLyjxt3pqJ04I/sf/WUF71yJ3dWMKW1WS55NaM8qYhtzXQLWDkgsDKnrJK8C4EEPDVrWirDydoMxOngGoVjJ2M4493T5a4u8jLtrJ0wrVWiWNQ1AMXnPBl8XqY9O/XaN7QzY8H6g9ElL7WoiIBdTuL1ryEdE9RVR34YIrb8aRMmiDb7NcHjQfyPwWCD7kQMFvLIuWyvMDPA2VnZLa50ekLhXY2LnueBtlEw+/wmry8gqtPN/LTfdjbTMbXUOru3e01NSVPtewCrApX5pb3oAS96bY3A6KiqseWJ0e6SwujvLwfnz30f27d7VU1K4pff6ZjrG0HNm6xLWHxZhqxNfiaWTR+voafQHb3pITHOd21/ghyH1e7aayZlR3PpYtWF/jLGD7KuPjvB8bg6K1VDR01L+1LYyrJ0rajKAYvOaCL4590J/2FZvmKeKLjflwSO2rgSKmv2jZR8TwFNHcReSnfKIzY9i2Ks8sOuRRb6lBc9xXGY6HEPwqWdQZFOrpdfpRZu00Y8ugJ9RM5Doq3Ql1SeuaYZF5II3ZlY+/Om+QNFQ6xl6eH8elPXTy9FQK6pwgr0KJi92UnNEhFbUkXEbIlVO25sH+TexpGptNahmvj3h4LzJcWo5sXeLaY2KUfFrHFlhCcMXEBrS5kp93cEAzlJ3UgqoIvnPKMTe0hrC+RJxHm3v4el3ybxqC4wjdKO+UgYpueec3Iby+vPaCvw8JnuohUTsnVMQOEjEDRMu+okVvEc1DRHm6PutEHrQvzbVFpfjEJofFxTyJ8/hHrNWxQK8DBM+lE6ZSdH293DTDerEU9pZB355UE6Cq6pIfXTe7SCfgUnQjfawehlWWD6/MM0W8xZm5nMeBYcHaieN4OgckxoRpGSZ2RqahGhP1zKwDwrO6hqiiNb6IPV7an2Nn4FmatFmObF3i2iNjws0LqcQlPnu6sb/Q/dETt4D0BnF23mhxX/qTM875wVVYJqkb437d1v6puFIRj762ODU0tTgv8WWLoCi87oKPud+fcoJNcZdM3deCYWPeD1I73VNIcePPOc/12zdXOMYnBaQVo9HNjYHJMR7uWu4WJzzdbIqKiohE4h6CZy/PdZfbKHt6+DlV0+YlByRsgJqx+QHwsn174Qh1ea633OZ2TFRc/JiIBi3Ar69Rx4diHkXFPHOqJs+v0LD5YSkmt4JKW8NCAyMeq1pldpbjgL0uEIk4843JlX4GTzJ64XJ21AVql5a8QeMsEaqj0iyufKXrZhaYWS8mMzAryPSqX21c8+QysbX4ySkLgwe33HKzi6tb+iewC5y1dWS7kcLxugs+8n5/wgk2yU2idmDMi6fuwJinum2QXJg4h6oC28BQj8L6mi4iEctmF0+Me6TE3n+ib+Vgm5OXNzs7u4fgp8m4vCAlHS+XtMwZ4eYRSKsiUVdNqKfj6UchNdNdDAIZVxyk5BQTUtGyIQJmN9Su2bZ8E73YyPTMGRaD11kTGuN2xhZdF+Xp6n1fySdjlISDVurXRaL53syouIeG0c3icnbUBWqXlrzKEnbVhJkbHjvy4dF3jr373vti3nv3i++U9FBjFZOCVfJ4m98508tHj7zzHoj+Vs/TAj1PXFJQv26KjGIIft5VxAZTd2DMA7X7ihheYOq+PudKHnYsy7dLyw7LqirvmJ0ZZLN7NjZKmczg/h7DjBQNF+fAxMS+/v5VNlvO3htaO6EmQFfVxS26rpe9ecghly6aSkny9VLVDMvHUmbn2gmYMF3DxPDsfonTZfY4qT/H3cAzOqmud5HOxqUkRcZoPYzvLPP2d/O6rJ1YjqdDP9pvMEWLmNK4aLtHYaWjcDk76gK1S0veWOYvluWH++pftQ6IQaFytigsrWyZhOYR/LUV6lBlR3VOany4z/0v1R9b3YwenKKuwY1GUCBec8EXRd7rSfiSPeciWg2Gp+5+IoZ46u62MOLUVO0QHOuZWFZYPz3dz+V2CoVVQmGGUBjAYJj19FwJDTUNDc0sKJB/aDy+aiLb/pxuuEt695wIPkBOtMalj+BTXALdg+8ENnWTWVRsfm+K2e0gYFRLunV9vhFXHWDhmJ9UhiMvz9HKbcJiotSC60dy7f1dn373OKduZnFRtL7Oml5oCEgIiTLzbOpfYC2OlwymWp41iPXIHaBtcPlLeEJdbFawGWyuL4h4i6K5nPTgiAe6yXUEOrSrT7Au4izQ6HT8wip3fZFGo+PxS1wumG6sM0lYjNtVByfn+2lj0wxkk4/C8ZoLHh2p257wySrRETbm/SS/w1HcRAuuQO3eES6BWam5w8OtGxv18LnRcUKh+8aG7eqqycyMWkmJiq/vIyenjp6e5eVlSblS5Ah+moLLC718z9slLR3Pp3OFhJrQYjclJzRkVMN5REu9mT3Jxh7F+AqcgEXGdQYpxcSEuJcSelBGrk+ebAoemP0NaLNzPp4hvs18Eku42JOBibj7nV1WcOWUcJUi6gqNfHJNaq5LBO/qrXshMHeCTADVrC+J5tG19fWh6AnKUkttLSY0tItCAdONpcXZtlyjB9HhqemEjYM3BCG8drzmgs8Pv9Me8/HqjANszIOpu5eI6i4iu4rmnXFddtk5dg5RPp41lXFUavT6ehCP57a6asVgGE1N3cFgLnh53X36NPTZs/GJCTZbfFCTDEwcqTvNw0DX8O49QysrS2gvi5ujc3Rscmlt3xSBzeUJptqTIsO0zBM7if3QWYvQPpnejISEhy6onvl+Jo1OwKToGsaEZ6OnKfOdYdH2eme+uXX3kYmJlYnJI71b36jZ+mcXUqGTqqD19vgHZ25oX9J8CO/EeaKn9uDuKfOIFrhkAU/EJnSkBvhqKOmZGj0EDbFxsHoaHolubZwkscgl+ZFPdZV0zY3MrawcHZwCwxOLK3tAC0U8ZM1O8XjNBV+caN+doT7XaUDpf0ju0SN33yd33iW33yG3ao/XaFRlqtl7aBvFBZi1NFnPzz2h081IpEdjY9pV5dfCg88/NLD18KioqACdIm/djsWiDjRF2vib6W7ibOmQVzu3CHchsJbHegvK0hzy2uSHLCzOteU5pJUV9I7xWRxaEybV315XVw8Uc/vyrYvnPvjawTauWXL47ELvXG2og6UhVImhoW5oqLNznEzJEAu9BbWhuuIkunomuvaZqRgcjc/iy5asa2ZiE5k5QIV+B0BQSF5zwdfVVo90l9VHfVXq8R+FLv8O//2b+A/t/G+ZDv8n1ObIQ1tlJe+n2tVV+oODBiMjmjU1F71dTmtd0X5wLzI6ur+/f3FxUd52eqFQuMHnrnHWoANOYThra+t8gRAeOIG1vLGxvs7bMwT8P399jbe+vrEhdp/L2yxpuHgg2/GMY15QxSSYdkNmt2BDAGqSVsTlcjg8mZIhBBvrfC57M8kae43HA9Egt2zJ0GGvXN4hD3tFeB15zQXf1ta2QJzsqonJjTENcbrpZXnR3ey89O+p6QU7E+UHxlrXLMwueHkqJyRcT08/7ep6Wu/e5VvXdHTvxMbGjo2NsVisH9JDBq09qQHeipMNzwQQEF4ir7nge3p6VldXCQRCTU0NUG9AQICvDD4w7t7eNp6eOq6u1z08Lnl4XDM11TU2trC0dHRyys3NnZqa4nA4P6R7DGCct6U5pLXN9f5A3wWCAvGaCx5ycSUQAMWCCwNj9eDg4MAuQJq2zk50VZVDWJimrW1obGw+Gl1fXw+sA5B+7403rwrIOOetAYN8A1lUQ3jZvP6Ch6baGxtA80wmc3l5GYTvhk6nz8zPdwwOVjY39/b3T+Bwc3NzVCoVzN4Rj3cIrxPgbn/NBS/590EAVa+vr6+trQGFg/+CUR2E/JCWPALCDwAi+G0AhYuR/BsB4fUCETwCggKBCB4BQYFABI+AoEAggn85ICt8LwcOaYXYW1Ha240lMWF3IggvF0TwL8rGxsbq6ur0zAyZQuFwOK/+NzzwWOGt0sjkKTyZyV0VO9r5acFf5TLJ+CkymbbKE+8dlsIcJQ+i/bzQuZWjlE0n/wgvEUTwL8oqmz2Bw8WhUKUVFcS5Od6+TuxfBkAF1PHawuKAkGIsZfyn+BoMa5yCLQ4JKC6sHZf4BZGCCP4Vgwj++wMG87W1tb6BgYy8vPjMzLiMjJyiokkCATwCJCleCUAFlNHKXLSXH3qQPPpT3G6/vry2OD04ME2YW+aAbpSEwiCCf8Uggv+eALWzVldHxsYKy8tjUlMLm5sTSkqCUlIKa2vHpqY4XC6Y00uSHgCfz12h40cmsaCxMNjJYRyJRsJNbwX1DQyNjMyt0Fa5fO4iHd9anxweaesQia4raoXi+kbmiJB5DKoE1j5xbqRvCNoxjB0awc+tyJr93HUObX50eExcKIRMGiFfxKPTiJMjoEi5UWQybnyORBiaHMMODIyMjAxMzi3Ms0Tr4qn2xrqINb8wNzeCp69w+ftpVdakF/KFspW2FtUVxDq45GQign81IIL/ngBJ46eno+Pjk3JyMIODIyxW08JCUmurdXh4emmpfK9Y8mExKf2Y0Cc+RtoSjHzMPLKrsj0it4K07xk9sU7rrx0nMSl9mFBLr4fq6rdvq2tqacJx2tZpybXjNPDsENHGa5PTrLWN7oEII6MnoWn9smY/aXGuKtPWzB4uE0YmDZ8pomFqk32sQZFyowqLPVzSskONfOyN7t2ztra+55OKzhwWLYo9ZXEWRcOZ6NS0J6GYfgpzv6kGbNKHBkImPY3P5G+rVFNL1+C2KSoBEfyrARH8cwPGdg6H0zc0lFlYmFJYWNnbO7C0NMTnN3A4afPzjvX1Dnl5EQUFw5OTTNbBM+ylqdae4iCfoNhnyXm1Ypr6WnomiZM92L4mSUhpWmFqkItrHKq4c4BCmeqvLIvx87e08k9Gp5XW1tY31bZNjM8tr6zSZ9uSSrPjwxIKSsura/OSi+JD3RIbi/tITNHGhohJwlY2pPn4h6QnQNkqamuT43y83Yz80nvA1IDDWcKNFPhnJzwLSq4tAZGy2fnMDUpNZUqYvYlbZHpRXmVTfVVNW67Xs8xcj7I50jL0aFtfJs2VeeRmpgeWz0+v7Pu027Lb+2aWcIOylZamoVNDrZyyMhDBvxoQwT83YGwHRnt2aWlAUlJRb287nd4vFDYJhYVC4TMu12V29n5JiU5YWFJREXZ8nMvl7v1zHTCFWZOYHLS3rWtma9UoXRK8mzUCFVsUY+USi6qsoYAxUe4cnsuijrdGOKakZCX2LdHZGyJ6/3wrysUpMaGwbwq0gzvVV5jwzM4hqGykdXYNFCoSDbVnJ0Ya+WUDwS9Sl2ab0b4uqenl5QTRMk+0LTubySXXVKKCHM29kpoXsKClvCURobAoL88xonWcyuJu1p6XV1RIEC3t/3qhVPBljePTTdlutknJm7mQOfwrBhH8c0NbXIzLyvJLSYmprq5bXGwSCCphX7chAoEjj2e1uHi/q+tmUtJte/vEnBwKhcLfcz4LTOHhzty8OIukGjx1ZmPvOb9wZYXUX+XrmZe7j+BJDGJjumV0XlZrH1/IBoUJifTpSpS5R1JidT2JySTVVycmuZujKgi0WcjlzXbBk8bIQ4WBXjm5FcMkAeQWf2f2+ZrK3DxPn4re+ZVlqKVrIkF/a3ZetGV6I5FBktae3dovgIreD6mq8wqGenN9TcITszZzIYJ/xSCCf25Yq6sNXV2h2dnWKFTk+PgzJjNiY8OHw3FcXjZbWDDAYm+lpys7OZl7eOSXlIAO3XOQ32CJmC31yWn+5im1s4w5SegWHBJ2uiUjPSk2Kio0NNDH8ZFNWMregudMUodzI0xsXa1cPaOiwqIA/sH+LhZ3rALjK2tmF5mjeQUJSU9ci1tJywwow3bBT/XONSc5uOembCmNsUxqLXZ9kpRQkDfKXJwFggd11gySmXCdwDxZHK8B5snTWMx4Y2/jOCb2qTc6p2Z8EY7bD6mqU9P7GhOs7ZITigdmxJ5/EcG/YhDBPze89XUimZxZVWUeE2NWVmY5MmLNYFjSaEYEwv3u7ltZWVfc3FSNjPxCQqpraohEIpvN3gAz6N3wmSIwMY5PemqeUrND8IJ1EYuEb8ovDHN09XJzdHd1cbI3v28VuI9Jv4ajDGWFGlvYGj2xcXd/6i7G2909Kq2ip4+8yB7Jzk9JtfSr6ZUodrvgcd1zmDhbx9SE0iGixOv24jKpvczdIikhP3t4t+Ah6Niy9gwnj6Q6VCKqLsnDKaO9DDL3D0Kq6pTU3sZ4S/cclFTeiOBfMYjgnxuBQLDKZvcOD8fk59/y8bmRmgps+Efj43c7Om5kZp40Nr5hYGBlaxsdEwMEj8PhmEymfKt+H8HDK975YWHGlqiiyfmpNQpluqvce1+TXjhHn6lPNovOTmvsXltjrEnhcNf5fN6KkFxdmZvvuaXY7YKfG1nozvI1jkrM6cDCcSLRPINYk2bhmhRfWT3HXIFM+p2CFy4Pz/dl+PnEeFh7xPj4ZfTND8Pm/gFIVZ2bPziQ7ykrb0TwrxhE8M8NsM+BlT5NJFa3tLjHx+sEB18MD7+RnX05MvK8nR0Y201tbAICArKys9vb2/cb4QUcEWesOz8h3MrZM7+rYWpJEg4Z+1RmS0RybKxxcMMAhcnmzNBGyxJsXeMhk17A5HMIjTlVYQ7JbXO90EEzYthMynBDsGtaan7GCJPBgWpcX12da2vDT03NCVbXOZ2NOXEBVkHZHeQxUJVkQhHlZeSXAQTPIC9O1We5OCallJXNiaB196UhUleah8OzhPzuMSaTQ5YjeNE6eZFQn+Xr+NTyqaNvVj1hkXyY3yKlqi4pH54sj7QLT8ts6WWK2BsizkzLaFmIrWuWzMwC4WWCCP65AYIHI/bi4uLYxERRZaVTZOQ1R8cLHh7nnzy5pqdnbmPjHxCQmppaV1c3NjbGYDB4PN4eC/VAk0uzPaXl0e6O/smJubX9YsamhycJC53xWSnPrAML6ho7+ruqG0sSfE0cIyGTXsTkQ7Z0V5ZTZFY9lGkA2z86P0dfZTEp+NowdEZ8SAamqb0HlNTR0l4Ql9XQ3k8Q8XgiwmhVYqaTtTeqLhPk6m3vb8tIDghwNg7NGaLg1tbYjNG+NLeMhMSIgv7mjv7+2oKGjFiP+JrCntkl8c9yuwUvWmNRhppCjQPdAxwS+0bobNg0OIitYbx5ktxREeCfEpOehOlv7QEXml6S4GHimL5l5CO8VBDBfx+AgIGMgebHx8eB5t0jIq6amKgbG1vb2YnVXltbC6LodPreahcjFPAZjNm2Cj8z90da0MYTgH2kbWY3kdrWmhXsqaapB4If2+jbBnhZ2iZCJj0keGBLkzrj/c0NoUybG2+oQh53nYitiE+00DK8Cxelb6rpXZrbToS3rwo2ZlrwRZ4WRnoaUK672k8sHhq4PTVLrpqhz4FWri/z5yoq4t3NNbWh3Fo2JlYpxVOUGb5AKJ59yBG8cI0+M5hslpOdierj09j7XeoWW4IfIbOpa73JWcHWUJOgC7W2DYiwtM1GTPpXBCL47wmYyQPDHkh6aGSkpKoqIDraJygoLCwsLT0djO2jo6M0Gg1MoEEySYY9WV9fo80PtvZu7rKpbR9qx1FXuVQqfqi/trYBhDS1N3QM9nd0TRDm5jki6Fj39aU12sRgayOUqb4R3nizxAGNEnGW5sYn2mob6+GiGppr+4l46ubefjZ1ldjf3gwVWVtTVluZEB2c4OFa3CFet4eOoJyfG+9tA0VCKdqb23HEVS6UWRxFmO4fnGesyW6qWVom9ZZ5+OXl1GAWRcwDVuc3AY1nTA/2TxNAmze4gkUcfqgdqhC60PaOwZGOLjwUBaqVZEB4aSCC//4AMYMBHAgbDOag74qLi0GN4INY7eBxcAi1/6Bwlxdo+P7hIXji0NPRj8nPzy2Ly+mbXDycKb4L/ur43BA63CE1rwjMGuC1ff4qb2WeMIrFwpXsYqC/f3Ryjs7gifiHMgYQXjKI4F8IYAgDYYO68Hj80BCkpKmpKbEl/2NTO4DUha4O1DEz0IEx0NH2Dc1u6+XyV/eddewDa7ymL8/TNLwqu5UIRneoENY4pT8t1MrIWFzJTu7r6Fj7pNRhaNDEBOGHBxH8iyK27ZeXl6lUKplMBvX+IG4wvg9sKp7YXyu26OG5Qv8QnnrwPpm9WV+ao+F7W0fmt2YNsnMNOYC5Qlvv+ObEBOEHBxH8SwAMkHw+H4zqQPngw49T7QgIAETwL5PvaxojIPxAIIJHQFAgXnPBNzU1zSMgIGwyPj6em5v72go+JSUlHQEBYZO0tDQUCvUaCp5KpUZHR7shICDswtbW9nUTPI1GS0hI8EVAQJBHZGRkc3Pz6yP4tbW1oaGhTgQEBHl0dXX19fW9PoLf2NhYXl6mIyAg7A0YFyWCecW8csEjICD8eEAEj4CgQCCCR0BQIBDBIyAoEIjgERAUCETwCAgKBCJ4BAQFAhE8AoICgQgeAUGBQASPgKBAIIJHQFAgEMEjICgQiOAREBQIRPAICAoEIngEBAUCETwCggKBCB4BQYFABI+AoEAggkdAUCAQwSMgKBCI4BEQFAhE8AgICgQieAQEBQIRPAKCAoEIHgFBgUAEj4CgQCCCR0BQIN3mVOEAAAAaSURBVBDBIyAoEIjgERAUCETwCAgKg0j0/wNzgjeuYtLf0gAAAABJRU5ErkJggg==)"
      ],
      "metadata": {
        "id": "HrZl6337wo93"
      }
    },
    {
      "cell_type": "markdown",
      "source": [
        "# create connection to database"
      ],
      "metadata": {
        "id": "ugyy8ErLqdZS"
      }
    },
    {
      "cell_type": "code",
      "source": [
        "import sqlite3"
      ],
      "metadata": {
        "id": "mtKE8O6nb4Yt"
      },
      "execution_count": null,
      "outputs": []
    },
    {
      "cell_type": "code",
      "source": [
        "con = sqlite3.connect('us_db.db')\n",
        "cur = con.cursor()\n",
        "cur.execute(\n",
        "    '''CREATE TABLE usVideos (\n",
        "      video_id          VARCHAR,\n",
        "      title             VARCHAR,\n",
        "      channel_title     VARCHAR,\n",
        "      category_id       VARCHAR,\n",
        "      tags              VARCHAR,\n",
        "      views             float,\n",
        "      likes             float,\n",
        "      dislikes          float,\n",
        "      comment_count     float,\n",
        "      thumbnail_link    TEXT,\n",
        "      description       TEXT,\n",
        "      publishtime       TEXT\n",
        "    );'''\n",
        ")\n",
        "con.commit()\n",
        "pd_df.to_sql('usVideos',con=con,if_exists='append',index=False)\n",
        "con.close()"
      ],
      "metadata": {
        "id": "YBs6lpR7b7AC"
      },
      "execution_count": null,
      "outputs": []
    },
    {
      "cell_type": "markdown",
      "source": [
        "**Testing pararel processing**"
      ],
      "metadata": {
        "id": "g4wCl85lfoZR"
      }
    },
    {
      "cell_type": "code",
      "source": [
        "#import multi processing\n",
        "import multiprocessing as mp\n",
        "import requests\n",
        "from multiprocessing.pool import ThreadPool as Pool"
      ],
      "metadata": {
        "id": "88_i8ATBfrpc"
      },
      "execution_count": null,
      "outputs": []
    },
    {
      "cell_type": "code",
      "source": [
        "sites = [\n",
        "    'https://github.com/veit/jupyter-tutorial/',\n",
        "    'https://jupyter-tutorial.readthedocs.io/en/latest/',\n",
        "    'https://github.com/veit/pyviz-tutorial/',\n",
        "    'https://pyviz-tutorial.readthedocs.io/de/latest/',\n",
        "    'https://cusy.io/en',\n",
        "]\n",
        "\n",
        "def sitesize(url):\n",
        "    with requests.get(url) as u:\n",
        "        return url, len(u.content)\n",
        "\n",
        "pool = Pool(10)\n",
        "for result in pool.imap_unordered(sitesize, sites):\n",
        "    print(result)"
      ],
      "metadata": {
        "id": "F1L4Biv9f4a0",
        "colab": {
          "base_uri": "https://localhost:8080/"
        },
        "outputId": "70be4092-3017-4bf3-d336-75b3c1c018be"
      },
      "execution_count": null,
      "outputs": [
        {
          "output_type": "stream",
          "name": "stdout",
          "text": [
            "('https://pyviz-tutorial.readthedocs.io/de/latest/', 33317)\n",
            "('https://jupyter-tutorial.readthedocs.io/en/latest/', 74278)\n",
            "('https://cusy.io/en', 30106)\n",
            "('https://github.com/veit/pyviz-tutorial/', 190461)\n",
            "('https://github.com/veit/jupyter-tutorial/', 219638)\n"
          ]
        }
      ]
    },
    {
      "cell_type": "markdown",
      "source": [
        "There are 2 main objects in multiprocessing to implement parallel execution of a function: The Pool Class and the Process Class.\n",
        "\n",
        "`Pool` Class\n",
        "\n",
        "**Synchronous execution**\n",
        "\n",
        "`Pool.map()` and `Pool.starmap()`\n",
        "`Pool.apply()`\n",
        "\n",
        "**Asynchronous execution**\n",
        "\n",
        "`Pool.map_async()` and `Pool.starmap_async()`\n",
        "Pool.apply_async())\n",
        "\n",
        "`Process` Class"
      ],
      "metadata": {
        "id": "BRcWqejdgNhd"
      }
    }
  ]
}